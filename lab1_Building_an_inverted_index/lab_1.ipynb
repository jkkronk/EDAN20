{
 "cells": [
  {
   "cell_type": "markdown",
   "metadata": {},
   "source": [
    "# Lab 1 - Building dictionary with Selma Lagerlöf novels"
   ]
  },
  {
   "cell_type": "markdown",
   "metadata": {},
   "source": [
    "Laboration 1 in EDAN20 @ LTH - http://cs.lth.se/edan20/coursework/assignment-1/"
   ]
  },
  {
   "cell_type": "markdown",
   "metadata": {},
   "source": [
    "Author: Jonatan Kronander - elt15jkr@student.lu.se"
   ]
  },
  {
   "cell_type": "markdown",
   "metadata": {},
   "source": [
    "### The objectives of this assignment are to:\n",
    "\n",
    "-Write a program that collects all the words from a set of documents\n",
    "\n",
    "-Build an index from the words\n",
    "\n",
    "-Know what indexing is\n",
    "\n",
    "-Represent a document using the Tf.Idf value\n",
    "\n",
    "-Write a short report of 1 to 2 pages on the assignment\n",
    "\n",
    "-Read a short text on an industrial system"
   ]
  },
  {
   "cell_type": "markdown",
   "metadata": {},
   "source": [
    "## Indexing one file"
   ]
  },
  {
   "cell_type": "markdown",
   "metadata": {},
   "source": [
    "* The index file will contain all the unique words in the document, where each word is associated with the list of its positions in the document.\n",
    "\n",
    "* You will represent this index as a dictionary where the keys will be the words and the values, the lists of positions\n",
    "\n",
    "* As words, you will consider all the strings of letters that you will set in lower case. You will not index the rest (i.e. numbers or symbols).\n",
    "\n",
    "* To extract the words, you will use Unicode regular expressions. Do not use \\w+, for instance, but the Unicode equivalent. The word positions will correspond to the number of characters from the beginning of the file. (The word offset from the beginning)\n",
    "\n",
    "* You will use finditer() to find the positions of the words. This will return you match objects, where you will get the matches and the positions with the group() and start() methods."
   ]
  },
  {
   "cell_type": "code",
   "execution_count": 1,
   "metadata": {},
   "outputs": [],
   "source": [
    "text = open(\"Selma/bannlyst.txt\").read()  "
   ]
  },
  {
   "cell_type": "code",
   "execution_count": 2,
   "metadata": {},
   "outputs": [],
   "source": [
    "import regex as re\n",
    "\n",
    "def toLowercase(matchobj):\n",
    "    \"\"\"\n",
    "    Helper function\n",
    "    \"\"\"\n",
    "    return matchobj.group(1).lower()\n",
    "\n",
    "def textLowerList(text):\n",
    "    \"\"\"\n",
    "    Make text lowercase and put into list\n",
    "    \n",
    "    :param string:\n",
    "    :return list:\n",
    "    \"\"\"\n",
    "    \n",
    "    textLow = re.sub(r'(\\p{Lu})', toLowercase, text) # Lowercase all characters\n",
    "    \n",
    "    stringList = re.findall(r\"\\p{L}+\",textLow) # This finds all words from a txt file. r\"[a-zåäö]+ equal to r\"\\w+\" \n",
    "    \n",
    "    return stringList"
   ]
  },
  {
   "cell_type": "code",
   "execution_count": 3,
   "metadata": {},
   "outputs": [],
   "source": [
    "def toLowercase(matchobj):\n",
    "    return matchobj.group(1).lower()\n",
    "\n",
    "def string2dict(text):\n",
    "    \"\"\"\n",
    "    Creates a dict with (word:list[index apperences]) from input string\n",
    "    \n",
    "    Input string, string\n",
    "    Output dict\n",
    "    \"\"\"\n",
    "    textLow = re.sub(r'(\\p{Lu})', toLowercase, text) # Lowercase all characters\n",
    "    stringList = textLowerList(text)\n",
    "    stringDict = {key : list([]) for key in stringList}\n",
    "    \n",
    "    for m in re.finditer(r\"\\p{L}+\", textLow): # Iterate thorugh every word\n",
    "        s = m.start()\n",
    "        e = m.end()\n",
    "        \n",
    "        word = textLow[s:e]\n",
    "        stringDict[word].append(s)\n",
    "\n",
    "    \n",
    "    return stringDict"
   ]
  },
  {
   "cell_type": "code",
   "execution_count": 4,
   "metadata": {},
   "outputs": [],
   "source": [
    "txtDict = string2dict(text) "
   ]
  },
  {
   "cell_type": "code",
   "execution_count": 5,
   "metadata": {},
   "outputs": [
    {
     "data": {
      "text/plain": [
       "7923"
      ]
     },
     "execution_count": 5,
     "metadata": {},
     "output_type": "execute_result"
    }
   ],
   "source": [
    "len(txtDict)"
   ]
  },
  {
   "cell_type": "markdown",
   "metadata": {},
   "source": [
    "#### Test with bannlyst text\n",
    "The word gjord occurs three times in the text at positions 8551, 183692, and 220875, uppklarnande, once at position 8567, and stjärnor, once at position 8590. "
   ]
  },
  {
   "cell_type": "code",
   "execution_count": 6,
   "metadata": {},
   "outputs": [
    {
     "data": {
      "text/plain": [
       "[8551, 183692, 220875]"
      ]
     },
     "execution_count": 6,
     "metadata": {},
     "output_type": "execute_result"
    }
   ],
   "source": [
    "txtDict['gjord']"
   ]
  },
  {
   "cell_type": "code",
   "execution_count": 7,
   "metadata": {},
   "outputs": [
    {
     "data": {
      "text/plain": [
       "[8567]"
      ]
     },
     "execution_count": 7,
     "metadata": {},
     "output_type": "execute_result"
    }
   ],
   "source": [
    "txtDict['uppklarnande']"
   ]
  },
  {
   "cell_type": "code",
   "execution_count": 8,
   "metadata": {},
   "outputs": [
    {
     "data": {
      "text/plain": [
       "[8590]"
      ]
     },
     "execution_count": 8,
     "metadata": {},
     "output_type": "execute_result"
    }
   ],
   "source": [
    "txtDict['stjärnor']"
   ]
  },
  {
   "cell_type": "markdown",
   "metadata": {},
   "source": [
    "#### Pickle"
   ]
  },
  {
   "cell_type": "markdown",
   "metadata": {},
   "source": [
    "* You will use the pickle package to write your dictionary in an file, see https://wiki.python.org/moin/UsingPickle."
   ]
  },
  {
   "cell_type": "code",
   "execution_count": 9,
   "metadata": {},
   "outputs": [],
   "source": [
    "import pickle\n",
    "\n",
    "#with open('BannlystTxtDict.pickle', 'wb') as handle:\n",
    "#    pickle.dump(txtDict, handle, protocol=pickle.HIGHEST_PROTOCOL)"
   ]
  },
  {
   "cell_type": "markdown",
   "metadata": {},
   "source": [
    "Open pickle"
   ]
  },
  {
   "cell_type": "code",
   "execution_count": 10,
   "metadata": {},
   "outputs": [],
   "source": [
    "with open('BannlystTxtDict.pickle', 'rb') as handle:\n",
    "    BannlystTxtDict = pickle.load(handle)"
   ]
  },
  {
   "cell_type": "markdown",
   "metadata": {},
   "source": [
    "#### Test of pickle"
   ]
  },
  {
   "cell_type": "code",
   "execution_count": 11,
   "metadata": {},
   "outputs": [
    {
     "data": {
      "text/plain": [
       "True"
      ]
     },
     "execution_count": 11,
     "metadata": {},
     "output_type": "execute_result"
    }
   ],
   "source": [
    "BannlystTxtDict == txtDict"
   ]
  },
  {
   "cell_type": "markdown",
   "metadata": {},
   "source": [
    "## Reading the content of a folder"
   ]
  },
  {
   "cell_type": "markdown",
   "metadata": {},
   "source": [
    "Write a function that reads all the files in a folder with a specific suffix (txt). You will need the Python os package, see https://docs.python.org/3/library/os.html. You will return the file names in a list."
   ]
  },
  {
   "cell_type": "markdown",
   "metadata": {},
   "source": [
    "Use function:"
   ]
  },
  {
   "cell_type": "code",
   "execution_count": 12,
   "metadata": {},
   "outputs": [],
   "source": [
    "import os\n",
    "\n",
    "def get_files(fileDir, suffix):\n",
    "    \"\"\"\n",
    "    Returns all the files in a folder ending with suffix\n",
    "    :param filedir:\n",
    "    :param suffix:\n",
    "    :return: the list of file names\n",
    "    \"\"\"\n",
    "    files = []\n",
    "    for file in os.listdir(fileDir):\n",
    "        if file.endswith(suffix):\n",
    "            files.append(file)\n",
    "    return files"
   ]
  },
  {
   "cell_type": "code",
   "execution_count": 13,
   "metadata": {},
   "outputs": [],
   "source": [
    "files = get_files(\"selma\", \".txt\")"
   ]
  },
  {
   "cell_type": "code",
   "execution_count": 14,
   "metadata": {},
   "outputs": [
    {
     "data": {
      "text/plain": [
       "['troll.txt',\n",
       " 'kejsaren.txt',\n",
       " 'marbacka.txt',\n",
       " 'herrgard.txt',\n",
       " 'nils.txt',\n",
       " 'osynliga.txt',\n",
       " 'jerusalem.txt',\n",
       " 'bannlyst.txt',\n",
       " 'gosta.txt']"
      ]
     },
     "execution_count": 14,
     "metadata": {},
     "output_type": "execute_result"
    }
   ],
   "source": [
    "files"
   ]
  },
  {
   "cell_type": "markdown",
   "metadata": {},
   "source": [
    "## Creating a master index"
   ]
  },
  {
   "cell_type": "markdown",
   "metadata": {},
   "source": [
    "Complete your program with the creation of master index, where you will associate each word of the corpus with the files, where it occur and its positions. (a posting list)"
   ]
  },
  {
   "cell_type": "code",
   "execution_count": 15,
   "metadata": {},
   "outputs": [],
   "source": [
    "def toLowercase(matchobj):\n",
    "    return matchobj.group(1).lower()\n",
    "    \n",
    "def addAll(fileDir,files): \n",
    "    \"\"\"\n",
    "    This function takes way to long. Do not iterate word in dict but build dict directly. \n",
    "    \n",
    "    Reads all files in list and matches to txt files\n",
    "    :param dir:\n",
    "    :param files:\n",
    "    :return dict:\n",
    "    \"\"\"\n",
    "    \n",
    "    totText = []\n",
    "    \n",
    "    for file in files:\n",
    "        text = open(fileDir+\"/\"+file).read() \n",
    "        stringList = textLowerList(text)\n",
    "        totText.extend(stringList)\n",
    "        \n",
    "    masterDict = {word : {file : list([]) for file in files} for word in totText}\n",
    "    \n",
    "    for file in files:\n",
    "        text = open(fileDir+\"/\"+file).read()\n",
    "        txtDict = string2dict(text)         \n",
    "        for word in txtDict.keys():\n",
    "            masterDict[word][file] = txtDict[word]\n",
    "\n",
    "    return masterDict"
   ]
  },
  {
   "cell_type": "code",
   "execution_count": 16,
   "metadata": {},
   "outputs": [],
   "source": [
    "masterDict = addAll('selma',files)"
   ]
  },
  {
   "cell_type": "code",
   "execution_count": 17,
   "metadata": {},
   "outputs": [],
   "source": [
    "#with open('masterDict.pickle', 'wb') as handle:\n",
    "#    pickle.dump(masterDict, handle, protocol=pickle.HIGHEST_PROTOCOL)"
   ]
  },
  {
   "cell_type": "code",
   "execution_count": 18,
   "metadata": {},
   "outputs": [],
   "source": [
    "with open('masterDict.pickle', 'rb') as handle:\n",
    "    masterDict = pickle.load(handle)"
   ]
  },
  {
   "cell_type": "markdown",
   "metadata": {},
   "source": [
    "#### Test of master dict. Below is an except of the master index with the words samlar and ände:"
   ]
  },
  {
   "cell_type": "markdown",
   "metadata": {},
   "source": [
    "'samlar': {'nils.txt': [53499, 120336], 'gosta.txt': [317119, 414300, 543686],'osynliga.txt': [410995, 871322]},"
   ]
  },
  {
   "cell_type": "code",
   "execution_count": 19,
   "metadata": {},
   "outputs": [
    {
     "data": {
      "text/plain": [
       "{'troll.txt': [],\n",
       " 'kejsaren.txt': [],\n",
       " 'marbacka.txt': [],\n",
       " 'herrgard.txt': [],\n",
       " 'nils.txt': [53499, 120336],\n",
       " 'osynliga.txt': [410995, 871322],\n",
       " 'jerusalem.txt': [],\n",
       " 'bannlyst.txt': [],\n",
       " 'gosta.txt': [317119, 414300, 543686]}"
      ]
     },
     "execution_count": 19,
     "metadata": {},
     "output_type": "execute_result"
    }
   ],
   "source": [
    "masterDict[\"samlar\"]"
   ]
  },
  {
   "cell_type": "markdown",
   "metadata": {},
   "source": [
    "'ände':{'nils.txt': [3991],'kejsaren.txt': [51100],'marbacka.txt': [374231],'troll.txt': [39726],'osynliga.txt': [742747]},"
   ]
  },
  {
   "cell_type": "code",
   "execution_count": 20,
   "metadata": {},
   "outputs": [
    {
     "data": {
      "text/plain": [
       "{'troll.txt': [39726],\n",
       " 'kejsaren.txt': [51100],\n",
       " 'marbacka.txt': [374231],\n",
       " 'herrgard.txt': [],\n",
       " 'nils.txt': [3991],\n",
       " 'osynliga.txt': [742747],\n",
       " 'jerusalem.txt': [],\n",
       " 'bannlyst.txt': [],\n",
       " 'gosta.txt': []}"
      ]
     },
     "execution_count": 20,
     "metadata": {},
     "output_type": "execute_result"
    }
   ],
   "source": [
    "masterDict[\"ände\"]"
   ]
  },
  {
   "cell_type": "markdown",
   "metadata": {},
   "source": [
    "## Representing Documents with tf-idf"
   ]
  },
  {
   "cell_type": "markdown",
   "metadata": {},
   "source": [
    "Once you have created the index, you will represent each document in your corpus as a word vector. You will define the value of a word in a document with the tf-idf metric. Tf will be the relative frequency of the term in the document and idf, the logarithm base 10 of the inverse document frequency."
   ]
  },
  {
   "cell_type": "code",
   "execution_count": 21,
   "metadata": {},
   "outputs": [],
   "source": [
    "import math\n",
    "\n",
    "def tiIdf(masterDict):\n",
    "    \"\"\"\n",
    "    This function takes way to long. Do not iterate word in dict but build dict directly. \n",
    "    \n",
    "    Creates a ft-idf dict from all files.\n",
    "    https://www.freecodecamp.org/news/how-to-process-textual-data-using-tf-idf-in-python-cd2bbc0a94a3/\n",
    "    :Param dict:\n",
    "    :return dict:\n",
    "    \"\"\"\n",
    "    \n",
    "    tfIdfDict = masterDict.copy()\n",
    "    j = 0\n",
    "    \n",
    "    lenText = {}\n",
    "    for file in masterDict['nils']: # Read total nbr of words in each text\n",
    "        text = open('selma'+\"/\"+file).read()\n",
    "        lenText[file] = len(textLowerList(text)) # nbr of words in textfile\n",
    "        \n",
    "    for word in masterDict: \n",
    "        #idf will be the logarithm base 10 of the inverse document frequency.\n",
    "        nbrKeys = len(masterDict[word].keys())\n",
    "        dictValues = masterDict[word].values()\n",
    "        lenDictValues = len(dictValues)\n",
    "        \n",
    "        i = 0 \n",
    "        for fileList in dictValues: # Count nbr of empty list. (There is probably a better way to do this)\n",
    "            if not fileList:\n",
    "                i = i + 1\n",
    "\n",
    "        df = (lenDictValues-i)\n",
    "        \n",
    "        idf = math.log10(nbrKeys/df)\n",
    "        \n",
    "        for file in masterDict[word]:\n",
    "            # Tf will be the relative frequency of the term in the document \n",
    "            lenWordVec = len(masterDict[word][file]) # nbr of occurencies of word\n",
    "\n",
    "            tf =  lenWordVec / lenText[file]   \n",
    "            tfIdfDict[word][file] = tf*idf\n",
    "        \n",
    "    return tfIdfDict   "
   ]
  },
  {
   "cell_type": "code",
   "execution_count": 22,
   "metadata": {},
   "outputs": [],
   "source": [
    "tfIdfDict = tiIdf(masterDict)"
   ]
  },
  {
   "cell_type": "code",
   "execution_count": 23,
   "metadata": {},
   "outputs": [],
   "source": [
    "#with open('tfIdfDict.pickle', 'wb') as handle:\n",
    "#    pickle.dump(tfIdfDict, handle, protocol=pickle.HIGHEST_PROTOCOL)"
   ]
  },
  {
   "cell_type": "code",
   "execution_count": 24,
   "metadata": {},
   "outputs": [],
   "source": [
    "with open('tfIdfDict.pickle', 'rb') as handle:\n",
    "    tfIdfDict = pickle.load(handle)"
   ]
  },
  {
   "cell_type": "markdown",
   "metadata": {},
   "source": [
    "#### Test of tf idf:"
   ]
  },
  {
   "cell_type": "markdown",
   "metadata": {},
   "source": [
    "känna :: bannlyst.txt 0.0, gosta.txt 0.0, herrgard.txt 0.0, jerusalem.txt 0.0, nils.txt 0.0"
   ]
  },
  {
   "cell_type": "code",
   "execution_count": 25,
   "metadata": {},
   "outputs": [
    {
     "data": {
      "text/plain": [
       "{'troll.txt': 0.0,\n",
       " 'kejsaren.txt': 0.0,\n",
       " 'marbacka.txt': 0.0,\n",
       " 'herrgard.txt': 0.0,\n",
       " 'nils.txt': 0.0,\n",
       " 'osynliga.txt': 0.0,\n",
       " 'jerusalem.txt': 0.0,\n",
       " 'bannlyst.txt': 0.0,\n",
       " 'gosta.txt': 0.0}"
      ]
     },
     "execution_count": 25,
     "metadata": {},
     "output_type": "execute_result"
    }
   ],
   "source": [
    "tfIdfDict['känna']"
   ]
  },
  {
   "cell_type": "markdown",
   "metadata": {},
   "source": [
    "gås :: bannlyst.txt 0.0, gosta.txt 0.0, herrgard.txt 0.0, jerusalem.txt 0.0, nils.txt 0.00010123719421964931"
   ]
  },
  {
   "cell_type": "code",
   "execution_count": 26,
   "metadata": {},
   "outputs": [
    {
     "data": {
      "text/plain": [
       "{'troll.txt': 0.0,\n",
       " 'kejsaren.txt': 0.0,\n",
       " 'marbacka.txt': 0.0,\n",
       " 'herrgard.txt': 0.0,\n",
       " 'nils.txt': 0.0001012371942196493,\n",
       " 'osynliga.txt': 0.0,\n",
       " 'jerusalem.txt': 0.0,\n",
       " 'bannlyst.txt': 0.0,\n",
       " 'gosta.txt': 0.0}"
      ]
     },
     "execution_count": 26,
     "metadata": {},
     "output_type": "execute_result"
    }
   ],
   "source": [
    "tfIdfDict['gås']"
   ]
  },
  {
   "cell_type": "markdown",
   "metadata": {},
   "source": [
    "nils :: bannlyst.txt 0.0, gosta.txt 0.0, herrgard.txt 0.0 jerusalem.txt 4.778415355159037e-06, nils.txt 9.801209641132888e-05"
   ]
  },
  {
   "cell_type": "code",
   "execution_count": 27,
   "metadata": {},
   "outputs": [
    {
     "data": {
      "text/plain": [
       "{'troll.txt': 3.65803773219228e-06,\n",
       " 'kejsaren.txt': 8.084511887485742e-06,\n",
       " 'marbacka.txt': 7.5908443635941025e-06,\n",
       " 'herrgard.txt': 0.0,\n",
       " 'nils.txt': 9.801209641132888e-05,\n",
       " 'osynliga.txt': 0.0,\n",
       " 'jerusalem.txt': 4.778415355159037e-06,\n",
       " 'bannlyst.txt': 0.0,\n",
       " 'gosta.txt': 0.0}"
      ]
     },
     "execution_count": 27,
     "metadata": {},
     "output_type": "execute_result"
    }
   ],
   "source": [
    "tfIdfDict['nils']"
   ]
  },
  {
   "cell_type": "markdown",
   "metadata": {},
   "source": [
    "et :: bannlyst.txt 6.2846093167673765e-06, gosta.txt 0.0, herrgard.txt 0.0, jerusalem.txt 0.0, nils.txt 0.0"
   ]
  },
  {
   "cell_type": "code",
   "execution_count": 28,
   "metadata": {},
   "outputs": [
    {
     "data": {
      "text/plain": [
       "{'troll.txt': 0.0,\n",
       " 'kejsaren.txt': 6.0441957178149187e-05,\n",
       " 'marbacka.txt': 1.4187791927195648e-05,\n",
       " 'herrgard.txt': 0.0,\n",
       " 'nils.txt': 0.0,\n",
       " 'osynliga.txt': 0.0,\n",
       " 'jerusalem.txt': 0.0,\n",
       " 'bannlyst.txt': 6.2846093167673765e-06,\n",
       " 'gosta.txt': 0.0}"
      ]
     },
     "execution_count": 28,
     "metadata": {},
     "output_type": "execute_result"
    }
   ],
   "source": [
    "tfIdfDict['et']"
   ]
  },
  {
   "cell_type": "markdown",
   "metadata": {},
   "source": [
    "## Comparing Documents"
   ]
  },
  {
   "cell_type": "markdown",
   "metadata": {},
   "source": [
    "Using the cosine similarity, compare all the pairs of documents with their tfidf representation and present your results in a matrix. You will include this matrix in your report.\n",
    "\n",
    "Give the name of the two novels that are the most similar."
   ]
  },
  {
   "cell_type": "markdown",
   "metadata": {},
   "source": [
    "There are the document representations in term of words. Rows: documents, Col: words."
   ]
  },
  {
   "cell_type": "code",
   "execution_count": 29,
   "metadata": {},
   "outputs": [],
   "source": [
    "import numpy as np\n",
    "\n",
    "docMatrix = np.zeros((9,len(tfIdfDict.keys())))\n",
    "wordList = tfIdfDict.keys()\n",
    "fileList = tfIdfDict['nils']\n",
    "\n",
    "for i, word in enumerate(wordList):\n",
    "    for j, file in enumerate(fileList):\n",
    "        docMatrix[j,i] = tfIdfDict[word][file]\n"
   ]
  },
  {
   "cell_type": "code",
   "execution_count": 30,
   "metadata": {},
   "outputs": [],
   "source": [
    "import numpy as np; import pandas as pd\n",
    "from sklearn.metrics.pairwise import cosine_similarity\n",
    "\n",
    "df = pd.DataFrame(docMatrix)\n",
    "\n",
    "simularityMatrix = cosine_similarity(df)"
   ]
  },
  {
   "cell_type": "markdown",
   "metadata": {},
   "source": [
    "Plot matrix"
   ]
  },
  {
   "cell_type": "code",
   "execution_count": 32,
   "metadata": {},
   "outputs": [
    {
     "data": {
      "image/png": "[encoded data removed]",
      "text/plain": [
       "<Figure size 432x288 with 2 Axes>"
      ]
     },
     "metadata": {
      "needs_background": "light"
     },
     "output_type": "display_data"
    },
    {
     "name": "stdout",
     "output_type": "stream",
     "text": [
      "0 = troll.txt\n",
      "1 = kejsaren.txt\n",
      "2 = marbacka.txt\n",
      "3 = herrgard.txt\n",
      "4 = nils.txt\n",
      "5 = osynliga.txt\n",
      "6 = jerusalem.txt\n",
      "7 = bannlyst.txt\n",
      "8 = gosta.txt\n"
     ]
    }
   ],
   "source": [
    "import matplotlib.pyplot as plt\n",
    "\n",
    "plt.imshow(np.log(simularityMatrix))\n",
    "plt.colorbar()\n",
    "plt.show()\n",
    "\n",
    "for i,file in enumerate(list(fileList.keys())):\n",
    "    print(i, \"=\", file)"
   ]
  },
  {
   "cell_type": "code",
   "execution_count": 33,
   "metadata": {},
   "outputs": [
    {
     "name": "stdout",
     "output_type": "stream",
     "text": [
      "TEXT 1 TEXT 2 Simularity Value\n",
      "troll.txt troll.txt 1.0\n",
      "troll.txt kejsaren.txt 0.0883126344462\n",
      "troll.txt marbacka.txt 0.0236486882832\n",
      "troll.txt herrgard.txt 0.00398629847309\n",
      "troll.txt nils.txt 0.0193870728052\n",
      "troll.txt osynliga.txt 0.0282661230154\n",
      "troll.txt jerusalem.txt 0.00706370160499\n",
      "troll.txt bannlyst.txt 0.00733624255343\n",
      "troll.txt gosta.txt 0.0324940443365\n",
      "kejsaren.txt troll.txt 0.0883126344462\n",
      "kejsaren.txt kejsaren.txt 1.0\n",
      "kejsaren.txt marbacka.txt 0.0445580042426\n",
      "kejsaren.txt herrgard.txt 0.000892488921853\n",
      "kejsaren.txt nils.txt 0.00437436632002\n",
      "kejsaren.txt osynliga.txt 0.00549434528028\n",
      "kejsaren.txt jerusalem.txt 0.00205720430119\n",
      "kejsaren.txt bannlyst.txt 0.00214580054521\n",
      "kejsaren.txt gosta.txt 0.0065098346458\n",
      "marbacka.txt troll.txt 0.0236486882832\n",
      "marbacka.txt kejsaren.txt 0.0445580042426\n",
      "marbacka.txt marbacka.txt 1.0\n",
      "marbacka.txt herrgard.txt 0.0116979927496\n",
      "marbacka.txt nils.txt 0.0402145650205\n",
      "marbacka.txt osynliga.txt 0.0421062692429\n",
      "marbacka.txt jerusalem.txt 0.012904030053\n",
      "marbacka.txt bannlyst.txt 0.00509649828077\n",
      "marbacka.txt gosta.txt 0.0285611065239\n",
      "herrgard.txt troll.txt 0.00398629847309\n",
      "herrgard.txt kejsaren.txt 0.000892488921853\n",
      "herrgard.txt marbacka.txt 0.0116979927496\n",
      "herrgard.txt herrgard.txt 1.0\n",
      "herrgard.txt nils.txt 0.0141469836563\n",
      "herrgard.txt osynliga.txt 0.0212563646664\n",
      "herrgard.txt jerusalem.txt 0.0076215128127\n",
      "herrgard.txt bannlyst.txt 0.00129900476994\n",
      "herrgard.txt gosta.txt 0.0151425493556\n",
      "nils.txt troll.txt 0.0193870728052\n",
      "nils.txt kejsaren.txt 0.00437436632002\n",
      "nils.txt marbacka.txt 0.0402145650205\n",
      "nils.txt herrgard.txt 0.0141469836563\n",
      "nils.txt nils.txt 1.0\n",
      "nils.txt osynliga.txt 0.0321284846367\n",
      "nils.txt jerusalem.txt 0.0130897803341\n",
      "nils.txt bannlyst.txt 0.00534349438643\n",
      "nils.txt gosta.txt 0.025006368728\n",
      "osynliga.txt troll.txt 0.0282661230154\n",
      "osynliga.txt kejsaren.txt 0.00549434528028\n",
      "osynliga.txt marbacka.txt 0.0421062692429\n",
      "osynliga.txt herrgard.txt 0.0212563646664\n",
      "osynliga.txt nils.txt 0.0321284846367\n",
      "osynliga.txt osynliga.txt 1.0\n",
      "osynliga.txt jerusalem.txt 0.0418440605847\n",
      "osynliga.txt bannlyst.txt 0.00598462892097\n",
      "osynliga.txt gosta.txt 0.0557475721521\n",
      "jerusalem.txt troll.txt 0.00706370160499\n",
      "jerusalem.txt kejsaren.txt 0.00205720430119\n",
      "jerusalem.txt marbacka.txt 0.012904030053\n",
      "jerusalem.txt herrgard.txt 0.0076215128127\n",
      "jerusalem.txt nils.txt 0.0130897803341\n",
      "jerusalem.txt osynliga.txt 0.0418440605847\n",
      "jerusalem.txt jerusalem.txt 1.0\n",
      "jerusalem.txt bannlyst.txt 0.00731817225312\n",
      "jerusalem.txt gosta.txt 0.00854010929237\n",
      "bannlyst.txt troll.txt 0.00733624255343\n",
      "bannlyst.txt kejsaren.txt 0.00214580054521\n",
      "bannlyst.txt marbacka.txt 0.00509649828077\n",
      "bannlyst.txt herrgard.txt 0.00129900476994\n",
      "bannlyst.txt nils.txt 0.00534349438643\n",
      "bannlyst.txt osynliga.txt 0.00598462892097\n",
      "bannlyst.txt jerusalem.txt 0.00731817225312\n",
      "bannlyst.txt bannlyst.txt 1.0\n",
      "bannlyst.txt gosta.txt 0.00522987707788\n",
      "gosta.txt troll.txt 0.0324940443365\n",
      "gosta.txt kejsaren.txt 0.0065098346458\n",
      "gosta.txt marbacka.txt 0.0285611065239\n",
      "gosta.txt herrgard.txt 0.0151425493556\n",
      "gosta.txt nils.txt 0.025006368728\n",
      "gosta.txt osynliga.txt 0.0557475721521\n",
      "gosta.txt jerusalem.txt 0.00854010929237\n",
      "gosta.txt bannlyst.txt 0.00522987707788\n",
      "gosta.txt gosta.txt 1.0\n"
     ]
    }
   ],
   "source": [
    "print(\"TEXT 1\", \"TEXT 2\", \"Simularity Value\")\n",
    "for i,iFile in enumerate(list(fileList.keys())):\n",
    "    for j, jFile in enumerate(list(fileList.keys())):\n",
    "        print(iFile, jFile, simularityMatrix[i,j])"
   ]
  },
  {
   "cell_type": "code",
   "execution_count": 34,
   "metadata": {},
   "outputs": [
    {
     "name": "stdout",
     "output_type": "stream",
     "text": [
      "Position: ( 0 , 1 ) has maximum val\n",
      "Closest documents are: troll.txt and kejsaren.txt . With cosine value: 0.0883126344462\n"
     ]
    }
   ],
   "source": [
    "index = simularityMatrix[:,:].flatten().argsort()[-10:][::-1][9] # This is the \n",
    "\n",
    "print(\"Position: (\", index//9, \",\", index, \") has maximum val\")\n",
    "\n",
    "print(\"Closest documents are:\", list(fileList.keys())[index//9], \"and\", list(fileList.keys())[index], \". With cosine value:\", simularityMatrix[0,1])"
   ]
  },
  {
   "cell_type": "markdown",
   "metadata": {},
   "source": [
    "## Reading"
   ]
  },
  {
   "cell_type": "markdown",
   "metadata": {},
   "source": [
    "Read the text: Challenges in Building Large-Scale Information Retrieval Systems about the history of Google indexing by Jeff Dean. In your report, tell how your index encoding is related to what Google did. You must identify the slide where you have the most similar indexing technique and write the slide number in your report. https://static.googleusercontent.com/media/research.google.com/en//people/jeff/WSDM09-keynote.pdf"
   ]
  },
  {
   "cell_type": "markdown",
   "metadata": {},
   "source": [
    "#### Answer:"
   ]
  },
  {
   "cell_type": "markdown",
   "metadata": {},
   "source": [
    "On slide 14-17 they talk about ways of index partitioning and compare by doing so with doc or by word. Google and we have similar problem where we want to index shards partitioning from a set of documents. Google uses docs as index while we used word, where we had shard subset of words for all docs."
   ]
  },
  {
   "cell_type": "code",
   "execution_count": null,
   "metadata": {},
   "outputs": [],
   "source": []
  }
 ],
 "metadata": {
  "kernelspec": {
   "display_name": "Python 3",
   "language": "python",
   "name": "python3"
  },
  "language_info": {
   "codemirror_mode": {
    "name": "ipython",
    "version": 3
   },
   "file_extension": ".py",
   "mimetype": "text/x-python",
   "name": "python",
   "nbconvert_exporter": "python",
   "pygments_lexer": "ipython3",
   "version": "3.6.8"
  }
 },
 "nbformat": 4,
 "nbformat_minor": 2
}
