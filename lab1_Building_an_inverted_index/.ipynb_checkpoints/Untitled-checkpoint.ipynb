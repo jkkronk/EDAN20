{
 "cells": [
  {
   "cell_type": "markdown",
   "metadata": {},
   "source": [
    "# EDAN20 Laboration 1 - 12/9\n",
    "### Author: Sepehr Tayari"
   ]
  },
  {
   "cell_type": "markdown",
   "metadata": {},
   "source": [
    "The objective of the laboration is to create a program which reads one file, 'file_name.txt' and outputs an index file 'file_name.idx'.\n",
    "\n",
    "In addition to this, the program should also create different dictionaries. One dictionary which saves words as keys, and list of index position of each word as value. A master index shall also be created, which has words as key, and another dictionary as value. The second dictionary should have file name as key and list of word position as value. The master indexer should represent data of in which text files a certain word appears in."
   ]
  },
  {
   "cell_type": "markdown",
   "metadata": {},
   "source": [
    "We start with importing all modules we need, and creating the dictionaries which will be used"
   ]
  },
  {
   "cell_type": "code",
   "execution_count": 19,
   "metadata": {},
   "outputs": [],
   "source": [
    "import regex as re\n",
    "import pickle\n",
    "import os\n",
    "import math\n",
    "from sklearn.metrics.pairwise import cosine_similarity\n",
    "import numpy as np\n",
    "import pandas as pd\n",
    "\n",
    "word_dict = dict()\n",
    "book_dict = dict()\n",
    "master_dict = dict()\n",
    "corpus = dict()\n",
    "word_count = dict()\n"
   ]
  },
  {
   "cell_type": "markdown",
   "metadata": {},
   "source": [
    "A data set of all words are saved in dictionary corpus. The dict is built, and the text is cleaned away from characters which are not needed."
   ]
  },
  {
   "cell_type": "code",
   "execution_count": 20,
   "metadata": {},
   "outputs": [],
   "source": [
    "def text_cleaner(text):\n",
    "    \"\"\"\n",
    "    :param str text: File to be cleaned up. The function will remove all non letter characters and make all letters\n",
    "    lower case\n",
    "    :return str text: the new text file\n",
    "    \"\"\"\n",
    "    # Removes all new lines and replaces with spaces.\n",
    "    text = re.sub(\"\\n\", \" \", text)\n",
    "    # Replace non-letters with nothing\n",
    "    text = re.sub('[^a-zöäåA-ZÖÄÅ\\s]', '', text)\n",
    "    # Make all words lower case\n",
    "    text = text.lower()\n",
    "    return text"
   ]
  },
  {
   "cell_type": "code",
   "execution_count": 21,
   "metadata": {},
   "outputs": [],
   "source": [
    "def build_dict(text):\n",
    "    \"\"\"\n",
    "    Adds words to global dictionary 'corpus'\n",
    "    :param str text: all words in the string text will be added to a dictionary. String text must be letters only and\n",
    "    all lower case.\n",
    "    \"\"\"\n",
    "    global corpus\n",
    "    text = text_cleaner(text)\n",
    "    for word in text.split(' '):\n",
    "        corpus[word] = []"
   ]
  },
  {
   "cell_type": "markdown",
   "metadata": {},
   "source": [
    "In order to read in our needed files we use the following method."
   ]
  },
  {
   "cell_type": "code",
   "execution_count": 22,
   "metadata": {},
   "outputs": [],
   "source": [
    "def get_files(dir, suffix):\n",
    "    \"\"\"\n",
    "    Returns all the files in a folder ending with suffix\n",
    "    :param dir: The directory of the files\n",
    "    :param suffix: The suffix the files end in. Example '.txt'.\n",
    "    :return: the list of file names\n",
    "    \"\"\"\n",
    "    files = []\n",
    "    for file in os.listdir(dir):\n",
    "        if file.endswith(suffix):\n",
    "            files.append(file)\n",
    "    return files"
   ]
  },
  {
   "cell_type": "markdown",
   "metadata": {},
   "source": [
    "To index all the files, the method word_indexer is used, which takes one file as an argument."
   ]
  },
  {
   "cell_type": "code",
   "execution_count": 23,
   "metadata": {},
   "outputs": [],
   "source": [
    "def word_indexer(text):\n",
    "    \"\"\"\n",
    "    Indexes all the words in the text, and appends them to the global dictionay word_dict.\n",
    "    :param str text: the string which should be indexed.\n",
    "    \"\"\"\n",
    "    # Match every word in string text.\n",
    "    for match in re.finditer(r'\\p{L}+', text.lower()):\n",
    "        match_word = match.group()\n",
    "        # If the word exist in the dict, append the new index.\n",
    "        if match_word in word_dict.keys():\n",
    "            word_dict[match_word].append(match.start(0))\n",
    "        # If the word does not yet exist as a key. Add it with its index for the first time, as a list.\n",
    "        else:\n",
    "            word_dict[match_word] = [match.start(0)]\n",
    "    return word_dict"
   ]
  },
  {
   "cell_type": "markdown",
   "metadata": {},
   "source": [
    "To index all words to their corresponding file, in the master index, following method is used"
   ]
  },
  {
   "cell_type": "code",
   "execution_count": 24,
   "metadata": {},
   "outputs": [],
   "source": [
    "def master_indexer():\n",
    "    \"\"\"\n",
    "    Indexes all words to which textfile they occur in, and at which index.\n",
    "    {word: {file_name: [start0, start1, ...]}} to file master_dict.\n",
    "    :return:\n",
    "    \"\"\"\n",
    "    global master_dict\n",
    "    global corpus\n",
    "    for word in corpus:\n",
    "        master_dict[word] = {}\n",
    "        for file_name in files:\n",
    "            try:\n",
    "                master_dict[word][file_name] = book_dict[file_name][word]\n",
    "            except:\n",
    "                nop = 1"
   ]
  },
  {
   "cell_type": "markdown",
   "metadata": {},
   "source": [
    "Now we can read in all the files."
   ]
  },
  {
   "cell_type": "code",
   "execution_count": 25,
   "metadata": {},
   "outputs": [],
   "source": [
    "files = get_files('Selma2', 'txt')"
   ]
  },
  {
   "cell_type": "code",
   "execution_count": null,
   "metadata": {},
   "outputs": [],
   "source": [
    "for file_name in files:\n",
    "\n",
    "    fil = open('Selma2/'+file_name, 'r')\n",
    "    fil = fil.read()\n",
    "\n",
    "    # We also do a word count for each file. This will be needed later in\n",
    "    # the tf-idf\n",
    "    word_count[file_name]= len(fil.split(\" \"))\n",
    "\n",
    "\n",
    "    word_dict = word_indexer(fil)\n",
    "    build_dict(fil)\n",
    "    # pickle.dump(word_dict, open('{}.idx'.format(file_name), 'wb'))\n",
    "    # Building master index:\n",
    "    book_dict[file_name] = word_dict\n",
    "\n",
    "    # Reset the word_dict so it can store new text file\n",
    "    word_dict = dict()"
   ]
  },
  {
   "cell_type": "markdown",
   "metadata": {},
   "source": [
    "Example as seen on the course website. Start index of word 'gjord' in file 'bannlyst.txt'"
   ]
  },
  {
   "cell_type": "code",
   "execution_count": 27,
   "metadata": {},
   "outputs": [
    {
     "data": {
      "text/plain": [
       "[8551, 183692, 220875]"
      ]
     },
     "execution_count": 27,
     "metadata": {},
     "output_type": "execute_result"
    }
   ],
   "source": [
    "book_dict['bannlyst.txt']['gjord']"
   ]
  },
  {
   "cell_type": "markdown",
   "metadata": {},
   "source": [
    "We create the master index, and look for the word 'samlar'. We get the same start index as given on the course webpage."
   ]
  },
  {
   "cell_type": "code",
   "execution_count": 31,
   "metadata": {},
   "outputs": [
    {
     "data": {
      "text/plain": [
       "{'nils.txt': [53499, 120336],\n",
       " 'osynliga.txt': [410995, 871322],\n",
       " 'gosta.txt': [317119, 414300, 543686]}"
      ]
     },
     "execution_count": 31,
     "metadata": {},
     "output_type": "execute_result"
    }
   ],
   "source": [
    "master_indexer()\n",
    "master_dict['samlar']"
   ]
  },
  {
   "cell_type": "markdown",
   "metadata": {},
   "source": [
    "# Representing Documents with tf-idf"
   ]
  },
  {
   "cell_type": "markdown",
   "metadata": {},
   "source": [
    "By representing the documents with tf-idf, and look at cosinus similarities we can determine how similar the different texts are, with no regard of the order of the words. "
   ]
  },
  {
   "cell_type": "code",
   "execution_count": 32,
   "metadata": {},
   "outputs": [],
   "source": [
    "def tf_idf(files):\n",
    "    \"\"\"\n",
    "    Calculates the tf idf for the gives files.\n",
    "    :param files:\n",
    "    :return: dict tf_dict:\n",
    "    \"\"\"\n",
    "    n = 9\n",
    "    global word_count\n",
    "    tf_dict = dict()\n",
    "    df = 0\n",
    "    for file_name in files:  # In each file, how many times do the word occur\n",
    "        tf_dict[file_name] = dict()\n",
    "        for word in master_dict:\n",
    "            df = len(master_dict[word]) # In how many stories does the word occur\n",
    "            try:\n",
    "                tf = len(master_dict[word][file_name])\n",
    "            except:\n",
    "                nop = 1\n",
    "            if df != 0:\n",
    "                weigh = math.log10(9/df)*tf/word_count[file_name]\n",
    "                tf_dict[file_name][word] = weigh\n",
    "                df = 0\n",
    "                tf = 0\n",
    "    return tf_dict"
   ]
  },
  {
   "cell_type": "markdown",
   "metadata": {},
   "source": [
    "We run our files through the tf_idf function."
   ]
  },
  {
   "cell_type": "code",
   "execution_count": 34,
   "metadata": {},
   "outputs": [],
   "source": [
    "tf_dict = tf_idf(files)"
   ]
  },
  {
   "cell_type": "markdown",
   "metadata": {},
   "source": [
    "We now got the tf-idf values. And wish to create a matrix with the cosinus similarity. "
   ]
  },
  {
   "cell_type": "code",
   "execution_count": 45,
   "metadata": {},
   "outputs": [],
   "source": [
    "def build_cos_sim_matrix(tf_dict):\n",
    "    \"\"\"\n",
    "\n",
    "    :param tf_dict: dictionary with {file_name: {word : tf-value}}\n",
    "    :return:\n",
    "    \"\"\"\n",
    "    doc_matrix = np.zeros((9,len(corpus.keys())))\n",
    "    word_list = corpus.keys()\n",
    "    file_list = dict_dict.keys()\n",
    "    for i, word in enumerate(word_list):\n",
    "        for j, file in enumerate(file_list):\n",
    "            try:\n",
    "                doc_matrix[j, i] =tf_dict[file][word]# tf_dict[file][word]\n",
    "                #print(doc_matrix[j, i], 'hej', tf_dict[file][word])\n",
    "            except:\n",
    "                #print('didnt work')\n",
    "                nop = 1\n",
    "    df = pd.DataFrame(doc_matrix)\n",
    "    similarity_matrix = cosine_similarity(df)\n",
    "    np.around(similarity_matrix, 2)\n",
    "    temp_matrix = similarity_matrix\n",
    "    \n",
    "\n",
    "    for i, row in enumerate(temp_matrix):\n",
    "        row[i] = 0\n",
    "    #print(temp_matrix)\n",
    "    max_tal = np.amax(temp_matrix)\n",
    "    print(max_tal)\n",
    "    result = np.where(temp_matrix == np.amax(temp_matrix))\n",
    "    print(result)\n",
    "    for key in dict_dict:\n",
    "        print(key)"
   ]
  },
  {
   "cell_type": "code",
   "execution_count": 46,
   "metadata": {},
   "outputs": [
    {
     "name": "stdout",
     "output_type": "stream",
     "text": [
      "[[0.         0.08838273 0.02484158 0.00399036 0.01940174 0.02829534\n",
      "  0.00705616 0.00734371 0.03259857]\n",
      " [0.08838273 0.         0.04622003 0.00089369 0.00437859 0.0055027\n",
      "  0.00206008 0.00214647 0.00653284]\n",
      " [0.02484158 0.04622003 0.         0.01232804 0.04236505 0.04437697\n",
      "  0.01359971 0.00536902 0.0301599 ]\n",
      " [0.00399036 0.00089369 0.01232804 0.         0.0141521  0.02126363\n",
      "  0.00762255 0.00129912 0.01517731]\n",
      " [0.01940174 0.00437859 0.04236505 0.0141521  0.         0.03213535\n",
      "  0.01309413 0.00534542 0.02506581]\n",
      " [0.02829534 0.0055027  0.04437697 0.02126363 0.03213535 0.\n",
      "  0.04185523 0.0059857  0.05585791]\n",
      " [0.00705616 0.00206008 0.01359971 0.00762255 0.01309413 0.04185523\n",
      "  0.         0.00731916 0.00855811]\n",
      " [0.00734371 0.00214647 0.00536902 0.00129912 0.00534542 0.0059857\n",
      "  0.00731916 0.         0.00524188]\n",
      " [0.03259857 0.00653284 0.0301599  0.01517731 0.02506581 0.05585791\n",
      "  0.00855811 0.00524188 0.        ]]\n",
      "0.08838272929311124\n",
      "(array([0, 1]), array([1, 0]))\n",
      "troll.txt\n",
      "kejsaren.txt\n",
      "marbacka.txt\n",
      "herrgard.txt\n",
      "nils.txt\n",
      "osynliga.txt\n",
      "jerusalem.txt\n",
      "bannlyst.txt\n",
      "gosta.txt\n"
     ]
    }
   ],
   "source": [
    "build_cos_sim_matrix(tf_dict)"
   ]
  },
  {
   "cell_type": "code",
   "execution_count": null,
   "metadata": {},
   "outputs": [],
   "source": []
  }
 ],
 "metadata": {
  "kernelspec": {
   "display_name": "Python 3",
   "language": "python",
   "name": "python3"
  },
  "language_info": {
   "codemirror_mode": {
    "name": "ipython",
    "version": 3
   },
   "file_extension": ".py",
   "mimetype": "text/x-python",
   "name": "python",
   "nbconvert_exporter": "python",
   "pygments_lexer": "ipython3",
   "version": "3.7.4"
  }
 },
 "nbformat": 4,
 "nbformat_minor": 2
}
