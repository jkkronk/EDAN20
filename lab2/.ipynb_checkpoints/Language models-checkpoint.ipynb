{
 "cells": [
  {
   "cell_type": "markdown",
   "metadata": {},
   "source": [
    "# Lab 2: Language models"
   ]
  },
  {
   "cell_type": "markdown",
   "metadata": {},
   "source": [
    "Laboration 2 in EDAN20 @ LTH - http://cs.lth.se/edan20/coursework/assignment-2/\n",
    "\n",
    "Author: Jonatan Kronander"
   ]
  },
  {
   "cell_type": "markdown",
   "metadata": {},
   "source": [
    "## Objectives\n",
    "* Write a program to find n-gram statistics\n",
    "* Compute the probability of a sentence\n",
    "* Know what a language model is\n",
    "* Write a short report of 1 to 2 pages on the assignment\n",
    "* Optionally read a short article on the importance of corpora\n"
   ]
  },
  {
   "cell_type": "markdown",
   "metadata": {},
   "source": [
    "## Collecting a corpus\n"
   ]
  },
  {
   "cell_type": "markdown",
   "metadata": {},
   "source": [
    "#### 1. Collect a corpus of at least 750,000 words. Alternatively, you can retrieve a corpus of novels by Selma Lagerlöf from this URL: http://fileadmin.cs.lth.se/cs/Education/EDAN20/corpus/Selma.txt ."
   ]
  },
  {
   "cell_type": "code",
   "execution_count": 1,
   "metadata": {},
   "outputs": [],
   "source": [
    "from urllib.request import urlopen\n",
    "\n",
    "text = urlopen(\"http://fileadmin.cs.lth.se/cs/Education/EDAN20/corpus/Selma.txt\").read() # Open file and read\n",
    "strText = str(text,'utf-8') # From bytes to string"
   ]
  },
  {
   "cell_type": "code",
   "execution_count": 2,
   "metadata": {},
   "outputs": [],
   "source": [
    "text_file = open(\"Selma.txt\", \"w\")\n",
    "text_file.write(strText)\n",
    "text_file.close()"
   ]
  },
  {
   "cell_type": "markdown",
   "metadata": {},
   "source": [
    "You will check the number of words using the Unix command wc -w. "
   ]
  },
  {
   "cell_type": "code",
   "execution_count": 3,
   "metadata": {},
   "outputs": [
    {
     "name": "stdout",
     "output_type": "stream",
     "text": [
      "wc -w Selma.txt\n",
      "Number of words in text:  965943 Selma.txt\n",
      "\n"
     ]
    }
   ],
   "source": [
    "import subprocess\n",
    "cmd_0 = 'wc -w Selma.txt'\n",
    "print(cmd_0)\n",
    "\n",
    "p = subprocess.Popen(cmd_0, stdout=subprocess.PIPE, shell=True)\n",
    "out_0, err = p.communicate() \n",
    "print(\"Number of words in text:\" + str(out_0,'utf-8'))"
   ]
  },
  {
   "cell_type": "markdown",
   "metadata": {},
   "source": [
    "#### 2. Run the concordance program (https://github.com/pnugues/ilppp/tree/master/programs/ch02/python) to print the lines containing a specific word, for instance Nils."
   ]
  },
  {
   "cell_type": "code",
   "execution_count": 4,
   "metadata": {},
   "outputs": [
    {
     "name": "stdout",
     "output_type": "stream",
     "text": [
      "python concord.py Selma.txt Nils 10\n",
      "\n",
      " ----Lines containing Nils is listed below---- \n",
      "\n",
      "Nils Holgersso\n",
      "os Holger Nilssons LV. A\n",
      "tt! Se på Nils gåsapåg! \n",
      "tt! Se på Nils Holgersso\n",
      "ll Holger Nilsson i Väst\n",
      "Jag heter Nils Holgersso\n",
      "det värt, Nils Holgersso\n",
      "att du är Nils gåsapåg, \n",
      "r han var Nils gåsapåg, \n",
      "r och hur Nils gåsapåg h\n",
      "å han var Nils gåsapåg? \n",
      "tiden, då Nils Holgersso\n",
      "honom vad Nils Holgersso\n",
      " året, då Nils Holgersso\n",
      "osta dem. Nils Holgersso\n",
      " sägas om Nils Holgersso\n",
      " där stod Nils Holgersso\n",
      "de syn på Nils Holgersso\n",
      "ässen och Nils Holgersso\n",
      ". Men vad Nils Holgersso\n",
      " du hört, Nils gåsapåg, \n",
      "och om då Nils Holgersso\n",
      "och om nu Nils Holgersso\n",
      "g ut, att Nils Holgersso\n",
      "nte ville Nils Holgersso\n",
      "iden, när Nils Holgersso\n",
      "honom. Om Nils Holgersso\n",
      "gen hand, Nils Holgersso\n",
      "rumle ner Nils Holgersso\n",
      "o, jag är Nils Holgersso\n",
      "tiden, då Nils Holgersso\n",
      "Det står: Nils Holgersso\n",
      "fär innan Nils Holgersso\n",
      "föda, men Nils Holgersso\n",
      " året, då Nils Holgersso\n",
      "ssen över Nils Holgersso\n",
      " dag fick Nils Holgersso\n",
      " året, då Nils Holgersso\n",
      "kten till Nils Holgersso\n",
      "an Holger Nilsson och ha\n",
      "ade, stod Nils Holgersso\n",
      "ugge. Vad Nils Holgersso\n",
      "sådan som Nils Holgersso\n",
      "t mittför Nils Holgersso\n",
      "tiden, då Nils Holgersso\n",
      "klig. Att Nils Holgersso\n",
      "edes hade Nils Holgersso\n",
      "chen. Men Nils Holgersso\n",
      "om dessa. Nils Holgersso\n",
      ". \"Jag är Nils Holgersso\n",
      "e det, då Nils Holgersso\n",
      "de han om Nils Holgersso\n",
      "an Holger Nilsson och ha\n",
      "den lilla Nils Holgersso\n",
      "d is, och Nils Holgersso\n",
      "itt!\" Men Nils Holgersso\n",
      "arna, och Nils Holgersso\n",
      " året, då Nils Holgersso\n",
      " den. Vad Nils Holgersso\n",
      " klorna i Nils Holgersso\n",
      " året, då Nils Holgersso\n",
      " i Holger Nilssons kosta\n",
      "ör Holger Nilssons stuga\n",
      "or Holger Nilssons själv\n",
      "bedrövad, Nils Holgersso\n",
      "på Holger Nilssons torp,\n",
      " kunde ge Nils Holgersso\n",
      "han. 'Men Nils Holgersso\n",
      "t. Holger Nilsson har må\n",
      ". Ja, säg Nils Holgersso\n",
      "Den lille Nils Holgersso\n",
      "Den lille Nils Holgersso\n",
      "Då tyckte Nils Holgersso\n",
      "lja det.\" Nils Holgersso\n",
      "unga. Vad Nils Holgersso\n",
      "os Holger Nilssons Tisda\n",
      "ll Holger Nilssons, och \n",
      "att se på Nils Holgersso\n",
      "olik. Den Nils Holgersso\n",
      "mmen hem, Nils Holgersso\n",
      "tt Holger Nilsson hade v\n",
      "en,\" sade Nils Holgersso\n",
      "ör Holger Nilsson vad so\n",
      "om,\" sade Nils Holgersso\n",
      "din hov?\" Nils Holgersso\n",
      "ar så lik Nils Holgersso\n",
      "t gott om Nils.\" - \"Det \n",
      "r att vår Nils hade gjor\n",
      "tt Holger Nilsson ännu d\n",
      "os Holger Nilssons, när \n",
      "de Holger Nilsson. \"Och \n",
      "de Holger Nilsson. - \"Om\n",
      "närheten. Nils Holgersso\n",
      " lust, du Nils Jansson. \n",
      "Backstugu Nils stå och v\n",
      "Backstugu Nils ska allt \n",
      "ka, Kajsa Nilsdotter, ko\n",
      "var Kajsa Nilsdotter ful\n",
      "t i Kajsa Nilsdotters ör\n",
      "de. Kajsa Nilsdotter had\n",
      "r i Kajsa Nilsdotter, at\n",
      "kte Kajsa Nilsdotter han\n",
      "vad Kajsa Nilsdotter had\n",
      "t i Kajsa Nilsdotters br\n",
      "s i Kajsa Nilsdotters br\n",
      "ksdagsman Nils Andersson\n",
      "en Teodor Nilsson i Vist\n",
      "t är herr Nilsson ifrån \n",
      "ksdagsman Nils Andersson\n",
      " och herr Nilsson i Vist\n",
      "var Börje Nilsson, och h\n",
      "ör Börje. Nilssons brud.\n",
      "ara Börje Nilssons hustr\n",
      "kte Börje Nilssons hustr\n",
      "var Börje Nilsson, och h\n",
      "för Börje Nilssons brud.\n",
      "ara Börje Nilssons hustr\n",
      "kte Börje Nilssons hustr\n",
      " tack för Nils Holgersso\n",
      "detta, du Nils? Du sitte\n",
      "ag om du, Nils, kommer i\n",
      "\n"
     ]
    }
   ],
   "source": [
    "pattern = \"Nils\"\n",
    "width = \" 10\"\n",
    "cmd_1 = \"python concord.py Selma.txt \"+pattern+width\n",
    "print(cmd_1)\n",
    "\n",
    "p = subprocess.Popen(cmd_1, stdout=subprocess.PIPE, shell=True)\n",
    "out_1, err = p.communicate() \n",
    "print(\"\\n ----Lines containing \" + pattern + \" is listed below---- \\n\")\n",
    "print(str(out_1,'utf-8'))"
   ]
  },
  {
   "cell_type": "markdown",
   "metadata": {},
   "source": [
    "#### 3. Run the tokenization program (https://github.com/pnugues/ilppp/tree/master/programs/ch05/python) on your corpus and count the words using the Unix sort and uniq commands."
   ]
  },
  {
   "cell_type": "code",
   "execution_count": 5,
   "metadata": {},
   "outputs": [],
   "source": [
    "def toLowercase(matchobj):\n",
    "    \"\"\"\n",
    "    Helper function\n",
    "    \"\"\"\n",
    "    return matchobj.group(1).lower()"
   ]
  },
  {
   "cell_type": "code",
   "execution_count": 6,
   "metadata": {
    "scrolled": true
   },
   "outputs": [
    {
     "name": "stdout",
     "output_type": "stream",
     "text": [
      "python tokenizer.py < Selma.txt\n"
     ]
    }
   ],
   "source": [
    "import regex as re\n",
    "\n",
    "cmd_2 = \"python tokenizer.py < Selma.txt\"\n",
    "print(cmd_2)\n",
    "\n",
    "p = subprocess.Popen(cmd_2, stdout=subprocess.PIPE, shell=True)\n",
    "out_2, err = p.communicate() \n",
    "\n",
    "stringOut = str(out_2,'utf-8') # Bytes --> String\n",
    "\n",
    "cleanString = re.sub(r'[^A-Za-z ]', '', stringOut) # Remove all non characters (-space)\n",
    "cleanString = re.sub(r'(\\p{Lu})', toLowercase, cleanString) # Lowercase all characters\n",
    "nlString = re.sub(r'[ ]', r'\\n', cleanString) # New line instead of space\n",
    "\n",
    "text_file = open(\"selmaCorpus.txt\", \"w\")\n",
    "text_file.write(nlString)\n",
    "text_file.close()\n",
    "\n",
    "selmaString = open('selmaCorpus.txt', 'r')\n",
    "\n",
    "selmaStringData = selmaString.readlines()\n",
    "selmaStringData = [ x.rstrip() for x in selmaStringData ]"
   ]
  },
  {
   "cell_type": "code",
   "execution_count": 7,
   "metadata": {},
   "outputs": [
    {
     "name": "stdout",
     "output_type": "stream",
     "text": [
      "sort selmaCorpus.txt | uniq\n"
     ]
    }
   ],
   "source": [
    "# Count words with unix\n",
    "cmd_3 = \"sort selmaCorpus.txt | uniq\"\n",
    "print(cmd_3)\n",
    "\n",
    "p = subprocess.Popen(cmd_3, stdout=subprocess.PIPE, shell=True)\n",
    "out_3, err = p.communicate() \n",
    "\n",
    "stringOut = str(out_3,'utf-8')\n",
    "\n",
    "text_file = open(\"cleanSelmaCorpus.txt\", \"w\")\n",
    "text_file.write(stringOut)\n",
    "text_file.close()\n",
    "\n",
    "selmaString = open('cleanSelmaCorpus.txt', 'r')\n",
    "data = selmaString.readlines()\n",
    "\n",
    "corpusList = [ x.rstrip() for x in data ]"
   ]
  },
  {
   "cell_type": "code",
   "execution_count": 8,
   "metadata": {},
   "outputs": [
    {
     "data": {
      "text/plain": [
       "['',\n",
       " 'a',\n",
       " 'abborrar',\n",
       " 'abborrarna',\n",
       " 'abborre',\n",
       " 'abborren',\n",
       " 'abborrens',\n",
       " 'abborrn',\n",
       " 'abcbok',\n",
       " 'abcdarierna',\n",
       " 'abessinien',\n",
       " 'abessinierna',\n",
       " 'abessiniska',\n",
       " 'abraham',\n",
       " 'abrahams',\n",
       " 'absalon',\n",
       " 'absolut',\n",
       " 'absoluta',\n",
       " 'abstinens',\n",
       " 'abu',\n",
       " 'ach',\n",
       " 'achmed',\n",
       " 'ack',\n",
       " 'ackja',\n",
       " 'ackompanjemanget',\n",
       " 'ackompanjera',\n",
       " 'ackord',\n",
       " 'acquilon',\n",
       " 'acquilons',\n",
       " 'adam',\n",
       " 'ade',\n",
       " 'adeline',\n",
       " 'adelsbrev',\n",
       " 'adelsfrknarna',\n",
       " 'adelsgrd',\n",
       " 'adelskapets',\n",
       " 'adelsman',\n",
       " 'adelsmn',\n",
       " 'aderton',\n",
       " 'adertonde',\n",
       " 'adertonhundrafyra',\n",
       " 'adertonhundratalet',\n",
       " 'adertonhundratjugotalet',\n",
       " 'adertonhundratjugutalet',\n",
       " 'adertonhundratolv',\n",
       " 'adertonhundratre',\n",
       " 'adertonhundratrettiotalet',\n",
       " 'adertonhundratta',\n",
       " 'adertonriga',\n",
       " 'adertonringen']"
      ]
     },
     "execution_count": 8,
     "metadata": {},
     "output_type": "execute_result"
    }
   ],
   "source": [
    "corpusList[0:50]"
   ]
  },
  {
   "cell_type": "code",
   "execution_count": 9,
   "metadata": {},
   "outputs": [
    {
     "name": "stdout",
     "output_type": "stream",
     "text": [
      "There are 38663 words in the corpus.\n"
     ]
    }
   ],
   "source": [
    "print(\"There are \" + str(len(corpusList)) + \" words in the corpus.\")"
   ]
  },
  {
   "cell_type": "markdown",
   "metadata": {},
   "source": [
    "## Normalizing a corpus\n"
   ]
  },
  {
   "cell_type": "markdown",
   "metadata": {},
   "source": [
    "#### 1. Write a program to insert \\< s> and \\< /s> tags to delimit sentences. You can start from the tokenization and modify it. Use a simple heuristics such as: a sentence starts with a capital letter and ends with a period. Estimate roughly the accuracy of your program.\n"
   ]
  },
  {
   "cell_type": "code",
   "execution_count": 10,
   "metadata": {},
   "outputs": [
    {
     "name": "stdout",
     "output_type": "stream",
     "text": [
      "python tokenizer.py < Selma.txt\n"
     ]
    }
   ],
   "source": [
    "import regex as re\n",
    "\n",
    "cmd_4 = \"python tokenizer.py < Selma.txt\"\n",
    "print(cmd_4)\n",
    "\n",
    "p = subprocess.Popen(cmd_4, stdout=subprocess.PIPE, shell=True)\n",
    "out_4, err = p.communicate() \n",
    "\n",
    "stringOut = str(out_4,'utf-8') # Bytes --> String\n",
    "cleanString = re.sub(r'[^A-ZÅÄÖa-zåäö \\.?!]', '', stringOut) # Remove all non characters (-space)\n",
    "nlString = re.sub(r'[ ]', r'\\n', cleanString) # New line instead of space\n",
    "\n",
    "text_file = open(\"normSelmaCorpus.txt\", \"w\")\n",
    "text_file.write(nlString)\n",
    "text_file.close()\n",
    "\n",
    "normselmaString = open('normSelmaCorpus.txt', 'r')\n",
    "\n",
    "normData = normselmaString.readlines()\n",
    "normData = [ x.rstrip() for x in normData ]"
   ]
  },
  {
   "cell_type": "code",
   "execution_count": 11,
   "metadata": {},
   "outputs": [
    {
     "data": {
      "text/plain": [
       "['Nils',\n",
       " 'Holgerssons',\n",
       " 'underbara',\n",
       " 'resa',\n",
       " 'genom',\n",
       " 'Sverige',\n",
       " 'Selma',\n",
       " 'Lagerlöf',\n",
       " 'Innehåll',\n",
       " 'Den',\n",
       " 'kristna',\n",
       " 'dagvisan',\n",
       " '',\n",
       " 'Sveriges',\n",
       " 'karta',\n",
       " 'I',\n",
       " '.',\n",
       " 'Pojken',\n",
       " '',\n",
       " 'Tomten']"
      ]
     },
     "execution_count": 11,
     "metadata": {},
     "output_type": "execute_result"
    }
   ],
   "source": [
    "normData[:20]"
   ]
  },
  {
   "cell_type": "markdown",
   "metadata": {},
   "source": [
    "#### 2. Modify your program to remove the punctuation signs and set all the text in lower case letters."
   ]
  },
  {
   "cell_type": "code",
   "execution_count": 12,
   "metadata": {},
   "outputs": [],
   "source": [
    "delimitNormData = normData.copy()\n",
    "added = 0\n",
    "\n",
    "for i, word in enumerate(normData):\n",
    "    upperCase = re.findall(r'^[A-Z]', word) # Remove all non characters (-space)\n",
    "\n",
    "    if upperCase:\n",
    "        delimitNormData[i + added] = re.sub(r'(\\p{Lu})', toLowercase, word)\n",
    "        delimitNormData.insert(i + added, \"<s>\")\n",
    "        added = added + 1\n",
    "  \n",
    "    dot = re.findall(r'[\\.\\!\\?]', word) # Remove all non characters (-space)\n",
    "    if dot:\n",
    "        delimitNormData.insert(i + added + 1, \"</s>\")\n",
    "        del delimitNormData[i + added]\n"
   ]
  },
  {
   "cell_type": "code",
   "execution_count": 13,
   "metadata": {},
   "outputs": [
    {
     "data": {
      "text/plain": [
       "['<s>',\n",
       " 'nils',\n",
       " '<s>',\n",
       " 'holgerssons',\n",
       " 'underbara',\n",
       " 'resa',\n",
       " 'genom',\n",
       " '<s>',\n",
       " 'sverige',\n",
       " '<s>',\n",
       " 'selma',\n",
       " '<s>',\n",
       " 'lagerlöf',\n",
       " '<s>',\n",
       " 'innehåll',\n",
       " '<s>',\n",
       " 'den',\n",
       " 'kristna',\n",
       " 'dagvisan',\n",
       " '',\n",
       " '<s>',\n",
       " 'sveriges',\n",
       " 'karta',\n",
       " '<s>',\n",
       " 'i',\n",
       " '</s>',\n",
       " '<s>',\n",
       " 'pojken',\n",
       " '',\n",
       " '<s>']"
      ]
     },
     "execution_count": 13,
     "metadata": {},
     "output_type": "execute_result"
    }
   ],
   "source": [
    "delimitNormData[:30]"
   ]
  },
  {
   "cell_type": "markdown",
   "metadata": {},
   "source": [
    "#### 3. The result should be a normalized text without punctuation signs where all the sentences are delimited with < s> and < /s> tags."
   ]
  },
  {
   "cell_type": "code",
   "execution_count": 14,
   "metadata": {},
   "outputs": [],
   "source": [
    "sentences = []\n",
    "flag = 0 # 0 = sentence in ongoing, 1 = finished sentence\n",
    "sentence = \"\"\n",
    "\n",
    "for word in delimitNormData:\n",
    "    if word == \"<s>\":\n",
    "        continue\n",
    "    if word == \"</s>\":\n",
    "        flag = 1\n",
    "        sentences.append(\"<s>\" + sentence + \"</s>\")\n",
    "        sentence = \"\"\n",
    "        continue\n",
    "    sentence = sentence + \" \" + word"
   ]
  },
  {
   "cell_type": "markdown",
   "metadata": {},
   "source": [
    "#### 4. The five last lines of the text should look like this:\n",
    "\n",
    "< s > hon hade fått större kärlek av sina föräldrar än någon annan han visste och sådan kärlek måste vändas i välsignelse < /s >\n",
    "\n",
    "< s > när prästen sa detta kom alla människor att se bort mot klara gulla och de förundrade sig över vad de såg < /s >\n",
    "\n",
    "< s > prästens ord tycktes redan ha gått i uppfyllelse < /s >\n",
    "\n",
    "< s > där stod klara fina gulleborg ifrån skrolycka hon som var uppkallad efter själva solen vid sina föräldrars grav och lyste som en förklarad < /s >\n",
    "\n",
    "< s > hon var likaså vacker som den söndagen då hon gick till kyrkan i den röda klänningen om inte vackrare < /s >"
   ]
  },
  {
   "cell_type": "code",
   "execution_count": 15,
   "metadata": {
    "scrolled": true
   },
   "outputs": [
    {
     "data": {
      "text/plain": [
       "['<s> hon hade fått större kärlek av sina föräldrar än någon annan han visste  och sådan kärlek måste vändas i välsignelse</s>',\n",
       " '<s> när prästen sa detta  kom alla människor att se bort mot klara gulla  och de förundrade sig över vad de såg</s>',\n",
       " '<s> prästens ord tycktes redan ha gått i uppfyllelse</s>',\n",
       " '<s> där stod klara fina gulleborg ifrån skrolycka  hon  som var uppkallad efter själva solen  vid sina föräldrars grav och lyste som en förklarad</s>',\n",
       " '<s> hon var likaså vacker som den söndagen  då hon gick till kyrkan i den röda klänningen  om inte vackrare</s>']"
      ]
     },
     "execution_count": 15,
     "metadata": {},
     "output_type": "execute_result"
    }
   ],
   "source": [
    "sentences[len(sentences)-5:]"
   ]
  },
  {
   "cell_type": "code",
   "execution_count": 16,
   "metadata": {},
   "outputs": [],
   "source": [
    "printOut = \"\"\n",
    "\n",
    "for sentence in sentences:\n",
    "    printOut = printOut + sentence + \" \"\n",
    "    \n",
    "text_file = open(\"selmaLow.txt\", \"w\")\n",
    "text_file.write(printOut)\n",
    "text_file.close()"
   ]
  },
  {
   "cell_type": "markdown",
   "metadata": {},
   "source": [
    " #### Estimate roughly the accuracy of your program."
   ]
  },
  {
   "cell_type": "markdown",
   "metadata": {},
   "source": [
    "Ngra fel"
   ]
  },
  {
   "cell_type": "code",
   "execution_count": 17,
   "metadata": {},
   "outputs": [],
   "source": [
    "dot = re.findall(r'[\\.\\!\\?]', strText)"
   ]
  },
  {
   "cell_type": "markdown",
   "metadata": {},
   "source": [
    "## Counting unigrams and bigrams"
   ]
  },
  {
   "cell_type": "markdown",
   "metadata": {},
   "source": [
    "#### 1. Read and try programs to compute the frequency of unigrams and bigrams of the training set: [Program folder] (https://github.com/pnugues/ilppp/tree/master/programs/ch05/python)"
   ]
  },
  {
   "cell_type": "code",
   "execution_count": 18,
   "metadata": {},
   "outputs": [
    {
     "name": "stdout",
     "output_type": "stream",
     "text": [
      "python count.py < Selma.txt\n",
      "There are 39356 unigrams in training set.\n",
      "Most common words:\n",
      "och \t 37799\n",
      "att \t 28914\n",
      "han \t 22743\n",
      "det \t 22087\n",
      "i \t 17072\n",
      "som \t 16790\n",
      "hade \t 14955\n",
      "på \t 14634\n",
      "hon \t 14093\n"
     ]
    }
   ],
   "source": [
    "cmd_5 = \"python count.py < Selma.txt\"\n",
    "print(cmd_5)\n",
    "\n",
    "p = subprocess.Popen(cmd_5, stdout=subprocess.PIPE, shell=True)\n",
    "out_5, err = p.communicate() \n",
    "\n",
    "stringOut = str(out_5,'utf-8') # Bytes --> String\n",
    "lines = len(re.findall(r'\\n', stringOut))\n",
    "\n",
    "print(\"There are \" + str(lines) + \" unigrams in training set.\")\n",
    "print(\"Most common words:\\n\" + stringOut[:105])"
   ]
  },
  {
   "cell_type": "code",
   "execution_count": 19,
   "metadata": {},
   "outputs": [
    {
     "name": "stdout",
     "output_type": "stream",
     "text": [
      "python count_bigrams.py < Selma.txt\n",
      "There are 319877 bigrams in training set.\n",
      "Some bigrams:\n",
      "3 \t ('nils', 'holgerssons')\n",
      "1 \t ('holgerssons', 'underbara')\n",
      "1 \t ('underbara', 'resa')\n",
      "4 \t ('resa', 'genom')\n",
      "3 \t ('genom', 'sverige')\n",
      "1 \t ('sverige', 'selma')\n",
      "11 \t ('selma', 'lagerlöf')\n",
      "2 \t ('lagerlöf', 'innehåll')\n"
     ]
    }
   ],
   "source": [
    "cmd_6 = \"python count_bigrams.py < Selma.txt\"\n",
    "print(cmd_6)\n",
    "\n",
    "p = subprocess.Popen(cmd_6, stdout=subprocess.PIPE, shell=True)\n",
    "out_6, err = p.communicate() \n",
    "\n",
    "stringOut = str(out_6,'utf-8') # Bytes --> String\n",
    "lines = len(re.findall(r'\\n', stringOut))\n",
    "\n",
    "print(\"There are \" + str(lines) + \" bigrams in training set.\")\n",
    "print(\"Some bigrams:\\n\" + stringOut[:214])"
   ]
  },
  {
   "cell_type": "markdown",
   "metadata": {},
   "source": [
    "#### 2. What is the possible number of bigrams and their real number? "
   ]
  },
  {
   "cell_type": "markdown",
   "metadata": {},
   "source": [
    "As there are 965 943 words in the corpus the maximum possible number of bigrams is 965 943 * 2 - 2 = 1 931 884"
   ]
  },
  {
   "cell_type": "markdown",
   "metadata": {},
   "source": [
    "Their real value for selma corpus is, as printed above, 319 877. "
   ]
  },
  {
   "cell_type": "markdown",
   "metadata": {},
   "source": [
    "#### Explain why such a difference. What would be the possible number of 4-grams."
   ]
  },
  {
   "cell_type": "markdown",
   "metadata": {},
   "source": [
    "This gives a difference of (1 931 884 - 319 877 = ) 1 612 007 \"missing\" bigrams. This is because of there is many bigrams that are occuring more than once. For example \"selma lagerlöf\" is occuring 11 times, as seen printed above. "
   ]
  },
  {
   "cell_type": "markdown",
   "metadata": {},
   "source": [
    "#### 3. Propose a solution to cope with bigrams unseen in the corpus. This topic will be discussed during the lab session."
   ]
  },
  {
   "cell_type": "markdown",
   "metadata": {},
   "source": [
    "backoff, använd unigram etc. /small value\n"
   ]
  },
  {
   "cell_type": "markdown",
   "metadata": {},
   "source": [
    "## Computing the likelihood of a sentence\n"
   ]
  },
  {
   "cell_type": "markdown",
   "metadata": {},
   "source": [
    "#### 1. Write a program to compute a sentence's probability using unigrams. You may find useful the dictionaries that we saw in the mutual information program: [Program folder]. (https://github.com/pnugues/ilppp/tree/master/programs/ch05/python)\n"
   ]
  },
  {
   "cell_type": "code",
   "execution_count": 20,
   "metadata": {},
   "outputs": [],
   "source": [
    "def string2dict(text):\n",
    "    \"\"\"\n",
    "    Creates a dict with (word:number of apperences) from input string\n",
    "    \n",
    "    Input string, string\n",
    "    Output dict\n",
    "    \"\"\"\n",
    "    stringList = re.findall(r\"<*\\/*\\w+>*\",text)\n",
    "    stringDict = {key : 0 for key in stringList}\n",
    "    \n",
    "    for m in re.finditer(r\"<*\\/*\\w+>*\", text): # Iterate thorugh every word\n",
    "        s = m.start()\n",
    "        e = m.end()\n",
    "        word = text[s:e]\n",
    "        stringDict[word] = stringDict[word] + 1\n",
    "        \n",
    "    return stringDict"
   ]
  },
  {
   "cell_type": "code",
   "execution_count": 21,
   "metadata": {},
   "outputs": [],
   "source": [
    "text = open('selmaLow.txt').read()  \n",
    "\n",
    "dictWord = string2dict(text)"
   ]
  },
  {
   "cell_type": "code",
   "execution_count": 22,
   "metadata": {},
   "outputs": [],
   "source": [
    "def probModelUnigram(words, sentence):\n",
    "    \"\"\"\n",
    "    Returns dict with prob of sentence\n",
    "    \n",
    "    :param dict:\n",
    "    :param string:\n",
    "    :return dict: (values = [wi, C(wi), #words, P(wi)])\n",
    "    \"\"\"\n",
    "    sentence = re.sub(r'(\\p{Lu})', toLowercase, sentence)\n",
    "\n",
    "    \n",
    "    listSentence = re.findall(r\"<*\\/*\\w+>*\",sentence)\n",
    "        \n",
    "    #uniModel = {key : list([]) for key in listSentence}\n",
    "    uniModel = []\n",
    "    nbrWords = 1086836\n",
    "    \n",
    "    for word in listSentence:\n",
    "        if word in words:\n",
    "            uniModel.append([word , words[word], nbrWords, words[word]/nbrWords])\n",
    "        else:\n",
    "            uniModel.append([word , 0, nbrWords, 0])\n",
    "        \n",
    "    return uniModel"
   ]
  },
  {
   "cell_type": "code",
   "execution_count": 23,
   "metadata": {},
   "outputs": [],
   "source": [
    "uniList = probModelUnigram(dictWord, \"det var en gång en katt som hette nils </s>\")"
   ]
  },
  {
   "cell_type": "code",
   "execution_count": 24,
   "metadata": {},
   "outputs": [
    {
     "name": "stdout",
     "output_type": "stream",
     "text": [
      "[wi, C(wi), #words, P(wi)] : \n",
      "['det', 22087, 1086836, 0.020322293335885082]\n",
      "['var', 12852, 1086836, 0.011825151172762036]\n",
      "['en', 13921, 1086836, 0.012808740233117047]\n",
      "['gång', 1332, 1086836, 0.0012255758918548888]\n",
      "['en', 13921, 1086836, 0.012808740233117047]\n",
      "['katt', 15, 1086836, 1.3801530313681181e-05]\n",
      "['som', 16790, 1086836, 0.015448512931113802]\n",
      "['hette', 107, 1086836, 9.845091623759242e-05]\n",
      "['nils', 84, 1086836, 7.728856975661462e-05]\n",
      "['</s>', 63698, 1086836, 0.05860865852805759]\n"
     ]
    }
   ],
   "source": [
    "print(\"[wi, C(wi), #words, P(wi)] : \")\n",
    "for element in uniList:\n",
    "    print(element)"
   ]
  },
  {
   "cell_type": "code",
   "execution_count": 25,
   "metadata": {},
   "outputs": [],
   "source": [
    "import math\n",
    "from scipy import stats\n",
    "\n",
    "def totModel(probList):\n",
    "    \"\"\"\n",
    "    THIS IS NOT WORKING PROBERLY. WHAT IS THE DEFINITION OF ALL THE OUTPUTS?!\n",
    "    \n",
    "    Prob. bigrams, Geometric mean prob., Entropy rate, Perplexity\n",
    "    \n",
    "    :param dict:\n",
    "    :return list():\n",
    "    \"\"\"\n",
    "    sentenceProb = 1\n",
    "    probSum = []\n",
    "    entropy = 0\n",
    "    \n",
    "    for words in probList:\n",
    "        sentenceProb *= words[-1] # Prob. bigrams\n",
    "        probSum.append(words[-1]) # Geometric mean prob\n",
    "    \n",
    "    if sentenceProb == 0:\n",
    "        entropy = 0\n",
    "    else:\n",
    "        entropy = - math.log2(sentenceProb) / len(probList) # Entropy\n",
    "    \n",
    "    perplexity = 2**entropy #perplexity\n",
    "    \n",
    "    return [sentenceProb, stats.gmean(probSum), entropy, perplexity] #entropy*len(probDict.keys()), perplexity]"
   ]
  },
  {
   "cell_type": "code",
   "execution_count": 26,
   "metadata": {},
   "outputs": [
    {
     "name": "stdout",
     "output_type": "stream",
     "text": [
      "[4.594552317604714e-27, 0.0023239368373240534, 8.749213426641543, 430.3042939632865]\n"
     ]
    }
   ],
   "source": [
    "totModelList = totModel(uniList)\n",
    "print(totModelList)"
   ]
  },
  {
   "cell_type": "markdown",
   "metadata": {},
   "source": [
    "#### 2. Write a program to compute the sentence probability using bigrams."
   ]
  },
  {
   "cell_type": "code",
   "execution_count": 27,
   "metadata": {},
   "outputs": [],
   "source": [
    "def count_bigrams(words):\n",
    "    bigrams = [tuple(words[inx:inx + 2]) for inx in range(len(words) - 1)]\n",
    "    frequencies = {}\n",
    "    for bigram in bigrams:\n",
    "        if bigram in frequencies:\n",
    "            frequencies[bigram] += 1\n",
    "        else:\n",
    "            frequencies[bigram] = 1\n",
    "    return frequencies"
   ]
  },
  {
   "cell_type": "code",
   "execution_count": 28,
   "metadata": {},
   "outputs": [],
   "source": [
    "def probModelBigram(text, sentence, totwords = dictWord):\n",
    "    \"\"\"\n",
    "    Returns dict with prob of sentence bigrams\n",
    "    \n",
    "    :param text:\n",
    "    :param string:\n",
    "    :return dict: (values = [wi wi+1 Ci,i+1 C(i) P(wi+1|wi)])\n",
    "    \"\"\"\n",
    "    \n",
    "    words = re.findall(\"<*\\/*\\p{L}+>*\", sentence)\n",
    "    bigrams = [tuple(words[inx:inx + 2]) for inx in range(len(words) - 1)]\n",
    "    \n",
    "    wordsInText = re.findall(\"<*\\/*\\w+>*\", text)\n",
    "    freq = count_bigrams(wordsInText)\n",
    "    \n",
    "    biModel = []\n",
    "    nbrWords = 1086836\n",
    "\n",
    "    for bigram in bigrams:\n",
    "        firstWord = re.findall(bigram[0], text)\n",
    "        if bigram in freq:\n",
    "            biModel.append([bigram[0], bigram[1], freq[bigram], len(firstWord) , freq[bigram]/len(firstWord)])\n",
    "        else:\n",
    "            if bigram[1] in totwords:\n",
    "                biModel.append([bigram[0], bigram[1], 0, len(firstWord), totwords[bigram[1]]/nbrWords]) # Last element *backoff:\n",
    "            else:\n",
    "                biModel.append([bigram[0], bigram[1], 0, len(firstWord), 1*10**(-25)]) # Very small prob.\n",
    "\n",
    "  \n",
    "    return biModel"
   ]
  },
  {
   "cell_type": "code",
   "execution_count": 29,
   "metadata": {},
   "outputs": [],
   "source": [
    "text = open('selmaLow.txt').read()  \n",
    "\n",
    "biList = probModelBigram(text, \"<s> det var en gång en katt som hette nils </s>\")"
   ]
  },
  {
   "cell_type": "code",
   "execution_count": 30,
   "metadata": {},
   "outputs": [
    {
     "name": "stdout",
     "output_type": "stream",
     "text": [
      "[wi wi+1 Ci,i+1 C(i) P(wi+1|wi)] :\n",
      "['<s>', 'det', 5754, 63698, 0.09033250651511822]\n",
      "['det', 'var', 4023, 26764, 0.15031385443132567]\n",
      "['var', 'en', 753, 22780, 0.03305531167690957]\n",
      "['en', 'gång', 695, 94886, 0.0073245789684463465]\n",
      "['gång', 'en', 23, 2194, 0.010483135824977211]\n",
      "['en', 'katt', 5, 94886, 5.269481272263558e-05]\n",
      "['katt', 'som', 2, 488, 0.004098360655737705]\n",
      "['som', 'hette', 50, 18172, 0.00275148580233326]\n",
      "['hette', 'nils', 0, 109, 7.728856975661462e-05]\n",
      "['nils', '</s>', 2, 121, 0.01652892561983471]\n"
     ]
    }
   ],
   "source": [
    "print(\"[wi wi+1 Ci,i+1 C(i) P(wi+1|wi)] :\")\n",
    "for element in biList:\n",
    "    print(element)"
   ]
  },
  {
   "cell_type": "code",
   "execution_count": 31,
   "metadata": {},
   "outputs": [
    {
     "name": "stdout",
     "output_type": "stream",
     "text": [
      "[2.6161546826867327e-23, 0.0055178049169432473, 7.5016898338305875, 181.23148879898764]\n"
     ]
    }
   ],
   "source": [
    "totModelList = totModel(biList)\n",
    "print(totModelList)"
   ]
  },
  {
   "cell_type": "markdown",
   "metadata": {},
   "source": [
    "#### 3. Select five sentences in your test set and run your programs on them."
   ]
  },
  {
   "cell_type": "code",
   "execution_count": 32,
   "metadata": {},
   "outputs": [
    {
     "name": "stderr",
     "output_type": "stream",
     "text": [
      "/anaconda3/envs/py36/lib/python3.6/site-packages/scipy/stats/stats.py:306: RuntimeWarning: divide by zero encountered in log\n",
      "  log_a = np.log(np.array(a, dtype=dtype))\n"
     ]
    }
   ],
   "source": [
    "uniList1 = probModelUnigram(dictWord, \"HaDDwad jaawd awDDacc awger </s>\")\n",
    "totUniList1 = totModel(uniList1) \n",
    "uniList2 = probModelUnigram(dictWord, \"Hur går bilen </s>\")\n",
    "totUniList2 = totModel(uniList2) \n",
    "uniList3 = probModelUnigram(dictWord, \"Hon ryckte till </s>\")\n",
    "totUniList3 = totModel(uniList3) \n",
    "uniList4 = probModelUnigram(dictWord, \"Idag, är: det€£ måndag </s>\")\n",
    "totUniList4 = totModel(uniList4) \n",
    "uniList5 = probModelUnigram(dictWord, \"det var en gång en katt som hette nils </s>\")\n",
    "totUniList5 = totModel(uniList5) "
   ]
  },
  {
   "cell_type": "code",
   "execution_count": 33,
   "metadata": {},
   "outputs": [],
   "source": [
    "biList1 = probModelBigram(text, \"<s> HaDDwad jaawd awDDacc awger </s>\")\n",
    "totBiList1 = totModel(biList1) \n",
    "biList2 = probModelBigram(text, \"<s> Hur går bilen? </s>\")\n",
    "totBiList2 = totModel(biList2) \n",
    "biList3 = probModelBigram(text, \"<s> Hon ryckte till </s>\")\n",
    "totBiList3 = totModel(biList3) \n",
    "biList4 = probModelBigram(text, \"<s> Idag är det måndag </s>\")\n",
    "totBiList4 = totModel(biList4) \n",
    "biList5 = probModelBigram(text, \"<s> det var en gång en katt som hette nils </s>\")\n",
    "totBiList5 = totModel(biList5) "
   ]
  },
  {
   "cell_type": "markdown",
   "metadata": {},
   "source": [
    "#### 4. Tabulate your results as in the examples below with the sentence \"Det var en gång en katt som hette Nils\":\n"
   ]
  },
  {
   "cell_type": "code",
   "execution_count": 34,
   "metadata": {},
   "outputs": [
    {
     "name": "stdout",
     "output_type": "stream",
     "text": [
      "Unigram model\n",
      "=====================================================\n",
      "wi C(wi) #words P(wi)\n",
      "=====================================================\n",
      "['haddwad', 0, 1086836, 0]\n",
      "['jaawd', 0, 1086836, 0]\n",
      "['awddacc', 0, 1086836, 0]\n",
      "['awger', 0, 1086836, 0]\n",
      "['</s>', 63698, 1086836, 0.05860865852805759]\n",
      "=====================================================\n",
      "Prob. unigrams:  0.0\n",
      "Geometric mean prob.:  0.0\n",
      "Entropy rate:  0\n",
      "Perplexity:  1\n",
      "=====================================================\n",
      "=====================================================\n",
      "Bigram model\n",
      "=====================================================\n",
      "wi wi+1 Ci,i+1 C(i) P(wi+1|wi)\n",
      "=====================================================\n",
      "['<s>', 'HaDDwad', 0, 63698, 1e-25]\n",
      "['HaDDwad', 'jaawd', 0, 0, 1e-25]\n",
      "['jaawd', 'awDDacc', 0, 0, 1e-25]\n",
      "['awDDacc', 'awger', 0, 0, 1e-25]\n",
      "['awger', '</s>', 0, 0, 0.05860865852805759]\n",
      "=====================================================\n",
      "Prob. unigrams:  5.860865852805761e-102\n",
      "Geometric mean prob.:  5.67012138399e-21\n",
      "Entropy rate:  67.25711037242209\n",
      "Perplexity:  1.763630674333816e+20\n"
     ]
    }
   ],
   "source": [
    "print(\"Unigram model\")\n",
    "print(\"=====================================================\")\n",
    "print(\"wi C(wi) #words P(wi)\")\n",
    "print(\"=====================================================\")\n",
    "for element in uniList1:\n",
    "    print(element)        \n",
    "print(\"=====================================================\")\n",
    "\n",
    "print(\"Prob. unigrams: \", totUniList1[0])\n",
    "print(\"Geometric mean prob.: \", totUniList1[1])\n",
    "print(\"Entropy rate: \", totUniList1[2])\n",
    "print(\"Perplexity: \", totUniList1[3])\n",
    "\n",
    "print(\"=====================================================\")\n",
    "print(\"=====================================================\")\n",
    "\n",
    "print(\"Bigram model\")\n",
    "print(\"=====================================================\")\n",
    "print(\"wi wi+1 Ci,i+1 C(i) P(wi+1|wi)\")\n",
    "print(\"=====================================================\")\n",
    "for element in biList1:\n",
    "    print(element)        \n",
    "print(\"=====================================================\")\n",
    "print(\"Prob. unigrams: \", totBiList1[0])\n",
    "print(\"Geometric mean prob.: \", totBiList1[1])\n",
    "print(\"Entropy rate: \", totBiList1[2])\n",
    "print(\"Perplexity: \", totBiList1[3]) "
   ]
  },
  {
   "cell_type": "code",
   "execution_count": 35,
   "metadata": {},
   "outputs": [
    {
     "name": "stdout",
     "output_type": "stream",
     "text": [
      "Unigram model\n",
      "=====================================================\n",
      "wi C(wi) #words P(wi)\n",
      "=====================================================\n",
      "['hur', 2100, 1086836, 0.0019322142439153654]\n",
      "['går', 655, 1086836, 0.0006026668236974116]\n",
      "['bilen', 0, 1086836, 0]\n",
      "['</s>', 63698, 1086836, 0.05860865852805759]\n",
      "=====================================================\n",
      "Prob. unigrams:  0.0\n",
      "Geometric mean prob.:  0.0\n",
      "Entropy rate:  0\n",
      "Perplexity:  1\n",
      "=====================================================\n",
      "=====================================================\n",
      "Bigram model\n",
      "=====================================================\n",
      "wi wi+1 Ci,i+1 C(i) P(wi+1|wi)\n",
      "=====================================================\n",
      "['<s>', 'Hur', 0, 63698, 1e-25]\n",
      "['Hur', 'går', 0, 0, 0.0006026668236974116]\n",
      "['går', 'bilen', 0, 2969, 1e-25]\n",
      "['bilen', '</s>', 0, 3, 0.05860865852805759]\n",
      "=====================================================\n",
      "Prob. unigrams:  3.532149407627068e-55\n",
      "Geometric mean prob.:  2.43786564049e-14\n",
      "Entropy rate:  45.221374712366035\n",
      "Perplexity:  41019487841774.53\n"
     ]
    }
   ],
   "source": [
    "print(\"Unigram model\")\n",
    "print(\"=====================================================\")\n",
    "print(\"wi C(wi) #words P(wi)\")\n",
    "print(\"=====================================================\")\n",
    "for element in uniList2:\n",
    "    print(element)        \n",
    "print(\"=====================================================\")\n",
    "\n",
    "print(\"Prob. unigrams: \", totUniList2[0])\n",
    "print(\"Geometric mean prob.: \", totUniList2[1])\n",
    "print(\"Entropy rate: \", totUniList2[2])\n",
    "print(\"Perplexity: \", totUniList2[3])\n",
    "\n",
    "print(\"=====================================================\")\n",
    "print(\"=====================================================\")\n",
    "\n",
    "print(\"Bigram model\")\n",
    "print(\"=====================================================\")\n",
    "print(\"wi wi+1 Ci,i+1 C(i) P(wi+1|wi)\")\n",
    "print(\"=====================================================\")\n",
    "for element in biList2:\n",
    "    print(element)        \n",
    "print(\"=====================================================\")\n",
    "print(\"Prob. unigrams: \", totBiList2[0])\n",
    "print(\"Geometric mean prob.: \", totBiList2[1])\n",
    "print(\"Entropy rate: \", totBiList2[2])\n",
    "print(\"Perplexity: \", totBiList2[3]) "
   ]
  },
  {
   "cell_type": "code",
   "execution_count": 36,
   "metadata": {},
   "outputs": [
    {
     "name": "stdout",
     "output_type": "stream",
     "text": [
      "Unigram model\n",
      "=====================================================\n",
      "wi C(wi) #words P(wi)\n",
      "=====================================================\n",
      "['hon', 14093, 1086836, 0.012966997780713925]\n",
      "['ryckte', 119, 1086836, 0.00010949214048853736]\n",
      "['till', 9445, 1086836, 0.008690363587514583]\n",
      "['</s>', 63698, 1086836, 0.05860865852805759]\n",
      "=====================================================\n",
      "Prob. unigrams:  7.231395429779202e-10\n",
      "Geometric mean prob.:  0.00518567777864\n",
      "Entropy rate:  7.591251720121058\n",
      "Perplexity:  192.83882313680908\n",
      "=====================================================\n",
      "=====================================================\n",
      "Bigram model\n",
      "=====================================================\n",
      "wi wi+1 Ci,i+1 C(i) P(wi+1|wi)\n",
      "=====================================================\n",
      "['<s>', 'Hon', 0, 63698, 1e-25]\n",
      "['Hon', 'ryckte', 0, 0, 0.00010949214048853736]\n",
      "['ryckte', 'till', 36, 188, 0.19148936170212766]\n",
      "['till', '</s>', 262, 12110, 0.021635012386457472]\n",
      "=====================================================\n",
      "Prob. unigrams:  4.5361222002560064e-32\n",
      "Geometric mean prob.:  1.45938939631e-08\n",
      "Entropy rate:  26.030059882575564\n",
      "Perplexity:  68521807.99213421\n"
     ]
    }
   ],
   "source": [
    "print(\"Unigram model\")\n",
    "print(\"=====================================================\")\n",
    "print(\"wi C(wi) #words P(wi)\")\n",
    "print(\"=====================================================\")\n",
    "for element in uniList3:\n",
    "    print(element)        \n",
    "print(\"=====================================================\")\n",
    "print(\"Prob. unigrams: \", totUniList3[0])\n",
    "print(\"Geometric mean prob.: \", totUniList3[1])\n",
    "print(\"Entropy rate: \", totUniList3[2])\n",
    "print(\"Perplexity: \", totUniList3[3])\n",
    "\n",
    "print(\"=====================================================\")\n",
    "print(\"=====================================================\")\n",
    "\n",
    "print(\"Bigram model\")\n",
    "print(\"=====================================================\")\n",
    "print(\"wi wi+1 Ci,i+1 C(i) P(wi+1|wi)\")\n",
    "print(\"=====================================================\")\n",
    "for element in biList3:\n",
    "    print(element)        \n",
    "print(\"=====================================================\")\n",
    "print(\"Prob. unigrams: \", totBiList3[0])\n",
    "print(\"Geometric mean prob.: \", totBiList3[1])\n",
    "print(\"Entropy rate: \", totBiList3[2])\n",
    "print(\"Perplexity: \", totBiList3[3]) "
   ]
  },
  {
   "cell_type": "code",
   "execution_count": 37,
   "metadata": {},
   "outputs": [
    {
     "name": "stdout",
     "output_type": "stream",
     "text": [
      "Unigram model\n",
      "=====================================================\n",
      "wi C(wi) #words P(wi)\n",
      "=====================================================\n",
      "['idag', 4, 1086836, 3.680408083648315e-06]\n",
      "['är', 6378, 1086836, 0.005868410689377239]\n",
      "['det', 22087, 1086836, 0.020322293335885082]\n",
      "['måndag', 1, 1086836, 9.201020209120787e-07]\n",
      "['</s>', 63698, 1086836, 0.05860865852805759]\n",
      "=====================================================\n",
      "Prob. unigrams:  2.3669384074492462e-17\n",
      "Geometric mean prob.:  0.000472974134731\n",
      "Entropy rate:  11.0459510896766\n",
      "Perplexity:  2114.2805210048605\n",
      "=====================================================\n",
      "=====================================================\n",
      "Bigram model\n",
      "=====================================================\n",
      "wi wi+1 Ci,i+1 C(i) P(wi+1|wi)\n",
      "=====================================================\n",
      "['<s>', 'Idag', 0, 63698, 1e-25]\n",
      "['Idag', 'är', 0, 0, 0.005868410689377239]\n",
      "['är', 'det', 584, 29703, 0.019661313672019662]\n",
      "['det', 'måndag', 0, 26764, 9.201020209120787e-07]\n",
      "['måndag', '</s>', 0, 7, 0.05860865852805759]\n",
      "=====================================================\n",
      "Prob. unigrams:  6.2220113221013024e-37\n",
      "Geometric mean prob.:  5.73833844795e-08\n",
      "Entropy rate:  24.054791698141408\n",
      "Perplexity:  17426647.261584166\n"
     ]
    }
   ],
   "source": [
    "print(\"Unigram model\")\n",
    "print(\"=====================================================\")\n",
    "print(\"wi C(wi) #words P(wi)\")\n",
    "print(\"=====================================================\")\n",
    "for element in uniList4:\n",
    "    print(element)        \n",
    "print(\"=====================================================\")\n",
    "print(\"Prob. unigrams: \", totUniList4[0])\n",
    "print(\"Geometric mean prob.: \", totUniList4[1])\n",
    "print(\"Entropy rate: \", totUniList4[2])\n",
    "print(\"Perplexity: \", totUniList4[3])\n",
    "\n",
    "print(\"=====================================================\")\n",
    "print(\"=====================================================\")\n",
    "\n",
    "print(\"Bigram model\")\n",
    "print(\"=====================================================\")\n",
    "print(\"wi wi+1 Ci,i+1 C(i) P(wi+1|wi)\")\n",
    "print(\"=====================================================\")\n",
    "for element in biList4:\n",
    "    print(element)        \n",
    "print(\"=====================================================\")\n",
    "print(\"Prob. unigrams: \", totBiList4[0])\n",
    "print(\"Geometric mean prob.: \", totBiList4[1])\n",
    "print(\"Entropy rate: \", totBiList4[2])\n",
    "print(\"Perplexity: \", totBiList4[3]) "
   ]
  },
  {
   "cell_type": "code",
   "execution_count": 38,
   "metadata": {},
   "outputs": [
    {
     "name": "stdout",
     "output_type": "stream",
     "text": [
      "Unigram model\n",
      "=====================================================\n",
      "wi C(wi) #words P(wi)\n",
      "=====================================================\n",
      "['det', 22087, 1086836, 0.020322293335885082]\n",
      "['var', 12852, 1086836, 0.011825151172762036]\n",
      "['en', 13921, 1086836, 0.012808740233117047]\n",
      "['gång', 1332, 1086836, 0.0012255758918548888]\n",
      "['en', 13921, 1086836, 0.012808740233117047]\n",
      "['katt', 15, 1086836, 1.3801530313681181e-05]\n",
      "['som', 16790, 1086836, 0.015448512931113802]\n",
      "['hette', 107, 1086836, 9.845091623759242e-05]\n",
      "['nils', 84, 1086836, 7.728856975661462e-05]\n",
      "['</s>', 63698, 1086836, 0.05860865852805759]\n",
      "=====================================================\n",
      "Prob. unigrams:  4.594552317604714e-27\n",
      "Geometric mean prob.:  0.00232393683732\n",
      "Entropy rate:  8.749213426641543\n",
      "Perplexity:  430.3042939632865\n",
      "=====================================================\n",
      "=====================================================\n",
      "Bigram model\n",
      "=====================================================\n",
      "wi wi+1 Ci,i+1 C(i) P(wi+1|wi)\n",
      "=====================================================\n",
      "['<s>', 'det', 5754, 63698, 0.09033250651511822]\n",
      "['det', 'var', 4023, 26764, 0.15031385443132567]\n",
      "['var', 'en', 753, 22780, 0.03305531167690957]\n",
      "['en', 'gång', 695, 94886, 0.0073245789684463465]\n",
      "['gång', 'en', 23, 2194, 0.010483135824977211]\n",
      "['en', 'katt', 5, 94886, 5.269481272263558e-05]\n",
      "['katt', 'som', 2, 488, 0.004098360655737705]\n",
      "['som', 'hette', 50, 18172, 0.00275148580233326]\n",
      "['hette', 'nils', 0, 109, 7.728856975661462e-05]\n",
      "['nils', '</s>', 2, 121, 0.01652892561983471]\n",
      "=====================================================\n",
      "Prob. unigrams:  2.6161546826867327e-23\n",
      "Geometric mean prob.:  0.00551780491694\n",
      "Entropy rate:  7.5016898338305875\n",
      "Perplexity:  181.23148879898764\n"
     ]
    }
   ],
   "source": [
    "print(\"Unigram model\")\n",
    "print(\"=====================================================\")\n",
    "print(\"wi C(wi) #words P(wi)\")\n",
    "print(\"=====================================================\")\n",
    "for element in uniList5:\n",
    "    print(element)        \n",
    "print(\"=====================================================\")\n",
    "print(\"Prob. unigrams: \", totUniList5[0])\n",
    "print(\"Geometric mean prob.: \", totUniList5[1])\n",
    "print(\"Entropy rate: \", totUniList5[2])\n",
    "print(\"Perplexity: \", totUniList5[3])\n",
    "\n",
    "print(\"=====================================================\")\n",
    "print(\"=====================================================\")\n",
    "\n",
    "print(\"Bigram model\")\n",
    "print(\"=====================================================\")\n",
    "print(\"wi wi+1 Ci,i+1 C(i) P(wi+1|wi)\")\n",
    "print(\"=====================================================\")\n",
    "for element in biList5:\n",
    "    print(element)        \n",
    "print(\"=====================================================\")\n",
    "print(\"Prob. unigrams: \", totBiList5[0])\n",
    "print(\"Geometric mean prob.: \", totBiList5[1])\n",
    "print(\"Entropy rate: \", totBiList5[2])\n",
    "print(\"Perplexity: \", totBiList5[3]) \n"
   ]
  },
  {
   "cell_type": "markdown",
   "metadata": {},
   "source": [
    "## Reading"
   ]
  },
  {
   "cell_type": "markdown",
   "metadata": {},
   "source": [
    "As an application of n-grams, execute the Jupyter notebook by Peter Norvig here (http://nbviewer.jupyter.org/url/norvig.com/ipython/How%20to%20Do%20Things%20with%20Words.ipynb). Just run all the cells and be sure that you understand the code. You will find the data here (http://norvig.com/ngrams/). In you report, you will describe one experiment with a long string of words your will create yourself."
   ]
  },
  {
   "cell_type": "markdown",
   "metadata": {},
   "source": [
    "See report"
   ]
  }
 ],
 "metadata": {
  "kernelspec": {
   "display_name": "Python 3",
   "language": "python",
   "name": "python3"
  },
  "language_info": {
   "codemirror_mode": {
    "name": "ipython",
    "version": 3
   },
   "file_extension": ".py",
   "mimetype": "text/x-python",
   "name": "python",
   "nbconvert_exporter": "python",
   "pygments_lexer": "ipython3",
   "version": "3.6.8"
  }
 },
 "nbformat": 4,
 "nbformat_minor": 2
}
