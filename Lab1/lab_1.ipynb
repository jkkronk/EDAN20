{
 "cells": [
  {
   "cell_type": "markdown",
   "metadata": {},
   "source": [
    "# Lab 1 "
   ]
  },
  {
   "cell_type": "markdown",
   "metadata": {},
   "source": [
    "Laboration 1 in EDAN20 @ LTH - http://cs.lth.se/edan20/coursework/assignment-1/"
   ]
  },
  {
   "cell_type": "markdown",
   "metadata": {},
   "source": [
    "### The objectives of this assignment are to:\n",
    "\n",
    "-Write a program that collects all the words from a set of documents\n",
    "\n",
    "-Build an index from the words\n",
    "\n",
    "-Know what indexing is\n",
    "\n",
    "-Represent a document using the Tf.Idf value\n",
    "\n",
    "-Write a short report of 1 to 2 pages on the assignment\n",
    "\n",
    "-Read a short text on an industrial system"
   ]
  },
  {
   "cell_type": "markdown",
   "metadata": {},
   "source": [
    "## Indexing one file"
   ]
  },
  {
   "cell_type": "markdown",
   "metadata": {},
   "source": [
    "* The index file will contain all the unique words in the document, where each word is associated with the list of its positions in the document.\n",
    "\n",
    "* You will represent this index as a dictionary where the keys will be the words and the values, the lists of positions"
   ]
  },
  {
   "cell_type": "markdown",
   "metadata": {},
   "source": [
    "* As words, you will consider all the strings of letters that you will set in lower case. You will not index the rest (i.e. numbers or symbols).\n",
    "\n",
    "This is done by first using function txtClean."
   ]
  },
  {
   "cell_type": "code",
   "execution_count": 107,
   "metadata": {},
   "outputs": [],
   "source": [
    "import re\n",
    "\n",
    "def txtClean(text):\n",
    "    \"\"\"\n",
    "    Replace capital characters to small characters\n",
    "    \n",
    "    Input txt file\n",
    "    Output txt file\n",
    "    \"\"\"\n",
    "    # Remove new lines\n",
    "    text = re.sub(\"\\n\", \" \", text)\n",
    "    \n",
    "    # Replace [A-Ö] with [a-ö]\n",
    "    def toLowercase(matchobj):\n",
    "        return matchobj.group(1).lower()\n",
    "    \n",
    "    text = re.sub(r'([A-Z])', toLowercase, text)\n",
    "    \n",
    "    # Remove multiple spaces\n",
    "    text = re.sub(' +', ' ', text)\n",
    "\n",
    "    return text    "
   ]
  },
  {
   "cell_type": "code",
   "execution_count": 108,
   "metadata": {},
   "outputs": [],
   "source": [
    "text = open(\"Selma/bannlyst.txt\").read()  \n",
    "txt = txtClean(text)"
   ]
  },
  {
   "cell_type": "markdown",
   "metadata": {},
   "source": [
    "* To extract the words, you will use Unicode regular expressions. Do not use \\w+, for instance, but the Unicode equivalent. The word positions will correspond to the number of characters from the beginning of the file. (The word offset from the beginning)\n",
    "\n",
    "* You will use finditer() to find the positions of the words. This will return you match objects, where you will get the matches and the positions with the group() and start() methods."
   ]
  },
  {
   "cell_type": "code",
   "execution_count": 182,
   "metadata": {},
   "outputs": [],
   "source": [
    "def string2dict(text,originaltext):\n",
    "    \"\"\"\n",
    "    Creates a dict with (word:list[index apperences]) from input string\n",
    "    \n",
    "    Input string, string\n",
    "    Output dict\n",
    "    \"\"\"\n",
    "    stringList = re.findall(r\"[a-zåäö]+\",text) #This finds all words from a txt file. r\"[a-zåäö]+ equal to r\"\\w+\" \n",
    "\n",
    "    stringDict = dict.fromkeys(stringList) #Creates dict (and remove doublicates)\n",
    "\n",
    "    for word in stringDict:\n",
    "        wordIndices = []\n",
    "        pattern = r\"\\b\"+word+ r\"\\b\" #Only look at word \n",
    "        \n",
    "        for m in re.finditer(pattern, originaltext): #Iterate thorugh every word\n",
    "            wordIndices.append(m.start(0))\n",
    "            \n",
    "        stringDict.update({word:wordIndices})\n",
    "    return stringDict"
   ]
  },
  {
   "cell_type": "code",
   "execution_count": 183,
   "metadata": {},
   "outputs": [],
   "source": [
    "txtDict = string2dict(txt,text) "
   ]
  },
  {
   "cell_type": "code",
   "execution_count": 214,
   "metadata": {},
   "outputs": [
    {
     "data": {
      "text/plain": [
       "7950"
      ]
     },
     "execution_count": 214,
     "metadata": {},
     "output_type": "execute_result"
    }
   ],
   "source": [
    "len(txtDict)"
   ]
  },
  {
   "cell_type": "markdown",
   "metadata": {},
   "source": [
    "Test with bannlyst text. The word gjord occurs three times in the text at positions 8551, 183692, and 220875, uppklarnande, once at position 8567, and stjärnor, once at position 8590. "
   ]
  },
  {
   "cell_type": "code",
   "execution_count": 185,
   "metadata": {},
   "outputs": [
    {
     "data": {
      "text/plain": [
       "[8551, 183692, 220875]"
      ]
     },
     "execution_count": 185,
     "metadata": {},
     "output_type": "execute_result"
    }
   ],
   "source": [
    "txtDict['gjord']"
   ]
  },
  {
   "cell_type": "code",
   "execution_count": 188,
   "metadata": {},
   "outputs": [
    {
     "data": {
      "text/plain": [
       "[8567]"
      ]
     },
     "execution_count": 188,
     "metadata": {},
     "output_type": "execute_result"
    }
   ],
   "source": [
    "txtDict['uppklarnande']"
   ]
  },
  {
   "cell_type": "code",
   "execution_count": 186,
   "metadata": {},
   "outputs": [
    {
     "data": {
      "text/plain": [
       "[8590]"
      ]
     },
     "execution_count": 186,
     "metadata": {},
     "output_type": "execute_result"
    }
   ],
   "source": [
    "txtDict['stjärnor']"
   ]
  },
  {
   "cell_type": "markdown",
   "metadata": {},
   "source": [
    "* You will use the pickle package to write your dictionary in an file, see https://wiki.python.org/moin/UsingPickle."
   ]
  },
  {
   "cell_type": "code",
   "execution_count": 189,
   "metadata": {},
   "outputs": [],
   "source": [
    "import pickle\n",
    "\n",
    "with open('BannlystTxtDict.pickle', 'wb') as handle:\n",
    "    pickle.dump(txtDict, handle, protocol=pickle.HIGHEST_PROTOCOL)"
   ]
  },
  {
   "cell_type": "markdown",
   "metadata": {},
   "source": [
    "Open pickle"
   ]
  },
  {
   "cell_type": "code",
   "execution_count": 190,
   "metadata": {},
   "outputs": [],
   "source": [
    "with open('BannlystTxtDict.pickle', 'rb') as handle:\n",
    "    BannlystTxtDict = pickle.load(handle)"
   ]
  },
  {
   "cell_type": "markdown",
   "metadata": {},
   "source": [
    "Test"
   ]
  },
  {
   "cell_type": "code",
   "execution_count": 192,
   "metadata": {},
   "outputs": [
    {
     "data": {
      "text/plain": [
       "True"
      ]
     },
     "execution_count": 192,
     "metadata": {},
     "output_type": "execute_result"
    }
   ],
   "source": [
    "BannlystTxtDict == txtDict"
   ]
  },
  {
   "cell_type": "markdown",
   "metadata": {},
   "source": [
    "## Reading the content of a folder"
   ]
  },
  {
   "cell_type": "markdown",
   "metadata": {},
   "source": [
    "Write a function that reads all the files in a folder with a specific suffix (txt). You will need the Python os package, see https://docs.python.org/3/library/os.html. You will return the file names in a list."
   ]
  },
  {
   "cell_type": "markdown",
   "metadata": {},
   "source": [
    "Use function:"
   ]
  },
  {
   "cell_type": "code",
   "execution_count": 236,
   "metadata": {},
   "outputs": [],
   "source": [
    "import os\n",
    "\n",
    "def get_files(fileDir, suffix):\n",
    "    \"\"\"\n",
    "    Returns all the files in a folder ending with suffix\n",
    "    :param filedir:\n",
    "    :param suffix:\n",
    "    :return: the list of file names\n",
    "    \"\"\"\n",
    "    files = []\n",
    "    for file in os.listdir(fileDir):\n",
    "        if file.endswith(suffix):\n",
    "            files.append(file)\n",
    "    return files"
   ]
  },
  {
   "cell_type": "code",
   "execution_count": 237,
   "metadata": {},
   "outputs": [],
   "source": [
    "files = get_files(\"selma\", \".txt\")"
   ]
  },
  {
   "cell_type": "code",
   "execution_count": 238,
   "metadata": {},
   "outputs": [
    {
     "data": {
      "text/plain": [
       "['troll.txt',\n",
       " 'kejsaren.txt',\n",
       " 'marbacka.txt',\n",
       " 'herrgard.txt',\n",
       " 'nils.txt',\n",
       " 'osynliga.txt',\n",
       " 'jerusalem.txt',\n",
       " 'bannlyst.txt',\n",
       " 'gosta.txt']"
      ]
     },
     "execution_count": 238,
     "metadata": {},
     "output_type": "execute_result"
    }
   ],
   "source": [
    "files"
   ]
  },
  {
   "cell_type": "markdown",
   "metadata": {},
   "source": [
    "## Creating a master index"
   ]
  },
  {
   "cell_type": "markdown",
   "metadata": {},
   "source": [
    "Complete your program with the creation of master index, where you will associate each word of the corpus with the files, where it occur and its positions. (a posting list)"
   ]
  },
  {
   "cell_type": "code",
   "execution_count": 333,
   "metadata": {},
   "outputs": [],
   "source": [
    "\n",
    "def addAll(fileDir,files): \n",
    "    \"\"\"\n",
    "    Reads all files in list and matches to txt files\n",
    "    :param dir:\n",
    "    :param files:\n",
    "    :return dict:\n",
    "    \"\"\"\n",
    "    allDict = {}\n",
    "\n",
    "    for file in files:\n",
    "        text = open(fileDir+\"/\"+file).read()  \n",
    "        txt = txtClean(text)\n",
    "        stringList = re.findall(r\"[a-zåäö]+\",txt)\n",
    "        allDict.update(dict.fromkeys(stringList)) # is this ok?!\n",
    "    \n",
    "    wordIndices = []  \n",
    "    i = 0\n",
    "\n",
    "    for word in allDict: # Iterate through every word in master dict\n",
    "        pattern = r\"\\b\"+word+ r\"\\b\" # Only look at word\n",
    "        allDict[word] = {}\n",
    "        for file in files: # Iterate through every text\n",
    "            text = open(fileDir+\"/\"+file).read()  \n",
    "            for m in re.finditer(pattern, text): #Iterate through every word in file text\n",
    "                wordIndices.append(m.start(0))            \n",
    "            allDict[word][file] = list(wordIndices)\n",
    "            wordIndices.clear()\n",
    "        print(i/len(allDict))\n",
    "        i = i+1\n",
    "      \n",
    "    return allDict"
   ]
  },
  {
   "cell_type": "code",
   "execution_count": null,
   "metadata": {},
   "outputs": [
    {
     "name": "stdout",
     "output_type": "stream",
     "text": [
      "0.0\n",
      "2.53350561171493e-05\n",
      "5.06701122342986e-05\n",
      "7.60051683514479e-05\n",
      "0.0001013402244685972\n",
      "0.0001266752805857465\n",
      "0.0001520103367028958\n",
      "0.0001773453928200451\n",
      "0.0002026804489371944\n",
      "0.0002280155050543437\n",
      "0.000253350561171493\n",
      "0.00027868561728864227\n",
      "0.0003040206734057916\n",
      "0.0003293557295229409\n",
      "0.0003546907856400902\n",
      "0.00038002584175723947\n",
      "0.0004053608978743888\n",
      "0.0004306959539915381\n",
      "0.0004560310101086874\n",
      "0.0004813660662258367\n",
      "0.000506701122342986\n",
      "0.0005320361784601353\n",
      "0.0005573712345772845\n",
      "0.0005827062906944339\n",
      "0.0006080413468115832\n",
      "0.0006333764029287325\n",
      "0.0006587114590458818\n",
      "0.000684046515163031\n",
      "0.0007093815712801804\n",
      "0.0007347166273973297\n",
      "0.0007600516835144789\n",
      "0.0007853867396316283\n",
      "0.0008107217957487776\n",
      "0.0008360568518659269\n",
      "0.0008613919079830762\n",
      "0.0008867269641002254\n",
      "0.0009120620202173748\n",
      "0.0009373970763345241\n",
      "0.0009627321324516734\n",
      "0.0009880671885688227\n",
      "0.001013402244685972\n",
      "0.0010387373008031212\n",
      "0.0010640723569202706\n",
      "0.00108940741303742\n",
      "0.001114742469154569\n",
      "0.0011400775252717185\n",
      "0.0011654125813888678\n",
      "0.001190747637506017\n",
      "0.0012160826936231663\n",
      "0.0012414177497403157\n",
      "0.001266752805857465\n",
      "0.0012920878619746142\n",
      "0.0013174229180917636\n",
      "0.001342757974208913\n",
      "0.001368093030326062\n",
      "0.0013934280864432115\n",
      "0.0014187631425603608\n",
      "0.00144409819867751\n",
      "0.0014694332547946594\n",
      "0.0014947683109118087\n",
      "0.0015201033670289579\n",
      "0.0015454384231461072\n",
      "0.0015707734792632566\n",
      "0.001596108535380406\n",
      "0.0016214435914975551\n",
      "0.0016467786476147045\n",
      "0.0016721137037318539\n",
      "0.001697448759849003\n",
      "0.0017227838159661524\n",
      "0.0017481188720833017\n",
      "0.0017734539282004509\n",
      "0.0017987889843176003\n",
      "0.0018241240404347496\n",
      "0.0018494590965518988\n",
      "0.0018747941526690481\n",
      "0.0019001292087861975\n",
      "0.0019254642649033469\n",
      "0.001950799321020496\n",
      "0.0019761343771376454\n",
      "0.0020014694332547945\n",
      "0.002026804489371944\n",
      "0.0020521395454890933\n",
      "0.0020774746016062424\n",
      "0.002102809657723392\n",
      "0.002128144713840541\n",
      "0.0021534797699576903\n",
      "0.00217881482607484\n",
      "0.002204149882191989\n",
      "0.002229484938309138\n",
      "0.0022548199944262878\n",
      "0.002280155050543437\n",
      "0.002305490106660586\n",
      "0.0023308251627777356\n",
      "0.002356160218894885\n",
      "0.002381495275012034\n",
      "0.0024068303311291835\n",
      "0.0024321653872463327\n",
      "0.0024575004433634823\n",
      "0.0024828354994806314\n",
      "0.0025081705555977806\n",
      "0.00253350561171493\n",
      "0.0025588406678320793\n",
      "0.0025841757239492284\n",
      "0.002609510780066378\n",
      "0.002634845836183527\n",
      "0.0026601808923006763\n",
      "0.002685515948417826\n",
      "0.002710851004534975\n",
      "0.002736186060652124\n",
      "0.002761521116769274\n",
      "0.002786856172886423\n",
      "0.002812191229003572\n",
      "0.0028375262851207217\n",
      "0.002862861341237871\n",
      "0.00288819639735502\n",
      "0.0029135314534721696\n",
      "0.0029388665095893187\n",
      "0.002964201565706468\n",
      "0.0029895366218236174\n",
      "0.0030148716779407666\n",
      "0.0030402067340579157\n",
      "0.0030655417901750653\n",
      "0.0030908768462922145\n",
      "0.0031162119024093636\n",
      "0.003141546958526513\n",
      "0.0031668820146436624\n",
      "0.003192217070760812\n",
      "0.003217552126877961\n",
      "0.0032428871829951102\n",
      "0.00326822223911226\n",
      "0.003293557295229409\n",
      "0.003318892351346558\n",
      "0.0033442274074637077\n",
      "0.003369562463580857\n",
      "0.003394897519698006\n",
      "0.0034202325758151556\n",
      "0.0034455676319323047\n",
      "0.003470902688049454\n",
      "0.0034962377441666035\n",
      "0.0035215728002837526\n",
      "0.0035469078564009018\n",
      "0.0035722429125180514\n",
      "0.0035975779686352005\n",
      "0.0036229130247523497\n",
      "0.0036482480808694992\n",
      "0.0036735831369866484\n",
      "0.0036989181931037975\n",
      "0.003724253249220947\n",
      "0.0037495883053380963\n",
      "0.0037749233614552454\n",
      "0.003800258417572395\n",
      "0.003825593473689544\n",
      "0.0038509285298066937\n",
      "0.003876263585923843\n",
      "0.003901598642040992\n",
      "0.003926933698158141\n",
      "0.003952268754275291\n",
      "0.00397760381039244\n",
      "0.004002938866509589\n",
      "0.004028273922626739\n",
      "0.004053608978743888\n",
      "0.004078944034861037\n",
      "0.0041042790909781865\n",
      "0.004129614147095336\n",
      "0.004154949203212485\n",
      "0.004180284259329634\n",
      "0.004205619315446784\n",
      "0.004230954371563933\n",
      "0.004256289427681082\n",
      "0.004281624483798232\n",
      "0.004306959539915381\n",
      "0.00433229459603253\n",
      "0.00435762965214968\n",
      "0.0043829647082668285\n",
      "0.004408299764383978\n",
      "0.004433634820501128\n",
      "0.004458969876618276\n",
      "0.004484304932735426\n",
      "0.0045096399888525755\n",
      "0.004534975044969724\n",
      "0.004560310101086874\n",
      "0.004585645157204023\n",
      "0.004610980213321172\n",
      "0.004636315269438322\n",
      "0.004661650325555471\n",
      "0.00468698538167262\n",
      "0.00471232043778977\n",
      "0.004737655493906919\n",
      "0.004762990550024068\n",
      "0.0047883256061412175\n",
      "0.004813660662258367\n",
      "0.004838995718375516\n",
      "0.004864330774492665\n",
      "0.004889665830609815\n",
      "0.0049150008867269645\n",
      "0.004940335942844113\n",
      "0.004965670998961263\n",
      "0.004991006055078412\n",
      "0.005016341111195561\n",
      "0.005041676167312711\n",
      "0.00506701122342986\n",
      "0.005092346279547009\n",
      "0.005117681335664159\n",
      "0.005143016391781308\n",
      "0.005168351447898457\n",
      "0.0051936865040156065\n",
      "0.005219021560132756\n",
      "0.005244356616249905\n",
      "0.005269691672367054\n",
      "0.005295026728484204\n",
      "0.005320361784601353\n",
      "0.005345696840718502\n",
      "0.005371031896835652\n",
      "0.0053963669529528005\n",
      "0.00542170200906995\n",
      "0.0054470370651871\n",
      "0.005472372121304248\n",
      "0.005497707177421398\n",
      "0.005523042233538548\n",
      "0.005548377289655696\n",
      "0.005573712345772846\n",
      "0.0055990474018899955\n",
      "0.005624382458007144\n",
      "0.005649717514124294\n",
      "0.005675052570241443\n",
      "0.005700387626358592\n",
      "0.005725722682475742\n",
      "0.005751057738592891\n",
      "0.00577639279471004\n",
      "0.0058017278508271895\n",
      "0.005827062906944339\n",
      "0.005852397963061488\n",
      "0.005877733019178637\n",
      "0.005903068075295787\n",
      "0.005928403131412936\n",
      "0.005953738187530085\n",
      "0.005979073243647235\n",
      "0.006004408299764384\n",
      "0.006029743355881533\n",
      "0.006055078411998683\n",
      "0.0060804134681158315\n",
      "0.006105748524232981\n",
      "0.006131083580350131\n",
      "0.006156418636467279\n",
      "0.006181753692584429\n",
      "0.0062070887487015785\n",
      "0.006232423804818727\n",
      "0.006257758860935877\n",
      "0.006283093917053026\n",
      "0.006308428973170176\n",
      "0.006333764029287325\n",
      "0.006359099085404474\n",
      "0.006384434141521624\n",
      "0.006409769197638773\n",
      "0.006435104253755922\n",
      "0.006460439309873072\n",
      "0.0064857743659902205\n",
      "0.00651110942210737\n",
      "0.00653644447822452\n",
      "0.006561779534341668\n",
      "0.006587114590458818\n",
      "0.0066124496465759675\n",
      "0.006637784702693116\n",
      "0.006663119758810266\n",
      "0.006688454814927415\n",
      "0.006713789871044564\n",
      "0.006739124927161714\n",
      "0.006764459983278863\n",
      "0.006789795039396012\n",
      "0.006815130095513162\n",
      "0.006840465151630311\n"
     ]
    }
   ],
   "source": [
    "masterDict = addAll('selma',files)"
   ]
  },
  {
   "cell_type": "code",
   "execution_count": null,
   "metadata": {},
   "outputs": [],
   "source": [
    "with open('masterDict.pickle', 'wb') as handle:\n",
    "    pickle.dump(masterDict, handle, protocol=pickle.HIGHEST_PROTOCOL)"
   ]
  },
  {
   "cell_type": "markdown",
   "metadata": {},
   "source": [
    "Test of master dict. Below is an except of the master index with the words samlar and ände:"
   ]
  },
  {
   "cell_type": "markdown",
   "metadata": {},
   "source": [
    "'samlar': {'nils.txt': [53499, 120336], 'gosta.txt': [317119, 414300, 543686],'osynliga.txt': [410995, 871322]},\n",
    "\n",
    "'ände':{'nils.txt': [3991],'kejsaren.txt': [51100],'marbacka.txt': [374231],'troll.txt': [39726],'osynliga.txt': [742747]},"
   ]
  },
  {
   "cell_type": "code",
   "execution_count": null,
   "metadata": {},
   "outputs": [],
   "source": [
    "masterDict[\"samlar\"]"
   ]
  },
  {
   "cell_type": "code",
   "execution_count": null,
   "metadata": {},
   "outputs": [],
   "source": [
    "masterDict[\"ände\"]"
   ]
  },
  {
   "cell_type": "code",
   "execution_count": null,
   "metadata": {},
   "outputs": [],
   "source": []
  }
 ],
 "metadata": {
  "kernelspec": {
   "display_name": "Python 3",
   "language": "python",
   "name": "python3"
  },
  "language_info": {
   "codemirror_mode": {
    "name": "ipython",
    "version": 3
   },
   "file_extension": ".py",
   "mimetype": "text/x-python",
   "name": "python",
   "nbconvert_exporter": "python",
   "pygments_lexer": "ipython3",
   "version": "3.6.8"
  }
 },
 "nbformat": 4,
 "nbformat_minor": 2
}
