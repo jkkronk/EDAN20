{
 "cells": [
  {
   "cell_type": "markdown",
   "metadata": {},
   "source": [
    "# Lab 2: Language models"
   ]
  },
  {
   "cell_type": "markdown",
   "metadata": {},
   "source": [
    "Laboration 2 in EDAN20 @ LTH - http://cs.lth.se/edan20/coursework/assignment-2/\n",
    "\n",
    "Author: Jonatan Kronander"
   ]
  },
  {
   "cell_type": "markdown",
   "metadata": {},
   "source": [
    "## Objectives\n",
    "* Write a program to find n-gram statistics\n",
    "* Compute the probability of a sentence\n",
    "* Know what a language model is\n",
    "* Write a short report of 1 to 2 pages on the assignment\n",
    "* Optionally read a short article on the importance of corpora\n"
   ]
  },
  {
   "cell_type": "markdown",
   "metadata": {},
   "source": [
    "## Collecting a corpus\n"
   ]
  },
  {
   "cell_type": "markdown",
   "metadata": {},
   "source": [
    "#### 1. Collect a corpus of at least 750,000 words. Alternatively, you can retrieve a corpus of novels by Selma Lagerlöf from this URL: http://fileadmin.cs.lth.se/cs/Education/EDAN20/corpus/Selma.txt ."
   ]
  },
  {
   "cell_type": "code",
   "execution_count": 1,
   "metadata": {},
   "outputs": [],
   "source": [
    "from urllib.request import urlopen\n",
    "\n",
    "text = urlopen(\"http://fileadmin.cs.lth.se/cs/Education/EDAN20/corpus/Selma.txt\").read() # Open file and read\n",
    "strText = str(text,'utf-8') # From bytes to string"
   ]
  },
  {
   "cell_type": "code",
   "execution_count": 2,
   "metadata": {},
   "outputs": [],
   "source": [
    "text_file = open(\"Selma.txt\", \"w\")\n",
    "text_file.write(strText)\n",
    "text_file.close()"
   ]
  },
  {
   "cell_type": "markdown",
   "metadata": {},
   "source": [
    "You will check the number of words using the Unix command wc -w. "
   ]
  },
  {
   "cell_type": "code",
   "execution_count": 3,
   "metadata": {},
   "outputs": [
    {
     "name": "stdout",
     "output_type": "stream",
     "text": [
      "wc -w Selma.txt\n",
      "Number of words in text:  965943 Selma.txt\n",
      "\n"
     ]
    }
   ],
   "source": [
    "import subprocess\n",
    "cmd_0 = 'wc -w Selma.txt'\n",
    "print(cmd_0)\n",
    "\n",
    "p = subprocess.Popen(cmd_0, stdout=subprocess.PIPE, shell=True)\n",
    "out_0, err = p.communicate() \n",
    "print(\"Number of words in text:\" + str(out_0,'utf-8'))"
   ]
  },
  {
   "cell_type": "markdown",
   "metadata": {},
   "source": [
    "#### 2. Run the concordance program (https://github.com/pnugues/ilppp/tree/master/programs/ch02/python) to print the lines containing a specific word, for instance Nils."
   ]
  },
  {
   "cell_type": "code",
   "execution_count": 4,
   "metadata": {},
   "outputs": [
    {
     "name": "stdout",
     "output_type": "stream",
     "text": [
      "python concord.py Selma.txt Nils 10\n",
      "\n",
      " ----Lines containing Nils is listed below---- \n",
      "\n",
      "Nils Holgersso\n",
      "os Holger Nilssons LV. A\n",
      "tt! Se på Nils gåsapåg! \n",
      "tt! Se på Nils Holgersso\n",
      "ll Holger Nilsson i Väst\n",
      "Jag heter Nils Holgersso\n",
      "det värt, Nils Holgersso\n",
      "att du är Nils gåsapåg, \n",
      "r han var Nils gåsapåg, \n",
      "r och hur Nils gåsapåg h\n",
      "å han var Nils gåsapåg? \n",
      "tiden, då Nils Holgersso\n",
      "honom vad Nils Holgersso\n",
      " året, då Nils Holgersso\n",
      "osta dem. Nils Holgersso\n",
      " sägas om Nils Holgersso\n",
      " där stod Nils Holgersso\n",
      "de syn på Nils Holgersso\n",
      "ässen och Nils Holgersso\n",
      ". Men vad Nils Holgersso\n",
      " du hört, Nils gåsapåg, \n",
      "och om då Nils Holgersso\n",
      "och om nu Nils Holgersso\n",
      "g ut, att Nils Holgersso\n",
      "nte ville Nils Holgersso\n",
      "iden, när Nils Holgersso\n",
      "honom. Om Nils Holgersso\n",
      "gen hand, Nils Holgersso\n",
      "rumle ner Nils Holgersso\n",
      "o, jag är Nils Holgersso\n",
      "tiden, då Nils Holgersso\n",
      "Det står: Nils Holgersso\n",
      "fär innan Nils Holgersso\n",
      "föda, men Nils Holgersso\n",
      " året, då Nils Holgersso\n",
      "ssen över Nils Holgersso\n",
      " dag fick Nils Holgersso\n",
      " året, då Nils Holgersso\n",
      "kten till Nils Holgersso\n",
      "an Holger Nilsson och ha\n",
      "ade, stod Nils Holgersso\n",
      "ugge. Vad Nils Holgersso\n",
      "sådan som Nils Holgersso\n",
      "t mittför Nils Holgersso\n",
      "tiden, då Nils Holgersso\n",
      "klig. Att Nils Holgersso\n",
      "edes hade Nils Holgersso\n",
      "chen. Men Nils Holgersso\n",
      "om dessa. Nils Holgersso\n",
      ". \"Jag är Nils Holgersso\n",
      "e det, då Nils Holgersso\n",
      "de han om Nils Holgersso\n",
      "an Holger Nilsson och ha\n",
      "den lilla Nils Holgersso\n",
      "d is, och Nils Holgersso\n",
      "itt!\" Men Nils Holgersso\n",
      "arna, och Nils Holgersso\n",
      " året, då Nils Holgersso\n",
      " den. Vad Nils Holgersso\n",
      " klorna i Nils Holgersso\n",
      " året, då Nils Holgersso\n",
      " i Holger Nilssons kosta\n",
      "ör Holger Nilssons stuga\n",
      "or Holger Nilssons själv\n",
      "bedrövad, Nils Holgersso\n",
      "på Holger Nilssons torp,\n",
      " kunde ge Nils Holgersso\n",
      "han. 'Men Nils Holgersso\n",
      "t. Holger Nilsson har må\n",
      ". Ja, säg Nils Holgersso\n",
      "Den lille Nils Holgersso\n",
      "Den lille Nils Holgersso\n",
      "Då tyckte Nils Holgersso\n",
      "lja det.\" Nils Holgersso\n",
      "unga. Vad Nils Holgersso\n",
      "os Holger Nilssons Tisda\n",
      "ll Holger Nilssons, och \n",
      "att se på Nils Holgersso\n",
      "olik. Den Nils Holgersso\n",
      "mmen hem, Nils Holgersso\n",
      "tt Holger Nilsson hade v\n",
      "en,\" sade Nils Holgersso\n",
      "ör Holger Nilsson vad so\n",
      "om,\" sade Nils Holgersso\n",
      "din hov?\" Nils Holgersso\n",
      "ar så lik Nils Holgersso\n",
      "t gott om Nils.\" - \"Det \n",
      "r att vår Nils hade gjor\n",
      "tt Holger Nilsson ännu d\n",
      "os Holger Nilssons, när \n",
      "de Holger Nilsson. \"Och \n",
      "de Holger Nilsson. - \"Om\n",
      "närheten. Nils Holgersso\n",
      " lust, du Nils Jansson. \n",
      "Backstugu Nils stå och v\n",
      "Backstugu Nils ska allt \n",
      "ka, Kajsa Nilsdotter, ko\n",
      "var Kajsa Nilsdotter ful\n",
      "t i Kajsa Nilsdotters ör\n",
      "de. Kajsa Nilsdotter had\n",
      "r i Kajsa Nilsdotter, at\n",
      "kte Kajsa Nilsdotter han\n",
      "vad Kajsa Nilsdotter had\n",
      "t i Kajsa Nilsdotters br\n",
      "s i Kajsa Nilsdotters br\n",
      "ksdagsman Nils Andersson\n",
      "en Teodor Nilsson i Vist\n",
      "t är herr Nilsson ifrån \n",
      "ksdagsman Nils Andersson\n",
      " och herr Nilsson i Vist\n",
      "var Börje Nilsson, och h\n",
      "ör Börje. Nilssons brud.\n",
      "ara Börje Nilssons hustr\n",
      "kte Börje Nilssons hustr\n",
      "var Börje Nilsson, och h\n",
      "för Börje Nilssons brud.\n",
      "ara Börje Nilssons hustr\n",
      "kte Börje Nilssons hustr\n",
      " tack för Nils Holgersso\n",
      "detta, du Nils? Du sitte\n",
      "ag om du, Nils, kommer i\n",
      "\n"
     ]
    }
   ],
   "source": [
    "pattern = \"Nils\"\n",
    "width = \" 10\"\n",
    "cmd_1 = \"python concord.py Selma.txt \"+pattern+width\n",
    "print(cmd_1)\n",
    "\n",
    "p = subprocess.Popen(cmd_1, stdout=subprocess.PIPE, shell=True)\n",
    "out_1, err = p.communicate() \n",
    "print(\"\\n ----Lines containing \" + pattern + \" is listed below---- \\n\")\n",
    "print(str(out_1,'utf-8'))"
   ]
  },
  {
   "cell_type": "markdown",
   "metadata": {},
   "source": [
    "#### 3. Run the tokenization program (https://github.com/pnugues/ilppp/tree/master/programs/ch05/python) on your corpus and count the words using the Unix sort and uniq commands."
   ]
  },
  {
   "cell_type": "code",
   "execution_count": 5,
   "metadata": {},
   "outputs": [],
   "source": [
    "def toLowercase(matchobj):\n",
    "    \"\"\"\n",
    "    Helper function\n",
    "    \"\"\"\n",
    "    return matchobj.group(1).lower()"
   ]
  },
  {
   "cell_type": "code",
   "execution_count": 6,
   "metadata": {
    "scrolled": true
   },
   "outputs": [
    {
     "name": "stdout",
     "output_type": "stream",
     "text": [
      "python tokenizer.py < Selma.txt\n"
     ]
    }
   ],
   "source": [
    "import regex as re\n",
    "\n",
    "cmd_2 = \"python tokenizer.py < Selma.txt\"\n",
    "print(cmd_2)\n",
    "\n",
    "p = subprocess.Popen(cmd_2, stdout=subprocess.PIPE, shell=True)\n",
    "out_2, err = p.communicate() \n",
    "\n",
    "stringOut = str(out_2,'utf-8') # Bytes --> String\n",
    "\n",
    "cleanString = re.sub(r'[^A-Za-z ]', '', stringOut) # Remove all non characters (-space)\n",
    "cleanString = re.sub(r'(\\p{Lu})', toLowercase, cleanString) # Lowercase all characters\n",
    "nlString = re.sub(r'[ ]', r'\\n', cleanString) # New line instead of space\n",
    "\n",
    "text_file = open(\"selmaCorpus.txt\", \"w\")\n",
    "text_file.write(nlString)\n",
    "text_file.close()\n",
    "\n",
    "selmaString = open('selmaCorpus.txt', 'r')\n",
    "\n",
    "selmaStringData = selmaString.readlines()\n",
    "selmaStringData = [ x.rstrip() for x in selmaStringData ]"
   ]
  },
  {
   "cell_type": "code",
   "execution_count": 7,
   "metadata": {},
   "outputs": [
    {
     "name": "stdout",
     "output_type": "stream",
     "text": [
      "sort selmaCorpus.txt | uniq\n"
     ]
    }
   ],
   "source": [
    "# Count words with unix\n",
    "cmd_3 = \"sort selmaCorpus.txt | uniq\"\n",
    "print(cmd_3)\n",
    "\n",
    "p = subprocess.Popen(cmd_3, stdout=subprocess.PIPE, shell=True)\n",
    "out_3, err = p.communicate() \n",
    "\n",
    "stringOut = str(out_3,'utf-8')\n",
    "\n",
    "text_file = open(\"cleanSelmaCorpus.txt\", \"w\")\n",
    "text_file.write(stringOut)\n",
    "text_file.close()\n",
    "\n",
    "selmaString = open('cleanSelmaCorpus.txt', 'r')\n",
    "data = selmaString.readlines()\n",
    "\n",
    "corpusList = [ x.rstrip() for x in data ]"
   ]
  },
  {
   "cell_type": "code",
   "execution_count": 8,
   "metadata": {},
   "outputs": [
    {
     "data": {
      "text/plain": [
       "['',\n",
       " 'a',\n",
       " 'abborrar',\n",
       " 'abborrarna',\n",
       " 'abborre',\n",
       " 'abborren',\n",
       " 'abborrens',\n",
       " 'abborrn',\n",
       " 'abcbok',\n",
       " 'abcdarierna']"
      ]
     },
     "execution_count": 8,
     "metadata": {},
     "output_type": "execute_result"
    }
   ],
   "source": [
    "corpusList[:10]"
   ]
  },
  {
   "cell_type": "code",
   "execution_count": 9,
   "metadata": {},
   "outputs": [
    {
     "name": "stdout",
     "output_type": "stream",
     "text": [
      "There are 38663 words in the corpus.\n"
     ]
    }
   ],
   "source": [
    "print(\"There are \" + str(len(corpusList)) + \" words in the corpus.\")"
   ]
  },
  {
   "cell_type": "markdown",
   "metadata": {},
   "source": [
    "## Normalizing a corpus\n"
   ]
  },
  {
   "cell_type": "markdown",
   "metadata": {},
   "source": [
    "#### 1. Write a program to insert \\< s> and \\< /s> tags to delimit sentences. You can start from the tokenization and modify it. Use a simple heuristics such as: a sentence starts with a capital letter and ends with a period. Estimate roughly the accuracy of your program.\n"
   ]
  },
  {
   "cell_type": "code",
   "execution_count": 10,
   "metadata": {},
   "outputs": [
    {
     "name": "stdout",
     "output_type": "stream",
     "text": [
      "python tokenizer.py < Selma.txt\n"
     ]
    }
   ],
   "source": [
    "import regex as re\n",
    "\n",
    "cmd_4 = \"python tokenizer.py < Selma.txt\"\n",
    "print(cmd_4)\n",
    "\n",
    "p = subprocess.Popen(cmd_4, stdout=subprocess.PIPE, shell=True)\n",
    "out_4, err = p.communicate() \n",
    "\n",
    "stringOut = str(out_4,'utf-8') # Bytes --> String\n",
    "cleanString = re.sub(r'[^A-ZÅÄÖa-zåäö \\.?!]', '', stringOut) # Remove all non characters (-space)\n",
    "nlString = re.sub(r'[ ]', r'\\n', cleanString) # New line instead of space\n",
    "\n",
    "text_file = open(\"normSelmaCorpus.txt\", \"w\")\n",
    "text_file.write(nlString)\n",
    "text_file.close()\n",
    "\n",
    "normselmaString = open('normSelmaCorpus.txt', 'r')\n",
    "\n",
    "normData = normselmaString.readlines()\n",
    "normData = [ x.rstrip() for x in normData ]"
   ]
  },
  {
   "cell_type": "code",
   "execution_count": 11,
   "metadata": {},
   "outputs": [
    {
     "data": {
      "text/plain": [
       "['Nils',\n",
       " 'Holgerssons',\n",
       " 'underbara',\n",
       " 'resa',\n",
       " 'genom',\n",
       " 'Sverige',\n",
       " 'Selma',\n",
       " 'Lagerlöf',\n",
       " 'Innehåll',\n",
       " 'Den',\n",
       " 'kristna',\n",
       " 'dagvisan',\n",
       " '',\n",
       " 'Sveriges',\n",
       " 'karta',\n",
       " 'I',\n",
       " '.',\n",
       " 'Pojken',\n",
       " '',\n",
       " 'Tomten']"
      ]
     },
     "execution_count": 11,
     "metadata": {},
     "output_type": "execute_result"
    }
   ],
   "source": [
    "normData[:20]"
   ]
  },
  {
   "cell_type": "markdown",
   "metadata": {},
   "source": [
    "#### 2. Modify your program to remove the punctuation signs and set all the text in lower case letters."
   ]
  },
  {
   "cell_type": "code",
   "execution_count": 12,
   "metadata": {},
   "outputs": [],
   "source": [
    "delimitNormData = normData.copy()\n",
    "added = 0\n",
    "\n",
    "for i, word in enumerate(normData):\n",
    "    upperCase = re.findall(r'^[A-Z]', word) # Remove all non characters (-space)\n",
    "\n",
    "    if upperCase:\n",
    "        delimitNormData[i + added] = re.sub(r'(\\p{Lu})', toLowercase, word)\n",
    "        delimitNormData.insert(i + added, \"<s>\")\n",
    "        added = added + 1\n",
    "  \n",
    "    dot = re.findall(r'\\.', word) # Remove all non characters (-space)\n",
    "    if dot:\n",
    "        delimitNormData.insert(i + added + 1, \"<\\s>\")\n",
    "        del delimitNormData[i + added]\n",
    "    \"\"\"\n",
    "    For removing characters other then letters\n",
    "    noLetters = re.findall(r'\\p{L}', delimitNormData[i + added])\n",
    "    if not noLetters:\n",
    "        del delimitNormData[i + added]\n",
    "        added = added - 1\n",
    "    \"\"\""
   ]
  },
  {
   "cell_type": "markdown",
   "metadata": {},
   "source": [
    "#### 3. The result should be a normalized text without punctuation signs where all the sentences are delimited with < s> and < /s> tags."
   ]
  },
  {
   "cell_type": "code",
   "execution_count": 13,
   "metadata": {},
   "outputs": [],
   "source": [
    "sentences = []\n",
    "flag = 0 # 0 = sentence in ongoing, 1 = finished sentence\n",
    "sentence = \"\"\n",
    "\n",
    "for word in delimitNormData:\n",
    "    if word == \"<s>\":\n",
    "        continue\n",
    "    if word == \"<\\s>\":\n",
    "        flag = 1\n",
    "        sentences.append(\"<s>\" + sentence + \"<\\s>\")\n",
    "        sentence = \"\"\n",
    "        continue\n",
    "    sentence = sentence + \" \" + word"
   ]
  },
  {
   "cell_type": "markdown",
   "metadata": {},
   "source": [
    "#### 4. The five last lines of the text should look like this:\n",
    "\n",
    "< s > hon hade fått större kärlek av sina föräldrar än någon annan han visste och sådan kärlek måste vändas i välsignelse < /s >\n",
    "\n",
    "< s > när prästen sa detta kom alla människor att se bort mot klara gulla och de förundrade sig över vad de såg < /s >\n",
    "\n",
    "< s > prästens ord tycktes redan ha gått i uppfyllelse < /s >\n",
    "\n",
    "< s > där stod klara fina gulleborg ifrån skrolycka hon som var uppkallad efter själva solen vid sina föräldrars grav och lyste som en förklarad < /s >\n",
    "\n",
    "< s > hon var likaså vacker som den söndagen då hon gick till kyrkan i den röda klänningen om inte vackrare < /s >"
   ]
  },
  {
   "cell_type": "code",
   "execution_count": 14,
   "metadata": {},
   "outputs": [
    {
     "data": {
      "text/plain": [
       "['<s> hon hade fått större kärlek av sina föräldrar än någon annan han visste  och sådan kärlek måste vändas i välsignelse<\\\\s>',\n",
       " '<s> när prästen sa detta  kom alla människor att se bort mot klara gulla  och de förundrade sig över vad de såg<\\\\s>',\n",
       " '<s> prästens ord tycktes redan ha gått i uppfyllelse<\\\\s>',\n",
       " '<s> där stod klara fina gulleborg ifrån skrolycka  hon  som var uppkallad efter själva solen  vid sina föräldrars grav och lyste som en förklarad<\\\\s>',\n",
       " '<s> hon var likaså vacker som den söndagen  då hon gick till kyrkan i den röda klänningen  om inte vackrare<\\\\s>']"
      ]
     },
     "execution_count": 14,
     "metadata": {},
     "output_type": "execute_result"
    }
   ],
   "source": [
    "sentences[len(sentences)-5:]"
   ]
  },
  {
   "cell_type": "markdown",
   "metadata": {},
   "source": [
    " #### Estimate roughly the accuracy of your program."
   ]
  },
  {
   "cell_type": "code",
   "execution_count": 15,
   "metadata": {},
   "outputs": [],
   "source": [
    "dot = re.findall(r'[\\.\\!\\?]', strText)"
   ]
  },
  {
   "cell_type": "code",
   "execution_count": 16,
   "metadata": {},
   "outputs": [
    {
     "name": "stdout",
     "output_type": "stream",
     "text": [
      "There are 56097 found sentences and estimated sentences is 63698. \n",
      "This gives an estiamted accuaracy of 0.88067129266225\n"
     ]
    }
   ],
   "source": [
    "print(\"There are \" + str(len(sentences)) + \" found sentences and estimated sentences is \" + str(len(dot)) + \". \\nThis gives an estiamted accuaracy of \" + str(len(sentences)/len(dot))) "
   ]
  },
  {
   "cell_type": "markdown",
   "metadata": {},
   "source": [
    "## Counting unigrams and bigrams"
   ]
  },
  {
   "cell_type": "markdown",
   "metadata": {},
   "source": [
    "#### 1. Read and try programs to compute the frequency of unigrams and bigrams of the training set: [Program folder] (https://github.com/pnugues/ilppp/tree/master/programs/ch05/python)"
   ]
  },
  {
   "cell_type": "code",
   "execution_count": 17,
   "metadata": {},
   "outputs": [
    {
     "name": "stdout",
     "output_type": "stream",
     "text": [
      "python count.py < Selma.txt\n",
      "There are 39356 unigrams in training set.\n",
      "Most common words:\n",
      "och \t 37799\n",
      "att \t 28914\n",
      "han \t 22743\n",
      "det \t 22087\n",
      "i \t 17072\n",
      "som \t 16790\n",
      "hade \t 14955\n",
      "på \t 14634\n",
      "hon \t 14093\n"
     ]
    }
   ],
   "source": [
    "cmd_5 = \"python count.py < Selma.txt\"\n",
    "print(cmd_5)\n",
    "\n",
    "p = subprocess.Popen(cmd_5, stdout=subprocess.PIPE, shell=True)\n",
    "out_5, err = p.communicate() \n",
    "\n",
    "stringOut = str(out_5,'utf-8') # Bytes --> String\n",
    "lines = len(re.findall(r'\\n', stringOut))\n",
    "\n",
    "print(\"There are \" + str(lines) + \" unigrams in training set.\")\n",
    "print(\"Most common words:\\n\" + stringOut[:105])"
   ]
  },
  {
   "cell_type": "code",
   "execution_count": 18,
   "metadata": {},
   "outputs": [
    {
     "name": "stdout",
     "output_type": "stream",
     "text": [
      "python count_bigrams.py < Selma.txt\n",
      "There are 319877 bigrams in training set.\n",
      "Some bigrams:\n",
      "3 \t ('nils', 'holgerssons')\n",
      "1 \t ('holgerssons', 'underbara')\n",
      "1 \t ('underbara', 'resa')\n",
      "4 \t ('resa', 'genom')\n",
      "3 \t ('genom', 'sverige')\n",
      "1 \t ('sverige', 'selma')\n",
      "11 \t ('selma', 'lagerlöf')\n",
      "2 \t ('lagerlöf', 'innehåll')\n"
     ]
    }
   ],
   "source": [
    "cmd_6 = \"python count_bigrams.py < Selma.txt\"\n",
    "print(cmd_6)\n",
    "\n",
    "p = subprocess.Popen(cmd_6, stdout=subprocess.PIPE, shell=True)\n",
    "out_6, err = p.communicate() \n",
    "\n",
    "stringOut = str(out_6,'utf-8') # Bytes --> String\n",
    "lines = len(re.findall(r'\\n', stringOut))\n",
    "\n",
    "print(\"There are \" + str(lines) + \" bigrams in training set.\")\n",
    "print(\"Some bigrams:\\n\" + stringOut[:214])"
   ]
  },
  {
   "cell_type": "markdown",
   "metadata": {},
   "source": [
    "#### 2. What is the possible number of bigrams and their real number? "
   ]
  },
  {
   "cell_type": "markdown",
   "metadata": {},
   "source": [
    "As there are 965 943 words in the corpus the maximum possible number of bigrams is 965 943 * 2 - 2 = 1 931 884"
   ]
  },
  {
   "cell_type": "markdown",
   "metadata": {},
   "source": [
    "Their real value for selma corpus is, as printed above, 319 877. "
   ]
  },
  {
   "cell_type": "markdown",
   "metadata": {},
   "source": [
    "#### Explain why such a difference. What would be the possible number of 4-grams."
   ]
  },
  {
   "cell_type": "markdown",
   "metadata": {},
   "source": [
    "This gives a difference of (1 931 884 - 319 877 = ) 1 612 007 \"missing\" bigrams. This is because of there is many bigrams that are occuring twice. For example \"selma lagerlöf\" is occuring 11 times, as seen printed above. "
   ]
  },
  {
   "cell_type": "code",
   "execution_count": 19,
   "metadata": {},
   "outputs": [
    {
     "data": {
      "text/plain": [
       "7569203"
      ]
     },
     "execution_count": 19,
     "metadata": {},
     "output_type": "execute_result"
    }
   ],
   "source": [
    "len(stringOut)"
   ]
  },
  {
   "cell_type": "code",
   "execution_count": null,
   "metadata": {},
   "outputs": [],
   "source": []
  },
  {
   "cell_type": "code",
   "execution_count": 24,
   "metadata": {},
   "outputs": [
    {
     "name": "stdout",
     "output_type": "stream",
     "text": [
      "', 'storkarl')\n",
      "1 \t ('som', 'väntades')\n",
      "1 \t ('präst', 'än')\n",
      "1 \t ('vanliga', 'som')\n",
      "1 \t ('predika', 'de')\n",
      "1 \t ('bodde', 'ju')\n",
      "1 \t ('askedalarna', 'så')\n",
      "1 \t ('hända', 'mycket')\n",
      "1 \t ('socknen', 'utan')\n",
      "1 \t ('det', 'begravningsfolket')\n",
      "1 \t ('begravningsfolket', 'körde')\n",
      "1 \t ('steg', 'sedan')\n",
      "1 \t ('sedan', 'ur')\n",
      "1 \t ('kärrorna', 'det')\n",
      "1 \t ('talbacken', 'men')\n",
      "1 \t ('annars', 'såg')\n",
      "1 \t ('märkvärdigt', 'de')\n",
      "1 \t ('mer', 'förundrade')\n",
      "1 \t ('förundrade', 'men')\n",
      "1 \t ('som', 'åker')\n",
      "1 \t ('ett', 'begravningsfölje')\n",
      "1 \t ('begravningsfölje', 'bör')\n",
      "1 \t ('bör', 'ju')\n",
      "1 \t ('har', 'del')\n",
      "1 \t ('sorgen', 'kistan')\n",
      "1 \t ('kistan', 'blev')\n",
      "1 \t ('blev', 'nerflyttad')\n",
      "1 \t ('nerflyttad', 'från')\n",
      "1 \t ('från', 'flakvagnen')\n",
      "1 \t ('nersatt', 'på')\n",
      "1 \t ('bockar', 'som')\n",
      "1 \t ('var', 'uppställda')\n",
      "1 \t ('uppställda', 'på')\n",
      "1 \t ('förhand', 'utanför')\n",
      "1 \t ('sockenstugan', 'där')\n",
      "1 \t ('till', 'stå')\n",
      "1 \t ('klockorna', 'började')\n",
      "1 \t ('ett', 'herrans')\n",
      "1 \t ('väder', 'hela')\n",
      "1 \t ('tiden', 'regnet')\n",
      "2 \t ('regnet', 'kom')\n",
      "1 \t ('i', 'piskande')\n",
      "1 \t ('piskande', 'skurar')\n",
      "1 \t ('skurar', 'och')\n",
      "1 \t ('och', 'smattrade')\n",
      "1 \t ('kistlocket', 'ett')\n",
      "1 \t ('säkert', 'vad')\n",
      "1 \t ('lockat', 'hit')\n",
      "1 \t ('myckna', 'kyrkfolket')\n",
      "1 \t ('kyrkfolket', 'så')\n",
      "1 \t ('efter', 'regn')\n",
      "1 \t ('blåst', 'den')\n",
      "1 \t ('dagen', 'folk')\n",
      "1 \t ('stod', 'tysta')\n",
      "1 \t ('och', 'tålmodiga')\n",
      "1 \t ('tålmodiga', 'ute')\n",
      "1 \t ('fria', 'utan')\n",
      "1 \t ('skydd', 'varken')\n",
      "1 \t ('socken', 'stugan')\n",
      "1 \t ('församlade', 'omkring')\n",
      "1 \t ('omkring', 'kattrina')\n",
      "1 \t ('bockar', 'utsatta')\n",
      "1 \t ('utsatta', 'utom')\n",
      "1 \t ('utom', 'dem')\n",
      "1 \t ('kista', 'vilade')\n",
      "1 \t ('alltså', 'bli')\n",
      "1 \t ('begrava', 'inte')\n",
      "1 \t ('något', 'likfölje')\n",
      "1 \t ('likfölje', 'var')\n",
      "1 \t ('antågande', 'tiden')\n",
      "1 \t ('framskriden', 'att')\n",
      "1 \t ('redan', 'borde')\n",
      "1 \t ('kunde', 'fattas')\n",
      "1 \t ('fattas', 'en')\n",
      "1 \t ('tio', 'så')\n",
      "1 \t ('helst', 'var')\n",
      "1 \t ('kyrkogården', 'märkte')\n",
      "1 \t ('märkte', 'folket')\n",
      "1 \t ('människor', 'drog')\n",
      "1 \t ('mot', 'där')\n",
      "1 \t ('var', 'utstrött')\n",
      "1 \t ('utstrött', 'granris')\n",
      "1 \t ('granris', 'från')\n",
      "1 \t ('från', 'sockenstugan')\n",
      "1 \t ('sockenstugan', 'ända')\n",
      "1 \t ('uppsatt', 'granar')\n",
      "1 \t ('om', 'ingången')\n",
      "1 \t ('väl', 'alltså')\n",
      "1 \t ('alltså', 'där')\n",
      "1 \t ('förstod', 'alltjämt')\n",
      "1 \t ('hade', 'sports')\n",
      "1 \t ('sports', 'något')\n",
      "1 \t ('ett', 'dödsfall')\n",
      "1 \t ('dödsfall', 'i')\n",
      "1 \t ('det', 'lakan')\n",
      "1 \t ('lakan', 'uppsatta')\n",
      "1 \t ('uppsatta', 'för')\n",
      "1 \t ('är', 'sorg')\n",
      "1 \t ('nu', 'slogs')\n",
      "1 \t ('slogs', 'förstudörrarna')\n",
      "1 \t ('förstudörrarna', 'upp')\n",
      "1 \t ('liktåg', 'august')\n",
      "1 \t ('med', 'prestav')\n",
      "1 \t ('prestav', 'i')\n",
      "1 \t ('kom', 'bärarna')\n",
      "1 \t ('bärarna', 'med')\n",
      "1 \t ('detta', 'tåget')\n",
      "1 \t ('väntat', 'utanför')\n",
      "1 \t ('denna', 'dödes')\n",
      "1 \t ('dödes', 'skull')\n",
      "1 \t ('alltså', 'som')\n",
      "1 \t ('var', 'ditkomna')\n",
      "1 \t ('ditkomna', 'de')\n",
      "1 \t ('fram', 'kistan')\n",
      "1 \t ('kistan', 'till')\n",
      "1 \t ('redan', 'stod')\n",
      "1 \t ('där', 'august')\n",
      "1 \t ('nol', 'flyttade')\n",
      "1 \t ('flyttade', 'på')\n",
      "1 \t ('på', 'bockarna')\n",
      "1 \t ('bockarna', 'så')\n",
      "1 \t ('två', 'kistorna')\n",
      "1 \t ('kistorna', 'skulle')\n",
      "1 \t ('stå', 'riktigt')\n",
      "1 \t ('riktigt', 'jämsides')\n",
      "1 \t ('jämsides', 'kistan')\n",
      "1 \t ('nu', 'anlände')\n",
      "1 \t ('anlände', 'var')\n",
      "1 \t ('så', 'ny')\n",
      "1 \t ('blank', 'som')\n",
      "1 \t ('som', 'kattrinas')\n",
      "1 \t ('kattrinas', 'det')\n",
      "1 \t ('blivit', 'översköljd')\n",
      "1 \t ('översköljd', 'av')\n",
      "1 \t ('många', 'regnskurar')\n",
      "1 \t ('regnskurar', 'redan')\n",
      "1 \t ('före', 'denna')\n",
      "1 \t ('hade', 'hanterats')\n",
      "1 \t ('hanterats', 'ovarsamt')\n",
      "1 \t ('ovarsamt', 'så')\n",
      "1 \t ('både', 'repad')\n",
      "1 \t ('repad', 'och')\n",
      "1 \t ('och', 'kantstött')\n",
      "1 \t ('kantstött', 'allt')\n",
      "1 \t ('askedalarna', 'drog')\n",
      "1 \t ('ingen', 'frände')\n",
      "1 \t ('frände', 'till')\n",
      "1 \t ('till', 'august')\n",
      "1 \t ('nol', 'som')\n",
      "1 \t ('denna', 'kista')\n",
      "1 \t ('kista', 'det')\n",
      "1 \t ('främmande', 'storkarls')\n",
      "1 \t ('storkarls', 'skull')\n",
      "1 \t ('flög', 'allas')\n",
      "1 \t ('förstod', 'och')\n",
      "1 \t ('stått', 'blek')\n",
      "1 \t ('och', 'förgråten')\n",
      "1 \t ('förgråten', 'tätt')\n",
      "1 \t ('kista', 'hela')\n",
      "1 \t ('andra', 'kistan')\n",
      "1 \t ('kom', 'bärande')\n",
      "1 \t ('från', 'där')\n",
      "1 \t ('förväntan', 'som')\n",
      "1 \t ('man', 'länge')\n",
      "1 \t ('hon', 'lugnade')\n",
      "1 \t ('strax', 'hon')\n",
      "1 \t ('smålog', 'bara')\n",
      "1 \t ('bara', 'sorgmodigt')\n",
      "1 \t ('sorgmodigt', 'och')\n",
      "1 \t ('över', 'kistlocket')\n",
      "1 \t ('kistlocket', 'nu')\n",
      "1 \t ('önska', 'dig')\n",
      "1 \t ('dig', 'tycktes')\n",
      "1 \t ('döda', 'modern')\n",
      "1 \t ('modern', 'august')\n",
      "1 \t ('hand', 'klara')\n",
      "1 \t ('i', 'fredags')\n",
      "1 \t ('fredags', 'först')\n",
      "1 \t ('bli', 'lättare')\n",
      "1 \t ('här', 'klara')\n",
      "1 \t ('skälvde', 'så')\n",
      "1 \t ('knappt', 'hörbara')\n",
      "1 \t ('hörbara', 'tack')\n",
      "1 \t ('tack', 'det')\n",
      "1 \t ('mej', 'utan')\n",
      "1 \t ('utan', 'te')\n",
      "1 \t ('ska', 'klara')\n",
      "1 \t ('gulla', 'få')\n",
      "1 \t ('se', 'sa')\n",
      "1 \t ('var', 'åttio')\n",
      "1 \t ('böjd', 'av')\n",
      "1 \t ('hedra', 'kattrina')\n",
      "1 \t ('trogen', 'tjänarinna')\n",
      "1 \t ('tjänarinna', 'och')\n",
      "1 \t ('vän', 'hon')\n",
      "1 \t ('sig', 'kejsarkäppen')\n",
      "1 \t ('blivit', 'återlämnade')\n",
      "1 \t ('återlämnade', 'till')\n",
      "1 \t ('graven', 'till')\n",
      "1 \t ('ha', 'hos')\n",
      "1 \t ('gick', 'klara')\n",
      "1 \t ('gulla', 'fram')\n",
      "1 \t ('om', 'kejsarklenoderna')\n",
      "1 \t ('kejsarklenoderna', 'och')\n",
      "1 \t ('sedan', 'stödde')\n",
      "1 \t ('stödde', 'hon')\n",
      "1 \t ('mot', 'jans')\n",
      "1 \t ('jans', 'kista')\n",
      "1 \t ('hängde', 'mössan')\n",
      "1 \t ('den', 'folk')\n",
      "1 \t ('folk', 'förstod')\n",
      "1 \t ('låta', 'jan')\n",
      "1 \t ('jan', 'styra')\n",
      "1 \t ('styra', 'ut')\n",
      "1 \t ('i', 'kejsarstassen')\n",
      "1 \t ('kejsarstassen', 'sedan')\n",
      "1 \t ('ville', 'gottgöra')\n",
      "1 \t ('död', 'knappast')\n",
      "1 \t ('stod', 'käppen')\n",
      "1 \t ('käppen', 'där')\n",
      "1 \t ('ringa', 'i')\n",
      "1 \t ('samtidigt', 'kom')\n",
      "1 \t ('kom', 'prästen')\n",
      "1 \t ('klockarn', 'och')\n",
      "1 \t ('och', 'kyrkvaktarn')\n",
      "1 \t ('kyrkvaktarn', 'ut')\n",
      "1 \t ('ur', 'sakristian')\n",
      "1 \t ('liktåget', 'regnet')\n",
      "1 \t ('kom', 'skurvis')\n",
      "1 \t ('skurvis', 'den')\n",
      "1 \t ('uppehåll', 'nu')\n",
      "1 \t ('medan', 'församlingen')\n",
      "1 \t ('församlingen', 'ordnade')\n",
      "1 \t ('led', 'först')\n",
      "1 \t ('först', 'karlarna')\n",
      "1 \t ('sedan', 'kvinnfolken')\n",
      "1 \t ('kvinnfolken', 'för')\n",
      "2 \t ('kyrkogården', 'de')\n",
      "1 \t ('förvånades', 'över')\n",
      "1 \t ('de', 'någon')\n",
      "1 \t ('sorg', 'precis')\n",
      "1 \t ('precis', 'och')\n",
      "1 \t ('de', 'särskilt')\n",
      "1 \t ('särskilt', 'hedra')\n",
      "1 \t ('hedra', 'någon')\n",
      "1 \t ('den', 'nyheten')\n",
      "1 \t ('rätta', 'just')\n",
      "1 \t ('i', 'passande')\n",
      "1 \t ('passande', 'tid')\n",
      "1 \t ('kunna', 'läggas')\n",
      "1 \t ('samma', 'grav')\n",
      "1 \t ('alla', 'tyckt')\n",
      "1 \t ('gamla', 'makarna')\n",
      "1 \t ('makarna', 'förenades')\n",
      "1 \t ('förenades', 'i')\n",
      "1 \t ('döden', 'man')\n",
      "1 \t ('få', 'samma')\n",
      "1 \t ('tanke', 'nu')\n",
      "1 \t ('ringa', 'människors')\n",
      "1 \t ('skull', 'folk')\n",
      "1 \t ('folk', 'såg')\n",
      "1 \t ('skämdes', 'smått')\n",
      "1 \t ('smått', 'men')\n",
      "1 \t ('med', 'bort')\n",
      "1 \t ('också', 'lov')\n",
      "1 \t ('skulle', 'kejsarn')\n",
      "1 \t ('portugallien', 'ha')\n",
      "1 \t ('två', 'prestaver')\n",
      "1 \t ('prestaver', 'för')\n",
      "1 \t ('askedalarna', 'också')\n",
      "1 \t ('och', 'kattrinas')\n",
      "1 \t ('kattrinas', 'kistor')\n",
      "1 \t ('socknen', 'följde')\n",
      "1 \t ('liktåget', 'det')\n",
      "1 \t ('styra', 'om')\n",
      "1 \t ('inte', 'alltihop')\n",
      "1 \t ('alltihop', 'var')\n",
      "1 \t ('märkvärdig', 'efter')\n",
      "1 \t ('kejsarn', 'han')\n",
      "1 \t ('lät', 'dottern')\n",
      "1 \t ('dottern', 'sitta')\n",
      "1 \t ('haft', 'nu')\n",
      "1 \t ('djupet', 'alldeles')\n",
      "1 \t ('visst', 'när')\n",
      "1 \t ('breda', 'graven')\n",
      "1 \t ('kistorna', 'var')\n",
      "1 \t ('var', 'nedsänkta')\n",
      "1 \t ('nedsänkta', 'i')\n",
      "1 \t ('började', 'klockarn')\n",
      "1 \t ('klockarn', 'sjunga')\n",
      "1 \t ('döden', 'ê')\n",
      "1 \t ('ê', 'klockar')\n",
      "1 \t ('tiden', 'hans')\n",
      "1 \t ('hans', 'sång')\n",
      "1 \t ('sång', 'påminde')\n",
      "1 \t ('påminde', 'klara')\n",
      "1 \t ('gammal', 'mans')\n",
      "1 \t ('mans', 'som')\n",
      "1 \t ('till', 'minnet')\n",
      "1 \t ('minnet', 'vållade')\n",
      "1 \t ('slöt', 'till')\n",
      "1 \t ('med', 'stängda')\n",
      "1 \t ('stängda', 'ögonlock')\n",
      "1 \t ('ögonlock', 'såg')\n",
      "1 \t ('ansikte', 'sådant')\n",
      "1 \t ('varit', 'yrväder')\n",
      "1 \t ('yrväder', 'på')\n",
      "1 \t ('var', 'igensnöad')\n",
      "1 \t ('igensnöad', 'och')\n",
      "1 \t ('skolan', 'hon')\n",
      "1 \t ('klänningen', 'ingen')\n",
      "1 \t ('hade', 'lyckan')\n",
      "1 \t ('lyckan', 'varit')\n",
      "1 \t ('freds', 'hon')\n",
      "1 \t ('behålla', 'detta')\n",
      "1 \t ('henne', 'gott')\n",
      "1 \t ('stark', 'våg')\n",
      "1 \t ('ömhet', 'inom')\n",
      "1 \t ('det', 'ansiktet')\n",
      "1 \t ('gamla', 'beskedliga')\n",
      "1 \t ('beskedliga', 'jan')\n",
      "1 \t ('skrolycka', 'inte')\n",
      "1 \t ('till', 'doms')\n",
      "1 \t ('doms', 'över')\n",
      "1 \t ('ner', 'olycka')\n",
      "1 \t ('av', 'kärleksfullhet')\n",
      "1 \t ('kärleksfullhet', 'nu')\n",
      "1 \t ('hatade', 'henne')\n",
      "1 \t ('bara', 'förlåta')\n",
      "1 \t ('förlåta', 'var')\n",
      "1 \t ('stod', 'ville')\n",
      "1 \t ('vara', 'omkring')\n",
      "1 \t ('ville', 'än')\n",
      "1 \t ('stora', 'ömheten')\n",
      "1 \t ('ömheten', 'skölja')\n",
      "1 \t ('skölja', 'upp')\n",
      "1 \t ('ur', 'hjärtat')\n",
      "1 \t ('stor', 'våg')\n",
      "1 \t ('våg', 'och')\n",
      "1 \t ('henne', 'varelse')\n",
      "1 \t ('detsamma', 'visste')\n",
      "1 \t ('fadern', 'ett')\n",
      "1 \t ('behövde', 'försonas')\n",
      "1 \t ('försonas', 'klara')\n",
      "1 \t ('gulla', 'vaknade')\n",
      "1 \t ('dröm', 'medan')\n",
      "1 \t ('far', 'goda')\n",
      "1 \t ('prästen', 'förrättat')\n",
      "1 \t ('förrättat', 'jordfästningen')\n",
      "1 \t ('mangrant', 'till')\n",
      "1 \t ('denna', 'begravning')\n",
      "1 \t ('begravning', 'det')\n",
      "1 \t ('ingen', 'hög')\n",
      "1 \t ('här', 'vigdes')\n",
      "1 \t ('vigdes', 'åt')\n",
      "1 \t ('åt', 'vilan')\n",
      "1 \t ('vilan', 'sa')\n",
      "1 \t ('den', 'ortens')\n",
      "1 \t ('ortens', 'varmaste')\n",
      "1 \t ('rikaste', 'hjärta')\n",
      "1 \t ('hjärta', 'när')\n",
      "1 \t ('detta', 'tittade')\n",
      "1 \t ('tittade', 'människorna')\n",
      "1 \t ('människorna', 'igen')\n",
      "1 \t ('rätt', 'just')\n",
      "1 \t ('begravningen', 'sedan')\n",
      "1 \t ('sedan', 'riktade')\n",
      "1 \t ('riktade', 'han')\n",
      "1 \t ('kärlek', 'måste')\n",
      "1 \t ('måste', 'vändas')\n",
      "1 \t ('i', 'välsignelse')\n",
      "1 \t ('såg', 'prästens')\n",
      "1 \t ('prästens', 'ord')\n",
      "1 \t ('ord', 'tycktes')\n",
      "1 \t ('tycktes', 'redan')\n",
      "1 \t ('uppfyllelse', 'där')\n",
      "1 \t ('gulleborg', 'ifrån')\n",
      "1 \t ('solen', 'vid')\n",
      "1 \t ('föräldrars', 'grav')\n",
      "1 \t ('en', 'förklarad')\n",
      "1 \t ('förklarad', 'hon')\n",
      "1 \t ('likaså', 'vacker')\n",
      "1 \t ('klänningen', 'om')\n",
      "\n"
     ]
    }
   ],
   "source": []
  },
  {
   "cell_type": "code",
   "execution_count": 26,
   "metadata": {},
   "outputs": [
    {
     "name": "stdout",
     "output_type": "stream",
     "text": [
      "965943\n"
     ]
    }
   ],
   "source": [
    "print(965943)"
   ]
  },
  {
   "cell_type": "markdown",
   "metadata": {},
   "source": [
    "#### 3. Propose a solution to cope with bigrams unseen in the corpus. This topic will be discussed during the lab session."
   ]
  },
  {
   "cell_type": "code",
   "execution_count": null,
   "metadata": {},
   "outputs": [],
   "source": []
  },
  {
   "cell_type": "markdown",
   "metadata": {},
   "source": [
    "## Computing the likelihood of a sentence\n"
   ]
  },
  {
   "cell_type": "markdown",
   "metadata": {},
   "source": [
    "1. Write a program to compute a sentence's probability using unigrams. You may find useful the dictionaries that we saw in the mutual information program: [Program folder]. (https://github.com/pnugues/ilppp/tree/master/programs/ch05/python)\n"
   ]
  },
  {
   "cell_type": "code",
   "execution_count": null,
   "metadata": {},
   "outputs": [],
   "source": []
  },
  {
   "cell_type": "markdown",
   "metadata": {},
   "source": [
    "2. Write a program to compute the sentence probability using bigrams."
   ]
  },
  {
   "cell_type": "code",
   "execution_count": null,
   "metadata": {},
   "outputs": [],
   "source": []
  },
  {
   "cell_type": "markdown",
   "metadata": {},
   "source": [
    "3. Select five sentences in your test set and run your programs on them."
   ]
  },
  {
   "cell_type": "code",
   "execution_count": null,
   "metadata": {},
   "outputs": [],
   "source": []
  },
  {
   "cell_type": "markdown",
   "metadata": {},
   "source": [
    "4. Tabulate your results as in the examples below with the sentence \"Det var en gång en katt som hette Nils\":\n"
   ]
  },
  {
   "cell_type": "markdown",
   "metadata": {},
   "source": [
    "Unigram model\n",
    "=====================================================\n",
    "wi C(wi) #words P(wi)\n",
    "=====================================================\n",
    "det 22086 1086836 0.02032137323386417\n",
    "var 12852 1086836 0.011825151172762036\n",
    "en 13921 1086836 0.012808740233117047\n",
    "gång 1332 1086836 0.0012255758918548888\n",
    "en 13921 1086836 0.012808740233117047\n",
    "katt 15 1086836 1.3801530313681181e-05\n",
    "som 16790 1086836 0.015448512931113802\n",
    "hette 107 1086836 9.845091623759242e-05\n",
    "nils 84 1086836 7.728856975661462e-05\n",
    "</s> 62283 1086836 0.057306714168467\n",
    "=====================================================\n",
    "Prob. unigrams:   4.4922846219128876e-27\n",
    "Geometric mean prob.: 0.0023187115559242404\n",
    "Entropy rate:   8.752460922513437\n",
    "Perplexity:   431.2739967353978\n",
    "\n",
    "\n",
    "Bigram model\n",
    "=====================================================\n",
    "wi wi+1 Ci,i+1 C(i) P(wi+1|wi)\n",
    "=====================================================\n",
    "<s> det 5913 62283 0.09493762342854391\n",
    "det var 4023 22086 0.1821515892420538\n",
    "var en 753 12852 0.05859010270774977\n",
    "en gång 695 13921 0.04992457438402414\n",
    "gång en 23 1332 0.017267267267267267\n",
    "en katt 5 13921 0.0003591695998850657\n",
    "katt som 2 15 0.13333333333333333\n",
    "som hette 50 16790 0.0029779630732578916\n",
    "hette nils 0 107 0.0 *backoff: 7.728856975661462e-05\n",
    "nils </s> 2 84 0.023809523809523808\n",
    "=====================================================\n",
    "Prob. bigrams: 2.292224542392586e-19\n",
    "Geometric mean prob.: 0.013678098151101147\n",
    "Entropy rate: 6.191988542790593\n",
    "Perplexity: 73.10957919390972\n",
    "    "
   ]
  },
  {
   "cell_type": "code",
   "execution_count": null,
   "metadata": {},
   "outputs": [],
   "source": []
  },
  {
   "cell_type": "markdown",
   "metadata": {},
   "source": [
    "## Reading"
   ]
  },
  {
   "cell_type": "markdown",
   "metadata": {},
   "source": [
    "As an application of n-grams, execute the Jupyter notebook by Peter Norvig here (http://nbviewer.jupyter.org/url/norvig.com/ipython/How%20to%20Do%20Things%20with%20Words.ipynb). Just run all the cells and be sure that you understand the code. You will find the data here (http://norvig.com/ngrams/). In you report, you will describe one experiment with a long string of words your will create yourself."
   ]
  },
  {
   "cell_type": "code",
   "execution_count": null,
   "metadata": {},
   "outputs": [],
   "source": []
  },
  {
   "cell_type": "markdown",
   "metadata": {},
   "source": [
    "# Complement"
   ]
  },
  {
   "cell_type": "markdown",
   "metadata": {},
   "source": [
    "As a complement, you can read a paper by Church (https://researcher.watson.ibm.com/researcher/view.php?person=us-kwchurch) and Hanks, Word Association Norms, Mutual Information, and Lexicography, (https://www.aclweb.org/anthology/J90-1003) Computational Linguistics, 16(1):22-29, 1990, as well as another one on backoff by Brants et al. (2007) Large language models in machine translation (https://www.aclweb.org/anthology/D07-1090).\n"
   ]
  },
  {
   "cell_type": "code",
   "execution_count": null,
   "metadata": {},
   "outputs": [],
   "source": []
  }
 ],
 "metadata": {
  "kernelspec": {
   "display_name": "Python 3",
   "language": "python",
   "name": "python3"
  },
  "language_info": {
   "codemirror_mode": {
    "name": "ipython",
    "version": 3
   },
   "file_extension": ".py",
   "mimetype": "text/x-python",
   "name": "python",
   "nbconvert_exporter": "python",
   "pygments_lexer": "ipython3",
   "version": "3.6.8"
  }
 },
 "nbformat": 4,
 "nbformat_minor": 2
}
