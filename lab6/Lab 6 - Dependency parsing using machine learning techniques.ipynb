{
 "cells": [
  {
   "cell_type": "markdown",
   "metadata": {},
   "source": [
    "# Lab 6 - Dependency parsing using machine learning techniques\n",
    "Laboration 6 in EDAN20 @ LTH - http://cs.lth.se/edan20/coursework/assignment-6/\n",
    "\n",
    "Author: Jonatan Kronander"
   ]
  },
  {
   "cell_type": "markdown",
   "metadata": {},
   "source": [
    "## Objectives\n",
    "The objectives of this assignment are to:\n",
    "* Extract feature vectors and train a classifier\n",
    "* Write a statistical dependency parser\n",
    "* Understand how to design parameter sets\n",
    "* Write a short report on your results"
   ]
  },
  {
   "cell_type": "markdown",
   "metadata": {},
   "source": [
    "## Training the classifiers\n",
    "If you have not done it in the previous assignment, for each data set you have generated, fit a corresponding model using logistic regression (or another classifier if you want) and save it."
   ]
  },
  {
   "cell_type": "code",
   "execution_count": 2,
   "metadata": {},
   "outputs": [],
   "source": [
    "import pickle\n",
    "\n",
    "with open('X_feature1.pickle', 'rb') as handle:\n",
    "    X1 = pickle.load(handle)\n",
    "\n",
    "with open('Y_feature1.pickle', 'rb') as handle:\n",
    "    Y1 = pickle.load(handle)\n",
    "\n",
    "with open('X_feature2.pickle', 'rb') as handle:\n",
    "    X2 = pickle.load(handle)\n",
    "    \n",
    "with open('Y_feature2.pickle', 'rb') as handle:\n",
    "    Y2 = pickle.load(handle)\n",
    "    \n",
    "with open('X_feature3.pickle', 'rb') as handle:\n",
    "    X3 = pickle.load(handle)\n",
    "    \n",
    "with open('Y_feature2.pickle', 'rb') as handle:\n",
    "    Y3 = pickle.load(handle)"
   ]
  },
  {
   "cell_type": "code",
   "execution_count": null,
   "metadata": {},
   "outputs": [],
   "source": []
  }
 ],
 "metadata": {
  "kernelspec": {
   "display_name": "Python 3",
   "language": "python",
   "name": "python3"
  },
  "language_info": {
   "codemirror_mode": {
    "name": "ipython",
    "version": 3
   },
   "file_extension": ".py",
   "mimetype": "text/x-python",
   "name": "python",
   "nbconvert_exporter": "python",
   "pygments_lexer": "ipython3",
   "version": "3.6.8"
  }
 },
 "nbformat": 4,
 "nbformat_minor": 2
}
