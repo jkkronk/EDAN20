{
 "cells": [
  {
   "cell_type": "markdown",
   "metadata": {},
   "source": [
    "# Lab 6 - Dependency parsing using machine learning techniques\n",
    "Laboration 6 in EDAN20 @ LTH - http://cs.lth.se/edan20/coursework/assignment-6/\n",
    "\n",
    "Author: Jonatan Kronander"
   ]
  },
  {
   "cell_type": "markdown",
   "metadata": {},
   "source": [
    "## Objectives\n",
    "The objectives of this assignment are to:\n",
    "* Extract feature vectors and train a classifier\n",
    "* Write a statistical dependency parser\n",
    "* Understand how to design parameter sets\n",
    "* Write a short report on your results"
   ]
  },
  {
   "cell_type": "markdown",
   "metadata": {},
   "source": [
    "## Parsing the corpus and evaluating the results\n",
    "First load model data from lab 5."
   ]
  },
  {
   "cell_type": "code",
   "execution_count": 2,
   "metadata": {},
   "outputs": [],
   "source": [
    "import pickle\n",
    "\n",
    "with open('X_feature1.pickle', 'rb') as handle:\n",
    "    X1 = pickle.load(handle)\n",
    "\n",
    "with open('Y_feature1.pickle', 'rb') as handle:\n",
    "    Y1 = pickle.load(handle)\n",
    "\n",
    "with open('X_feature2.pickle', 'rb') as handle:\n",
    "    X2 = pickle.load(handle)\n",
    "    \n",
    "with open('Y_feature2.pickle', 'rb') as handle:\n",
    "    Y2 = pickle.load(handle)\n",
    "    \n",
    "with open('X_feature3.pickle', 'rb') as handle:\n",
    "    X3 = pickle.load(handle)\n",
    "    \n",
    "with open('Y_feature2.pickle', 'rb') as handle:\n",
    "    Y3 = pickle.load(handle)"
   ]
  },
  {
   "cell_type": "markdown",
   "metadata": {},
   "source": [
    "#### Then we want to embed the data in Nivre's parser to compute their respective efficiencies."
   ]
  },
  {
   "cell_type": "code",
   "execution_count": 4,
   "metadata": {},
   "outputs": [],
   "source": [
    "import transition\n",
    "import conll\n",
    "import dparser"
   ]
  },
  {
   "cell_type": "code",
   "execution_count": 8,
   "metadata": {},
   "outputs": [],
   "source": [
    "column_names_2006 = ['id', 'form', 'lemma', 'cpostag', 'postag', 'feats', 'head', 'deprel', 'phead', 'pdeprel']\n",
    "\n",
    "sentences_train = conll.read_sentences(\"train.conll\")\n",
    "formatted_corpus_train = conll.split_rows(sentences_train, column_names_2006)"
   ]
  },
  {
   "cell_type": "code",
   "execution_count": 10,
   "metadata": {},
   "outputs": [],
   "source": [
    "column_names_2006 = ['id', 'form', 'lemma', 'cpostag', 'postag', 'feats', 'head', 'deprel', 'phead', 'pdeprel']\n",
    "\n",
    "sentences_test = conll.read_sentences(\"test_blind.conll\")\n",
    "formatted_corpus_test = conll.split_rows(sentences_test, column_names_2006)"
   ]
  },
  {
   "cell_type": "code",
   "execution_count": null,
   "metadata": {},
   "outputs": [],
   "source": []
  },
  {
   "cell_type": "markdown",
   "metadata": {},
   "source": [
    "\n",
    "#### We proceed sentence by sentence, and word by word. For a certain state, it will predict the next action using our classifier. We will then execute the corresponding action: la, ra, re, or sh. If an action is not possible, we will carry out a shift."
   ]
  },
  {
   "cell_type": "code",
   "execution_count": null,
   "metadata": {},
   "outputs": [],
   "source": []
  }
 ],
 "metadata": {
  "kernelspec": {
   "display_name": "Python 3",
   "language": "python",
   "name": "python3"
  },
  "language_info": {
   "codemirror_mode": {
    "name": "ipython",
    "version": 3
   },
   "file_extension": ".py",
   "mimetype": "text/x-python",
   "name": "python",
   "nbconvert_exporter": "python",
   "pygments_lexer": "ipython3",
   "version": "3.6.8"
  }
 },
 "nbformat": 4,
 "nbformat_minor": 2
}
