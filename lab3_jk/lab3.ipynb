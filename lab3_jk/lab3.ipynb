{
 "cells": [
  {
   "cell_type": "markdown",
   "metadata": {},
   "source": [
    "# lab 3 - Extracting noun groups using machine learning techniques"
   ]
  },
  {
   "cell_type": "markdown",
   "metadata": {},
   "source": [
    "## Objectives\n",
    "The objectives of this assignment are to:\n",
    "\n",
    "- Write a program to detect partial syntactic structures\n",
    "- Understand the principles of supervised machine learning techniques applied to language processing\n",
    "- Use a popular machine learning toolkit: scikit-learn\n",
    "- Write a short report of 1 to 2 pages on the assignment"
   ]
  },
  {
   "cell_type": "markdown",
   "metadata": {},
   "source": [
    "## Choosing a training and a test sets"
   ]
  },
  {
   "cell_type": "code",
   "execution_count": 94,
   "metadata": {},
   "outputs": [],
   "source": [
    "from urllib.request import urlopen\n",
    "\n",
    "b_train_text = urlopen(\"http://fileadmin.cs.lth.se/cs/Education/EDAN20/corpus/conll2000/train.txt\").read() # Open file and read\n",
    "train_text = str(b_train_text,'utf-8')\n",
    "b_test_text = urlopen(\"http://fileadmin.cs.lth.se/cs/Education/EDAN20/corpus/conll2000/test.txt\").read() # Open file and read\n",
    "test_text = str(b_test_text,'utf-8')"
   ]
  },
  {
   "cell_type": "code",
   "execution_count": 95,
   "metadata": {},
   "outputs": [
    {
     "name": "stdout",
     "output_type": "stream",
     "text": [
      "---TEXT EXAMPLE TRAIN---\n",
      " Confidence NN B-NP\n",
      "in IN B-PP\n",
      "the DT B-NP\n",
      "pound NN I-NP\n",
      "is VBZ B-VP\n",
      "widely RB I-VP\n",
      "expected VBN I-VP\n",
      "to TO I-VP\n",
      "take VB I-VP\n",
      "another DT B-NP\n",
      "sharp JJ I-NP\n",
      "dive NN I-NP\n",
      "if IN B-SBAR\n",
      "trade NN B-NP\n",
      "figur \n",
      " ---TEXT EXAMPLE TEST--- \n",
      " Rockwell NNP B-NP\n",
      "International NNP I-NP\n",
      "Corp. NNP I-NP\n",
      "'s POS B-NP\n",
      "Tulsa NNP I-NP\n",
      "unit NN I-NP\n",
      "said VBD B-VP\n",
      "it PRP B-NP\n",
      "signed VBD B-VP\n",
      "a DT B-NP\n",
      "tentative JJ I-NP\n",
      "agreement NN I-NP\n",
      "extending VBG B-\n"
     ]
    }
   ],
   "source": [
    "print(\"---TEXT EXAMPLE TRAIN---\\n\",train_text[:200], \"\\n ---TEXT EXAMPLE TEST--- \\n\",test_text[:200])"
   ]
  },
  {
   "cell_type": "code",
   "execution_count": 96,
   "metadata": {},
   "outputs": [],
   "source": [
    "import sklearn"
   ]
  },
  {
   "cell_type": "markdown",
   "metadata": {},
   "source": [
    "## Baseline"
   ]
  },
  {
   "cell_type": "markdown",
   "metadata": {},
   "source": [
    "Most statistical algorithms for language processing start with a so-called baseline. The baseline figure corresponds to the application of a minimal technique that is used to assess the difficulty of a task and for comparison with further programs."
   ]
  },
  {
   "cell_type": "markdown",
   "metadata": {},
   "source": [
    "#### 1. Read the baseline proposed by the organizers of the CoNLL 2000 shared task (In the Results Sect.). What do you think of it?\n"
   ]
  },
  {
   "cell_type": "markdown",
   "metadata": {},
   "source": [
    "They get pretty high score overall but no method applying advanced ml methods with deep neural networks. (Which is understandable since the conference was held at year 2000.) "
   ]
  },
  {
   "cell_type": "markdown",
   "metadata": {},
   "source": [
    "#### 2. Implement this baseline program. You may either create a completely new program or start from an existing program that you will modify. https://github.com/pnugues/ilppp/tree/master/programs/labs/chunking/chunker_python/\n"
   ]
  },
  {
   "cell_type": "markdown",
   "metadata": {},
   "source": [
    "Complete the train function so that it computes the chunk distribution for each part of speech. You will use the train file to derive your distribution and you will store the results in a dictionary. Below, you have an excerpt of the expected results:\n"
   ]
  },
  {
   "cell_type": "code",
   "execution_count": 97,
   "metadata": {},
   "outputs": [],
   "source": [
    "column_names = ['form', 'pos', 'chunk']"
   ]
  },
  {
   "cell_type": "code",
   "execution_count": 98,
   "metadata": {},
   "outputs": [],
   "source": [
    "# train_corpus = conll_reader.read_sentences(train_text)\n",
    "sentences_train = train_text.split('\\n\\n') \n",
    "sentences_train.remove(sentences_train[-1]) # Last element needs to be removed"
   ]
  },
  {
   "cell_type": "code",
   "execution_count": 99,
   "metadata": {},
   "outputs": [],
   "source": [
    "# train_corpus = conll_reader.split_rows(train_corpus, column_names)\n",
    "train_corpus = []\n",
    "for sentence in sentences_train:\n",
    "    rows = sentence.split('\\n')\n",
    "    sentence = [dict(zip(column_names, row.split())) for row in rows]\n",
    "    train_corpus.append(sentence)"
   ]
  },
  {
   "cell_type": "code",
   "execution_count": 100,
   "metadata": {},
   "outputs": [],
   "source": [
    "# train_corpus = conll_reader.read_sentences(train_text)\n",
    "sentences_test = test_text.split('\\n\\n')\n",
    "sentences_test.remove(sentences_test[-1]) # Last element needs to be removed"
   ]
  },
  {
   "cell_type": "code",
   "execution_count": 101,
   "metadata": {},
   "outputs": [],
   "source": [
    "# train_corpus = conll_reader.split_rows(train_corpus, column_names)\n",
    "test_corpus = []\n",
    "for sentence in sentences_test:\n",
    "    rows = sentence.split('\\n')\n",
    "    sentence = [dict(zip(column_names, row.split())) for row in rows]\n",
    "    test_corpus.append(sentence)"
   ]
  },
  {
   "cell_type": "code",
   "execution_count": 102,
   "metadata": {},
   "outputs": [
    {
     "data": {
      "text/plain": [
       "[{'form': 'Chancellor', 'pos': 'NNP', 'chunk': 'O'},\n",
       " {'form': 'of', 'pos': 'IN', 'chunk': 'B-PP'},\n",
       " {'form': 'the', 'pos': 'DT', 'chunk': 'B-NP'},\n",
       " {'form': 'Exchequer', 'pos': 'NNP', 'chunk': 'I-NP'},\n",
       " {'form': 'Nigel', 'pos': 'NNP', 'chunk': 'B-NP'},\n",
       " {'form': 'Lawson', 'pos': 'NNP', 'chunk': 'I-NP'},\n",
       " {'form': \"'s\", 'pos': 'POS', 'chunk': 'B-NP'},\n",
       " {'form': 'restated', 'pos': 'VBN', 'chunk': 'I-NP'},\n",
       " {'form': 'commitment', 'pos': 'NN', 'chunk': 'I-NP'},\n",
       " {'form': 'to', 'pos': 'TO', 'chunk': 'B-PP'},\n",
       " {'form': 'a', 'pos': 'DT', 'chunk': 'B-NP'},\n",
       " {'form': 'firm', 'pos': 'NN', 'chunk': 'I-NP'},\n",
       " {'form': 'monetary', 'pos': 'JJ', 'chunk': 'I-NP'},\n",
       " {'form': 'policy', 'pos': 'NN', 'chunk': 'I-NP'},\n",
       " {'form': 'has', 'pos': 'VBZ', 'chunk': 'B-VP'},\n",
       " {'form': 'helped', 'pos': 'VBN', 'chunk': 'I-VP'},\n",
       " {'form': 'to', 'pos': 'TO', 'chunk': 'I-VP'},\n",
       " {'form': 'prevent', 'pos': 'VB', 'chunk': 'I-VP'},\n",
       " {'form': 'a', 'pos': 'DT', 'chunk': 'B-NP'},\n",
       " {'form': 'freefall', 'pos': 'NN', 'chunk': 'I-NP'},\n",
       " {'form': 'in', 'pos': 'IN', 'chunk': 'B-PP'},\n",
       " {'form': 'sterling', 'pos': 'NN', 'chunk': 'B-NP'},\n",
       " {'form': 'over', 'pos': 'IN', 'chunk': 'B-PP'},\n",
       " {'form': 'the', 'pos': 'DT', 'chunk': 'B-NP'},\n",
       " {'form': 'past', 'pos': 'JJ', 'chunk': 'I-NP'},\n",
       " {'form': 'week', 'pos': 'NN', 'chunk': 'I-NP'},\n",
       " {'form': '.', 'pos': '.', 'chunk': 'O'}]"
      ]
     },
     "execution_count": 102,
     "metadata": {},
     "output_type": "execute_result"
    }
   ],
   "source": [
    "train_corpus[1]"
   ]
  },
  {
   "cell_type": "code",
   "execution_count": 103,
   "metadata": {},
   "outputs": [],
   "source": [
    "def count_pos(corpus):\n",
    "    \"\"\"\n",
    "    Computes the part-of-speech distribution\n",
    "    in a CoNLL 2000 file\n",
    "    :param corpus:\n",
    "    :return:\n",
    "    \"\"\"\n",
    "    pos_cnt = {}\n",
    "    for sentence in corpus:\n",
    "        for row in sentence:\n",
    "            if row['pos'] in pos_cnt:\n",
    "                pos_cnt[row['pos']] += 1\n",
    "            else:\n",
    "                pos_cnt[row['pos']] = 1\n",
    "    return pos_cnt"
   ]
  },
  {
   "cell_type": "code",
   "execution_count": 104,
   "metadata": {},
   "outputs": [],
   "source": [
    "def train(corpus):\n",
    "    \"\"\"\n",
    "    Computes the chunk distribution by pos\n",
    "    The result is stored in a dictionary\n",
    "    :param corpus:\n",
    "    :return:\n",
    "    \"\"\"\n",
    "    pos_cnt = count_pos(corpus)\n",
    "\n",
    "    # We compute the chunk distribution by POS\n",
    "    \"\"\"\n",
    "    Fill in code to compute the chunk distribution for each part of speech\n",
    "    \"\"\"\n",
    "    chunk_dist = {key: {} for key in pos_cnt.keys()}\n",
    "    for sentence in corpus:\n",
    "        for row in sentence:\n",
    "            if row['chunk'] in chunk_dist[row['pos']]:\n",
    "                chunk_dist[row['pos']][row['chunk']] += 1\n",
    "            else:\n",
    "                chunk_dist[row['pos']][row['chunk']] = 1\n",
    "        \n",
    "    print(\"Example of probdist for JJR: \", chunk_dist['JJR'])\n",
    "    # We determine the best association\n",
    "    \"\"\"\n",
    "    Fill in code so that for each part of speech, you select the most frequent chunk.\n",
    "    You will build a dictionary with key values:\n",
    "    pos_chunk[pos] = most frequent chunk for pos\n",
    "    \"\"\"\n",
    "    pos_ret = {key: \"\" for key in pos_cnt.keys()}\n",
    "    for pos in chunk_dist:\n",
    "        max_value = 0\n",
    "        max_chunk = \"\"\n",
    "        for chunk in chunk_dist[pos]:\n",
    "            if max_value < chunk_dist[pos][chunk]:\n",
    "                max_value = chunk_dist[pos][chunk]\n",
    "                max_chunk = chunk\n",
    "        pos_ret[pos] = max_chunk\n",
    "    \n",
    "    return pos_ret"
   ]
  },
  {
   "cell_type": "code",
   "execution_count": 105,
   "metadata": {},
   "outputs": [
    {
     "name": "stdout",
     "output_type": "stream",
     "text": [
      "Example of probdist for JJR:  {'B-NP': 382, 'B-ADJP': 111, 'I-ADJP': 45, 'B-ADVP': 63, 'I-ADVP': 17, 'B-VP': 2, 'I-NP': 204, 'I-VP': 11, 'O': 16, 'B-PP': 2}\n",
      "Example of train model for NN:  I-NP\n"
     ]
    }
   ],
   "source": [
    "model = train(train_corpus)\n",
    "\n",
    "print(\"Example of train model for NN: \",model['NN'])"
   ]
  },
  {
   "cell_type": "code",
   "execution_count": 106,
   "metadata": {},
   "outputs": [],
   "source": [
    "def predict(model, corpus):\n",
    "    \"\"\"\n",
    "    Predicts the chunk from the part of speech\n",
    "    Adds a pchunk column\n",
    "    :param model:\n",
    "    :param corpus:\n",
    "    :return:\n",
    "    \"\"\"\n",
    "    \"\"\"\n",
    "    We add a predicted chunk column: pchunk\n",
    "    \"\"\"\n",
    "    for sentence in corpus:\n",
    "        for row in sentence:\n",
    "            if 'pos' in row:\n",
    "                row['pchunk'] = model[row['pos']]\n",
    "            else:\n",
    "                continue\n",
    "            \n",
    "    return corpus"
   ]
  },
  {
   "cell_type": "code",
   "execution_count": 107,
   "metadata": {},
   "outputs": [
    {
     "name": "stdout",
     "output_type": "stream",
     "text": [
      "[{'form': 'In', 'pos': 'IN', 'chunk': 'B-PP', 'pchunk': 'B-PP'}, {'form': 'the', 'pos': 'DT', 'chunk': 'B-NP', 'pchunk': 'B-NP'}, {'form': 'same', 'pos': 'JJ', 'chunk': 'I-NP', 'pchunk': 'I-NP'}, {'form': 'statement', 'pos': 'NN', 'chunk': 'I-NP', 'pchunk': 'I-NP'}, {'form': ',', 'pos': ',', 'chunk': 'O', 'pchunk': 'O'}, {'form': 'US', 'pos': 'PRP', 'chunk': 'B-NP', 'pchunk': 'B-NP'}, {'form': 'Facilities', 'pos': 'NNPS', 'chunk': 'I-NP', 'pchunk': 'I-NP'}, {'form': 'also', 'pos': 'RB', 'chunk': 'B-ADVP', 'pchunk': 'B-ADVP'}, {'form': 'said', 'pos': 'VBD', 'chunk': 'B-VP', 'pchunk': 'B-VP'}, {'form': 'it', 'pos': 'PRP', 'chunk': 'B-NP', 'pchunk': 'B-NP'}, {'form': 'had', 'pos': 'VBD', 'chunk': 'B-VP', 'pchunk': 'B-VP'}, {'form': 'bought', 'pos': 'VBN', 'chunk': 'I-VP', 'pchunk': 'I-VP'}, {'form': 'back', 'pos': 'RB', 'chunk': 'B-ADVP', 'pchunk': 'B-ADVP'}, {'form': '112,000', 'pos': 'CD', 'chunk': 'B-NP', 'pchunk': 'I-NP'}, {'form': 'of', 'pos': 'IN', 'chunk': 'B-PP', 'pchunk': 'B-PP'}, {'form': 'its', 'pos': 'PRP$', 'chunk': 'B-NP', 'pchunk': 'B-NP'}, {'form': 'common', 'pos': 'JJ', 'chunk': 'I-NP', 'pchunk': 'I-NP'}, {'form': 'shares', 'pos': 'NNS', 'chunk': 'I-NP', 'pchunk': 'I-NP'}, {'form': 'in', 'pos': 'IN', 'chunk': 'B-PP', 'pchunk': 'B-PP'}, {'form': 'a', 'pos': 'DT', 'chunk': 'B-NP', 'pchunk': 'B-NP'}, {'form': 'private', 'pos': 'JJ', 'chunk': 'I-NP', 'pchunk': 'I-NP'}, {'form': 'transaction', 'pos': 'NN', 'chunk': 'I-NP', 'pchunk': 'I-NP'}, {'form': '.', 'pos': '.', 'chunk': 'O', 'pchunk': 'O'}]\n"
     ]
    }
   ],
   "source": [
    "predicted = predict(model, test_corpus)\n",
    "\n",
    "print(predicted[50])"
   ]
  },
  {
   "cell_type": "code",
   "execution_count": 108,
   "metadata": {},
   "outputs": [],
   "source": [
    "def eval(predicted):\n",
    "    \"\"\"\n",
    "    Evaluates the predicted chunk accuracy\n",
    "    :param predicted:\n",
    "    :return:\n",
    "    \"\"\"\n",
    "    word_cnt = 0\n",
    "    correct = 0\n",
    "    for sentence in predicted:\n",
    "        for row in sentence:\n",
    "            word_cnt += 1\n",
    "            if row['chunk'] == row['pchunk']:\n",
    "                correct += 1\n",
    "    return correct / word_cnt"
   ]
  },
  {
   "cell_type": "code",
   "execution_count": 109,
   "metadata": {},
   "outputs": [
    {
     "name": "stdout",
     "output_type": "stream",
     "text": [
      "0.7729066846782194\n"
     ]
    }
   ],
   "source": [
    "accuracy = eval(predicted)\n",
    "print(accuracy)"
   ]
  },
  {
   "cell_type": "code",
   "execution_count": 110,
   "metadata": {},
   "outputs": [],
   "source": [
    "f_out = open('out', 'w')\n",
    "    # We write the word (form), part of speech (pos),\n",
    "    # gold-standard chunk (chunk), and predicted chunk (pchunk)\n",
    "for sentence in predicted:\n",
    "    for row in sentence:\n",
    "        f_out.write(row['form'] + ' ' + row['pos'] + ' ' + row['chunk'] + ' ' + row['pchunk'] + '\\n')\n",
    "    f_out.write('\\n')\n",
    "f_out.close()"
   ]
  },
  {
   "cell_type": "code",
   "execution_count": 111,
   "metadata": {},
   "outputs": [
    {
     "name": "stdout",
     "output_type": "stream",
     "text": [
      "perl conlleval.txt <out\n",
      "processed 47377 tokens with 23852 phrases; found: 26992 phrases; correct: 19592.\n",
      "accuracy:  77.29%; precision:  72.58%; recall:  82.14%; FB1:  77.07\n",
      "             ADJP: precision:   0.00%; recall:   0.00%; FB1:   0.00  0\n",
      "             ADVP: precision:  44.33%; recall:  77.71%; FB1:  56.46  1518\n",
      "            CONJP: precision:   0.00%; recall:   0.00%; FB1:   0.00  0\n",
      "             INTJ: precision:  50.00%; recall:  50.00%; FB1:  50.00  2\n",
      "              LST: precision:   0.00%; recall:   0.00%; FB1:   0.00  0\n",
      "               NP: precision:  79.87%; recall:  86.80%; FB1:  83.19  13500\n",
      "               PP: precision:  74.73%; recall:  97.07%; FB1:  84.45  6249\n",
      "              PRT: precision:  75.00%; recall:   8.49%; FB1:  15.25  12\n",
      "             SBAR: precision:   0.00%; recall:   0.00%; FB1:   0.00  0\n",
      "               VP: precision:  60.53%; recall:  74.22%; FB1:  66.68  5711\n",
      "\n"
     ]
    }
   ],
   "source": [
    "import subprocess\n",
    "\n",
    "cmd_1 = \"perl conlleval.txt <out\"\n",
    "print(cmd_1)\n",
    "\n",
    "p = subprocess.Popen(cmd_1, stdout=subprocess.PIPE, shell=True)\n",
    "out_1, err = p.communicate() \n",
    "print(str(out_1,'utf-8'))"
   ]
  },
  {
   "cell_type": "markdown",
   "metadata": {},
   "source": [
    "## Using Machine Learning"
   ]
  },
  {
   "cell_type": "markdown",
   "metadata": {},
   "source": [
    "In this exercise, you will apply and extend the ml_chunker.py program. You will start from the original program you downloaded and modify it so that you understand how to improve the performance of your chunker. You will not add new features to the feature vector.\n",
    "\n"
   ]
  },
  {
   "cell_type": "code",
   "execution_count": 138,
   "metadata": {},
   "outputs": [],
   "source": [
    "b_train_text = urlopen(\"http://fileadmin.cs.lth.se/cs/Education/EDAN20/corpus/conll2000/train.txt\").read() # Open file and read\n",
    "train_text = str(b_train_text,'utf-8')\n",
    "train_text = train_text.strip()\n",
    "train_sentences = train_text.split('\\n\\n')\n",
    "\n",
    "b_test_text = urlopen(\"http://fileadmin.cs.lth.se/cs/Education/EDAN20/corpus/conll2000/test.txt\").read() # Open file and read\n",
    "test_text = str(b_train_text,'utf-8').strip()\n",
    "test_sentences = test_text.split('\\n\\n')"
   ]
  },
  {
   "cell_type": "code",
   "execution_count": 139,
   "metadata": {},
   "outputs": [],
   "source": [
    "def extract_features_sent(sentence, w_size, feature_names):\n",
    "    \"\"\"\n",
    "    Extract the features from one sentence\n",
    "    returns X and y, where X is a list of dictionaries and\n",
    "    y is a list of symbols\n",
    "    :param sentence: string containing the CoNLL structure of a sentence\n",
    "    :param w_size:\n",
    "    :return:\n",
    "    \"\"\"\n",
    "\n",
    "    # We pad the sentence to extract the context window more easily\n",
    "    start = \"BOS BOS BOS\\n\"\n",
    "    end = \"\\nEOS EOS EOS\"\n",
    "    start *= w_size\n",
    "    end *= w_size\n",
    "    sentence = start + sentence\n",
    "    sentence += end\n",
    "\n",
    "    # Each sentence is a list of rows\n",
    "    sentence = sentence.splitlines()\n",
    "    padded_sentence = list()\n",
    "    for line in sentence:\n",
    "        line = line.split()\n",
    "        padded_sentence.append(line)\n",
    "    # print(padded_sentence)\n",
    "\n",
    "    # We extract the features and the classes\n",
    "    # X contains is a list of features, where each feature vector is a dictionary\n",
    "    # y is the list of classes\n",
    "    X = list()\n",
    "    y = list()\n",
    "    for i in range(len(padded_sentence) - 2 * w_size):\n",
    "        # x is a row of X\n",
    "        x = list()\n",
    "        # The words in lower case\n",
    "        for j in range(2 * w_size + 1):\n",
    "            x.append(padded_sentence[i + j][0].lower())\n",
    "        # The POS\n",
    "        for j in range(2 * w_size + 1):\n",
    "            x.append(padded_sentence[i + j][1])\n",
    "        # The chunks (Up to the word)\n",
    "        \"\"\"\n",
    "        for j in range(w_size):\n",
    "            feature_line.append(padded_sentence[i + j][2])\n",
    "        \"\"\"\n",
    "        # We represent the feature vector as a dictionary\n",
    "        X.append(dict(zip(feature_names, x)))\n",
    "        # The classes are stored in a list\n",
    "        y.append(padded_sentence[i + w_size][2])\n",
    "    return X, y"
   ]
  },
  {
   "cell_type": "code",
   "execution_count": 140,
   "metadata": {},
   "outputs": [],
   "source": [
    "def extract_features(sentences, w_size, feature_names):\n",
    "    \"\"\"\n",
    "    Builds X matrix and y vector\n",
    "    X is a list of dictionaries and y is a list\n",
    "    :param sentences:\n",
    "    :param w_size:\n",
    "    :return:\n",
    "    \"\"\"\n",
    "    X_l = []\n",
    "    y_l = []\n",
    "    for sentence in sentences:\n",
    "        X, y = extract_features_sent(sentence, w_size, feature_names)\n",
    "        X_l.extend(X)\n",
    "        y_l.extend(y)\n",
    "    return X_l, y_l"
   ]
  },
  {
   "cell_type": "code",
   "execution_count": 141,
   "metadata": {},
   "outputs": [
    {
     "name": "stdout",
     "output_type": "stream",
     "text": [
      "Extracting the features...\n"
     ]
    }
   ],
   "source": [
    "feature_names = ['word_n2', 'word_n1', 'word', 'word_p1', 'word_p2','pos_n2', 'pos_n1', 'pos', 'pos_p1', 'pos_p2']\n",
    "w_size = 2  # The size of the context window to the left and right of the word\n",
    "   \n",
    "print(\"Extracting the features...\")\n",
    "\n",
    "X_dict, y = extract_features(train_sentences, w_size, feature_names)"
   ]
  },
  {
   "cell_type": "code",
   "execution_count": 142,
   "metadata": {},
   "outputs": [
    {
     "name": "stdout",
     "output_type": "stream",
     "text": [
      "Encoding the features...\n"
     ]
    }
   ],
   "source": [
    "from sklearn.feature_extraction import DictVectorizer\n",
    "\n",
    "print(\"Encoding the features...\")\n",
    "# Vectorize the feature matrix and carry out a one-hot encoding\n",
    "vec = DictVectorizer(sparse=True)\n",
    "X = vec.fit_transform(X_dict)\n",
    "# The statement below will swallow a considerable memory\n",
    "#X = vec.fit_transform(X_dict).toarray()\n",
    "#print(vec.get_feature_names())"
   ]
  },
  {
   "cell_type": "code",
   "execution_count": 143,
   "metadata": {},
   "outputs": [
    {
     "name": "stdout",
     "output_type": "stream",
     "text": [
      "Training the model...\n",
      "LogisticRegression(C=1.0, class_weight=None, dual=True, fit_intercept=True,\n",
      "          intercept_scaling=1, max_iter=100, multi_class='ovr', n_jobs=1,\n",
      "          penalty='l2', random_state=None, solver='liblinear', tol=0.0001,\n",
      "          verbose=0, warm_start=False)\n"
     ]
    }
   ],
   "source": [
    "from sklearn import linear_model\n",
    "\n",
    "print(\"Training the model...\")\n",
    "classifier = linear_model.LogisticRegression(penalty='l2', dual=True, solver='liblinear')\n",
    "model = classifier.fit(X, y)\n",
    "print(model)"
   ]
  },
  {
   "cell_type": "markdown",
   "metadata": {},
   "source": [
    "We apply the model to the test set"
   ]
  },
  {
   "cell_type": "markdown",
   "metadata": {},
   "source": [
    "Here we carry out a chunk tag prediction and we report the per tag error.\n",
    "\n",
    "This is done for the whole corpus without regard for the sentence structure."
   ]
  },
  {
   "cell_type": "code",
   "execution_count": 144,
   "metadata": {},
   "outputs": [
    {
     "name": "stdout",
     "output_type": "stream",
     "text": [
      "Predicting the chunks in the test set...\n",
      "Classification report for classifier LogisticRegression(C=1.0, class_weight=None, dual=True, fit_intercept=True,\n",
      "          intercept_scaling=1, max_iter=100, multi_class='ovr', n_jobs=1,\n",
      "          penalty='l2', random_state=None, solver='liblinear', tol=0.0001,\n",
      "          verbose=0, warm_start=False):\n",
      "             precision    recall  f1-score   support\n",
      "\n",
      "     B-ADJP       0.93      0.83      0.88      2060\n",
      "     B-ADVP       0.90      0.90      0.90      4227\n",
      "    B-CONJP       0.93      0.73      0.82        56\n",
      "     B-INTJ       0.64      0.23      0.33        31\n",
      "      B-LST       1.00      0.10      0.18        10\n",
      "       B-NP       0.98      0.98      0.98     55081\n",
      "       B-PP       0.97      0.99      0.98     21281\n",
      "      B-PRT       0.91      0.81      0.86       556\n",
      "     B-SBAR       0.91      0.90      0.91      2207\n",
      "      B-UCP       0.00      0.00      0.00         2\n",
      "       B-VP       0.97      0.97      0.97     21467\n",
      "     I-ADJP       0.94      0.75      0.83       643\n",
      "     I-ADVP       0.92      0.70      0.80       443\n",
      "    I-CONJP       0.83      0.86      0.85        73\n",
      "     I-INTJ       1.00      0.11      0.20         9\n",
      "       I-NP       0.98      0.98      0.98     63307\n",
      "       I-PP       0.98      0.72      0.83       291\n",
      "      I-PRT       0.00      0.00      0.00         2\n",
      "     I-SBAR       0.97      0.86      0.91        70\n",
      "      I-UCP       0.00      0.00      0.00         6\n",
      "       I-VP       0.96      0.97      0.97     12003\n",
      "          O       0.97      0.98      0.98     27902\n",
      "\n",
      "avg / total       0.97      0.97      0.97    211727\n",
      "\n",
      "\n"
     ]
    },
    {
     "name": "stderr",
     "output_type": "stream",
     "text": [
      "/anaconda3/envs/py36/lib/python3.6/site-packages/sklearn/metrics/classification.py:1113: UndefinedMetricWarning: Precision and F-score are ill-defined and being set to 0.0 in labels with no predicted samples.\n",
      "  'precision', 'predicted', average, warn_for)\n"
     ]
    }
   ],
   "source": [
    "from sklearn import metrics\n",
    "\n",
    "print(\"Predicting the chunks in the test set...\")\n",
    "X_test_dict, y_test = extract_features(test_sentences, w_size, feature_names)\n",
    "\n",
    "# Vectorize the test set and one-hot encoding\n",
    "X_test = vec.transform(X_test_dict) # Possible to add: .toarray()\n",
    "y_test_predicted = classifier.predict(X_test)\n",
    "print(\"Classification report for classifier %s:\\n%s\\n\" % (classifier, metrics.classification_report(y_test, y_test_predicted)))"
   ]
  },
  {
   "cell_type": "markdown",
   "metadata": {},
   "source": [
    "Here we tag the test set and we save it.\n",
    "\n",
    "This prediction is redundant with the piece of code above, but we need to predict one sentence at a time to have the same corpus structure."
   ]
  },
  {
   "cell_type": "code",
   "execution_count": 145,
   "metadata": {},
   "outputs": [],
   "source": [
    "def predict_ml(test_sentences, feature_names, f_out):\n",
    "    for test_sentence in test_sentences:\n",
    "        X_test_dict, y_test = extract_features_sent(test_sentence, w_size, feature_names)\n",
    "        # Vectorize the test sentence and one hot encoding\n",
    "        X_test = vec.transform(X_test_dict)\n",
    "        # Predicts the chunks and returns numbers\n",
    "        y_test_predicted = classifier.predict(X_test)\n",
    "        # Appends the predicted chunks as a last column and saves the rows\n",
    "        rows = test_sentence.splitlines()\n",
    "        rows = [rows[i] + ' ' + y_test_predicted[i] for i in range(len(rows))]\n",
    "        for row in rows:\n",
    "            f_out.write(row + '\\n')\n",
    "        f_out.write('\\n')\n",
    "    f_out.close()"
   ]
  },
  {
   "cell_type": "code",
   "execution_count": 146,
   "metadata": {},
   "outputs": [
    {
     "name": "stdout",
     "output_type": "stream",
     "text": [
      "Predicting the test set...\n"
     ]
    }
   ],
   "source": [
    "print(\"Predicting the test set...\")\n",
    "f_out = open('outml', 'w')\n",
    "predict_ml(test_sentences, feature_names, f_out)"
   ]
  },
  {
   "cell_type": "code",
   "execution_count": 147,
   "metadata": {},
   "outputs": [
    {
     "name": "stdout",
     "output_type": "stream",
     "text": [
      "perl conlleval.txt <outml\n",
      "processed 211727 tokens with 106978 phrases; found: 108043 phrases; correct: 102094.\n",
      "accuracy:  97.14%; precision:  94.49%; recall:  95.43%; FB1:  94.96\n",
      "             ADJP: precision:  87.39%; recall:  80.78%; FB1:  83.96  1904\n",
      "             ADVP: precision:  88.35%; recall:  89.33%; FB1:  88.84  4274\n",
      "            CONJP: precision:  67.86%; recall:  67.86%; FB1:  67.86  56\n",
      "             INTJ: precision:  63.64%; recall:  22.58%; FB1:  33.33  11\n",
      "              LST: precision: 100.00%; recall:  10.00%; FB1:  18.18  1\n",
      "               NP: precision:  94.33%; recall:  95.65%; FB1:  94.98  55852\n",
      "               PP: precision:  97.10%; recall:  98.56%; FB1:  97.82  21601\n",
      "              PRT: precision:  91.43%; recall:  80.58%; FB1:  85.66  490\n",
      "             SBAR: precision:  90.61%; recall:  90.48%; FB1:  90.55  2204\n",
      "              UCP: precision:   0.00%; recall:   0.00%; FB1:   0.00  0\n",
      "               VP: precision:  94.72%; recall:  95.52%; FB1:  95.12  21650\n",
      "\n"
     ]
    }
   ],
   "source": [
    "cmd_2 = \"perl conlleval.txt <outml\"\n",
    "print(cmd_2)\n",
    "\n",
    "p = subprocess.Popen(cmd_2, stdout=subprocess.PIPE, shell=True)\n",
    "out_1, err = p.communicate() \n",
    "print(str(out_1,'utf-8'))"
   ]
  },
  {
   "cell_type": "markdown",
   "metadata": {},
   "source": [
    "#### What is the feature vector that corresponds to the ml_chunker.py program? Is it the same Kudoh and Matsumoto used in their experiment?"
   ]
  },
  {
   "cell_type": "markdown",
   "metadata": {},
   "source": [
    "The feature vector in ml_chunker is similar but not exactly the same. Missing features: The values of the two previous chunk tags in the first part of the window: c i-2 , c i-1"
   ]
  },
  {
   "cell_type": "markdown",
   "metadata": {},
   "source": [
    "#### What is the performance of the chunker?"
   ]
  },
  {
   "cell_type": "markdown",
   "metadata": {},
   "source": [
    "See above, Accuracy 94.96%, compared with 77.29% when we used Maximum likelihood method. "
   ]
  },
  {
   "cell_type": "markdown",
   "metadata": {},
   "source": [
    "#### Remove the lexical features (the words) from the feature vector and measure the performance. You should observe a decrease."
   ]
  },
  {
   "cell_type": "code",
   "execution_count": 126,
   "metadata": {},
   "outputs": [],
   "source": [
    "def extract_features_sent_re(sentence, w_size, feature_names):\n",
    "    \"\"\"\n",
    "    Extract the features from one sentence\n",
    "    returns X and y, where X is a list of dictionaries and\n",
    "    y is a list of symbols\n",
    "    :param sentence: string containing the CoNLL structure of a sentence\n",
    "    :param w_size:\n",
    "    :return:\n",
    "    \"\"\"\n",
    "\n",
    "    # We pad the sentence to extract the context window more easily\n",
    "    start = \"BOS BOS BOS\\n\"\n",
    "    end = \"\\nEOS EOS EOS\"\n",
    "    start *= w_size\n",
    "    end *= w_size\n",
    "    sentence = start + sentence\n",
    "    sentence += end\n",
    "\n",
    "    # Each sentence is a list of rows\n",
    "    sentence = sentence.splitlines()\n",
    "    padded_sentence = list()\n",
    "    for line in sentence:\n",
    "        line = line.split()\n",
    "        padded_sentence.append(line)\n",
    "    # print(padded_sentence)\n",
    "\n",
    "    # We extract the features and the classes\n",
    "    # X contains is a list of features, where each feature vector is a dictionary\n",
    "    # y is the list of classes\n",
    "    X = list()\n",
    "    y = list()\n",
    "    for i in range(len(padded_sentence) - 2 * w_size):\n",
    "        # x is a row of X\n",
    "        x = list()\n",
    "        # The words in lower case\n",
    "        \"\"\"\n",
    "        for j in range(2 * w_size + 1):\n",
    "            x.append(padded_sentence[i + j][0].lower())\n",
    "        \"\"\"\n",
    "        # The POS\n",
    "        for j in range(2 * w_size + 1):\n",
    "            x.append(padded_sentence[i + j][1])\n",
    "        # The chunks (Up to the word)\n",
    "        \"\"\"\n",
    "        for j in range(w_size):\n",
    "            X.append(padded_sentence[i + j][2])\n",
    "        \"\"\"\n",
    "        # We represent the feature vector as a dictionary\n",
    "        X.append(dict(zip(feature_names, x)))\n",
    "        # The classes are stored in a list\n",
    "        y.append(padded_sentence[i + w_size][2])\n",
    "    return X, y\n",
    "\n",
    "def extract_features_re(sentences, w_size, feature_names):\n",
    "    \"\"\"\n",
    "    Builds X matrix and y vector\n",
    "    X is a list of dictionaries and y is a list\n",
    "    :param sentences:\n",
    "    :param w_size:\n",
    "    :return:\n",
    "    \"\"\"\n",
    "    X_l = []\n",
    "    y_l = []\n",
    "    for sentence in sentences:\n",
    "        X, y = extract_features_sent_re(sentence, w_size, feature_names)\n",
    "        X_l.extend(X)\n",
    "        y_l.extend(y)\n",
    "    return X_l, y_l\n",
    "\n",
    "def predict_ml_re(test_sentences, feature_names, f_out):\n",
    "    for test_sentence in test_sentences:\n",
    "        X_test_dict, y_test = extract_features_sent_re(test_sentence, w_size, feature_names)\n",
    "        # Vectorize the test sentence and one hot encoding\n",
    "        X_test = vec.transform(X_test_dict)\n",
    "        # Predicts the chunks and returns numbers\n",
    "        y_test_predicted = classifier.predict(X_test)\n",
    "        # Appends the predicted chunks as a last column and saves the rows\n",
    "        rows = test_sentence.splitlines()\n",
    "        rows = [rows[i] + ' ' + y_test_predicted[i] for i in range(len(rows))]\n",
    "        for row in rows:\n",
    "            f_out.write(row + '\\n')\n",
    "        f_out.write('\\n')\n",
    "    f_out.close()"
   ]
  },
  {
   "cell_type": "code",
   "execution_count": 127,
   "metadata": {},
   "outputs": [
    {
     "name": "stdout",
     "output_type": "stream",
     "text": [
      "Extracting the features...\n",
      "Encoding the features...\n",
      "Training the model...\n",
      "LogisticRegression(C=1.0, class_weight=None, dual=True, fit_intercept=True,\n",
      "          intercept_scaling=1, max_iter=100, multi_class='ovr', n_jobs=1,\n",
      "          penalty='l2', random_state=None, solver='liblinear', tol=0.0001,\n",
      "          verbose=0, warm_start=False)\n",
      "Predicting the test set...\n",
      "perl conlleval.txt <outml_re\n",
      "processed 211727 tokens with 106978 phrases; found: 109526 phrases; correct: 93969.\n",
      "accuracy:  92.22%; precision:  85.80%; recall:  87.84%; FB1:  86.81\n",
      "             ADJP: precision:  63.09%; recall:  51.70%; FB1:  56.83  1688\n",
      "             ADVP: precision:  69.67%; recall:  72.89%; FB1:  71.25  4422\n",
      "            CONJP: precision:   0.00%; recall:   0.00%; FB1:   0.00  13\n",
      "             INTJ: precision:  54.55%; recall:  19.35%; FB1:  28.57  11\n",
      "              LST: precision:   0.00%; recall:   0.00%; FB1:   0.00  0\n",
      "               NP: precision:  86.52%; recall:  88.98%; FB1:  87.73  56649\n",
      "               PP: precision:  86.20%; recall:  95.59%; FB1:  90.65  23598\n",
      "              PRT: precision:  61.49%; recall:  19.24%; FB1:  29.32  174\n",
      "             SBAR: precision:  74.65%; recall:  31.22%; FB1:  44.03  923\n",
      "              UCP: precision:   0.00%; recall:   0.00%; FB1:   0.00  0\n",
      "               VP: precision:  89.20%; recall:  91.61%; FB1:  90.39  22048\n",
      "\n"
     ]
    }
   ],
   "source": [
    "feature_names = ['pos_n2', 'pos_n1', 'pos', 'pos_p1', 'pos_p2']\n",
    "w_size = 2  # The size of the context window to the left and right of the word\n",
    "   \n",
    "print(\"Extracting the features...\")\n",
    "\n",
    "X_dict, y = extract_features_re(train_sentences, w_size, feature_names)\n",
    "\n",
    "print(\"Encoding the features...\")\n",
    "# Vectorize the feature matrix and carry out a one-hot encoding\n",
    "vec = DictVectorizer(sparse=True)\n",
    "X = vec.fit_transform(X_dict)\n",
    "# The statement below will swallow a considerable memory\n",
    "#X = vec.fit_transform(X_dict).toarray()\n",
    "#print(vec.get_feature_names())\n",
    "\n",
    "print(\"Training the model...\")\n",
    "classifier = linear_model.LogisticRegression(penalty='l2', dual=True, solver='liblinear')\n",
    "model = classifier.fit(X, y)\n",
    "print(model)\n",
    "\n",
    "print(\"Predicting the test set...\")\n",
    "f_out = open('outml_re', 'w')\n",
    "predict_ml_re(test_sentences, feature_names, f_out)\n",
    "\n",
    "cmd_2 = \"perl conlleval.txt <outml_re\"\n",
    "print(cmd_2)\n",
    "\n",
    "p = subprocess.Popen(cmd_2, stdout=subprocess.PIPE, shell=True)\n",
    "out_1, err = p.communicate() \n",
    "print(str(out_1,'utf-8'))"
   ]
  },
  {
   "cell_type": "markdown",
   "metadata": {},
   "source": [
    "#### What is the classifier used in the program? "
   ]
  },
  {
   "cell_type": "markdown",
   "metadata": {},
   "source": [
    "Logistic Regression is used."
   ]
  },
  {
   "cell_type": "markdown",
   "metadata": {},
   "source": [
    "#### Decision trees"
   ]
  },
  {
   "cell_type": "code",
   "execution_count": 124,
   "metadata": {},
   "outputs": [
    {
     "name": "stdout",
     "output_type": "stream",
     "text": [
      "Extracting the features...\n",
      "Encoding the features...\n"
     ]
    }
   ],
   "source": [
    "feature_names = ['word_n2', 'word_n1', 'word', 'word_p1', 'word_p2','pos_n2', 'pos_n1', 'pos', 'pos_p1', 'pos_p2']\n",
    "w_size = 2  # The size of the context window to the left and right of the word\n",
    "   \n",
    "print(\"Extracting the features...\")\n",
    "\n",
    "X_dict, y = extract_features(train_sentences, w_size, feature_names)\n",
    "\n",
    "print(\"Encoding the features...\")\n",
    "# Vectorize the feature matrix and carry out a one-hot encoding\n",
    "vec = DictVectorizer(sparse=True)\n",
    "X = vec.fit_transform(X_dict)\n",
    "# The statement below will swallow a considerable memory\n",
    "#X = vec.fit_transform(X_dict).toarray()\n",
    "#print(vec.get_feature_names())"
   ]
  },
  {
   "cell_type": "code",
   "execution_count": 125,
   "metadata": {},
   "outputs": [
    {
     "name": "stdout",
     "output_type": "stream",
     "text": [
      "Training the model...\n"
     ]
    },
    {
     "ename": "KeyboardInterrupt",
     "evalue": "",
     "output_type": "error",
     "traceback": [
      "\u001b[0;31m---------------------------------------------------------------------------\u001b[0m",
      "\u001b[0;31mKeyboardInterrupt\u001b[0m                         Traceback (most recent call last)",
      "\u001b[0;32m<ipython-input-125-0160b583ac18>\u001b[0m in \u001b[0;36m<module>\u001b[0;34m()\u001b[0m\n\u001b[1;32m      3\u001b[0m \u001b[0mprint\u001b[0m\u001b[0;34m(\u001b[0m\u001b[0;34m\"Training the model...\"\u001b[0m\u001b[0;34m)\u001b[0m\u001b[0;34m\u001b[0m\u001b[0;34m\u001b[0m\u001b[0m\n\u001b[1;32m      4\u001b[0m \u001b[0mclassifier\u001b[0m \u001b[0;34m=\u001b[0m \u001b[0mtree\u001b[0m\u001b[0;34m.\u001b[0m\u001b[0mDecisionTreeClassifier\u001b[0m\u001b[0;34m(\u001b[0m\u001b[0;34m)\u001b[0m\u001b[0;34m\u001b[0m\u001b[0;34m\u001b[0m\u001b[0m\n\u001b[0;32m----> 5\u001b[0;31m \u001b[0mmodel\u001b[0m \u001b[0;34m=\u001b[0m \u001b[0mclassifier\u001b[0m\u001b[0;34m.\u001b[0m\u001b[0mfit\u001b[0m\u001b[0;34m(\u001b[0m\u001b[0mX\u001b[0m\u001b[0;34m,\u001b[0m \u001b[0my\u001b[0m\u001b[0;34m)\u001b[0m\u001b[0;34m\u001b[0m\u001b[0;34m\u001b[0m\u001b[0m\n\u001b[0m\u001b[1;32m      6\u001b[0m \u001b[0mprint\u001b[0m\u001b[0;34m(\u001b[0m\u001b[0mmodel\u001b[0m\u001b[0;34m)\u001b[0m\u001b[0;34m\u001b[0m\u001b[0;34m\u001b[0m\u001b[0m\n\u001b[1;32m      7\u001b[0m \u001b[0;34m\u001b[0m\u001b[0m\n",
      "\u001b[0;32m/anaconda3/envs/py36/lib/python3.6/site-packages/sklearn/tree/tree.py\u001b[0m in \u001b[0;36mfit\u001b[0;34m(self, X, y, sample_weight, check_input, X_idx_sorted)\u001b[0m\n\u001b[1;32m    737\u001b[0m             \u001b[0msample_weight\u001b[0m\u001b[0;34m=\u001b[0m\u001b[0msample_weight\u001b[0m\u001b[0;34m,\u001b[0m\u001b[0;34m\u001b[0m\u001b[0;34m\u001b[0m\u001b[0m\n\u001b[1;32m    738\u001b[0m             \u001b[0mcheck_input\u001b[0m\u001b[0;34m=\u001b[0m\u001b[0mcheck_input\u001b[0m\u001b[0;34m,\u001b[0m\u001b[0;34m\u001b[0m\u001b[0;34m\u001b[0m\u001b[0m\n\u001b[0;32m--> 739\u001b[0;31m             X_idx_sorted=X_idx_sorted)\n\u001b[0m\u001b[1;32m    740\u001b[0m         \u001b[0;32mreturn\u001b[0m \u001b[0mself\u001b[0m\u001b[0;34m\u001b[0m\u001b[0;34m\u001b[0m\u001b[0m\n\u001b[1;32m    741\u001b[0m \u001b[0;34m\u001b[0m\u001b[0m\n",
      "\u001b[0;32m/anaconda3/envs/py36/lib/python3.6/site-packages/sklearn/tree/tree.py\u001b[0m in \u001b[0;36mfit\u001b[0;34m(self, X, y, sample_weight, check_input, X_idx_sorted)\u001b[0m\n\u001b[1;32m    348\u001b[0m                                            self.min_impurity_split)\n\u001b[1;32m    349\u001b[0m \u001b[0;34m\u001b[0m\u001b[0m\n\u001b[0;32m--> 350\u001b[0;31m         \u001b[0mbuilder\u001b[0m\u001b[0;34m.\u001b[0m\u001b[0mbuild\u001b[0m\u001b[0;34m(\u001b[0m\u001b[0mself\u001b[0m\u001b[0;34m.\u001b[0m\u001b[0mtree_\u001b[0m\u001b[0;34m,\u001b[0m \u001b[0mX\u001b[0m\u001b[0;34m,\u001b[0m \u001b[0my\u001b[0m\u001b[0;34m,\u001b[0m \u001b[0msample_weight\u001b[0m\u001b[0;34m,\u001b[0m \u001b[0mX_idx_sorted\u001b[0m\u001b[0;34m)\u001b[0m\u001b[0;34m\u001b[0m\u001b[0;34m\u001b[0m\u001b[0m\n\u001b[0m\u001b[1;32m    351\u001b[0m \u001b[0;34m\u001b[0m\u001b[0m\n\u001b[1;32m    352\u001b[0m         \u001b[0;32mif\u001b[0m \u001b[0mself\u001b[0m\u001b[0;34m.\u001b[0m\u001b[0mn_outputs_\u001b[0m \u001b[0;34m==\u001b[0m \u001b[0;36m1\u001b[0m\u001b[0;34m:\u001b[0m\u001b[0;34m\u001b[0m\u001b[0;34m\u001b[0m\u001b[0m\n",
      "\u001b[0;31mKeyboardInterrupt\u001b[0m: "
     ]
    }
   ],
   "source": [
    "from sklearn import tree\n",
    "\n",
    "print(\"Training the model...\")\n",
    "classifier = tree.DecisionTreeClassifier()\n",
    "model = classifier.fit(X, y)\n",
    "print(model)\n",
    "\n",
    "print(\"Predicting the test set...\")\n",
    "f_out = open('outml_decision_tree', 'w')\n",
    "predict_ml(test_sentences, feature_names, f_out)\n",
    "\n",
    "cmd_2 = \"perl conlleval.txt <outml_decision_tree\"\n",
    "print(cmd_2)\n",
    "\n",
    "p = subprocess.Popen(cmd_2, stdout=subprocess.PIPE, shell=True)\n",
    "out_1, err = p.communicate() \n",
    "print(str(out_1,'utf-8'))"
   ]
  },
  {
   "cell_type": "markdown",
   "metadata": {},
   "source": [
    "#### Perceptron"
   ]
  },
  {
   "cell_type": "code",
   "execution_count": null,
   "metadata": {},
   "outputs": [],
   "source": [
    "from sklearn.linear_model import Perceptron\n",
    "\n",
    "print(\"Training the model...\")\n",
    "classifier = Perceptron()\n",
    "model = classifier.fit(X, y)\n",
    "print(model)\n",
    "\n",
    "print(\"Predicting the test set...\")\n",
    "f_out = open('outml_Perceptron', 'w')\n",
    "predict_ml(test_sentences, feature_names, f_out)\n",
    "\n",
    "cmd_2 = \"perl conlleval.txt <outml_Perceptron\"\n",
    "print(cmd_2)\n",
    "\n",
    "p = subprocess.Popen(cmd_2, stdout=subprocess.PIPE, shell=True)\n",
    "out_1, err = p.communicate() \n",
    "print(str(out_1,'utf-8'))"
   ]
  },
  {
   "cell_type": "markdown",
   "metadata": {},
   "source": [
    "## Improving the Chunker\n",
    "#### Implement one of these two options, the first one being easier."
   ]
  },
  {
   "cell_type": "markdown",
   "metadata": {},
   "source": [
    "Complement the feature vector used in the previous section with the two dynamic features, c i-2 , c i-1 , and train a new model. You will need to modify the extract_features_sent and predict functions.\n",
    "In his experiments, your teacher obtained a F1 score of 92.65 with logistic regression and a lbfgs solver and automatic multiclass;\n",
    "\n",
    "#### You need to reach a global F1 score of 92 to pass this laboratory."
   ]
  },
  {
   "cell_type": "code",
   "execution_count": null,
   "metadata": {},
   "outputs": [],
   "source": [
    "def extract_features_sent_im(sentence, w_size, feature_names):\n",
    "    \"\"\"\n",
    "    Extract the features from one sentence\n",
    "    returns X and y, where X is a list of dictionaries and\n",
    "    y is a list of symbols\n",
    "    :param sentence:\n",
    "    :param w_size:\n",
    "    :return:\n",
    "    \"\"\"\n",
    "\n",
    "    # We pad the sentence to extract the context window more easily\n",
    "    start = \"BOS BOS BOS\\n\"\n",
    "    end = \"\\nEOS EOS EOS\"\n",
    "    start *= w_size\n",
    "    end *= w_size\n",
    "    sentence = start + sentence\n",
    "    sentence += end\n",
    "\n",
    "    # Each sentence is a list of rows\n",
    "    sentence = sentence.splitlines()\n",
    "    padded_sentence = list()\n",
    "    for line in sentence:\n",
    "        line = line.split()\n",
    "        padded_sentence.append(line)\n",
    "    # print(padded_sentence)\n",
    "\n",
    "    # We extract the features and the classes\n",
    "    # X contains is a list of features, where each feature vector is a dictionary\n",
    "    # y is the list of classes\n",
    "    X = list()\n",
    "    y = list()\n",
    "    for i in range(len(padded_sentence) - 2 * w_size):\n",
    "        # x is a row of X\n",
    "        x = list()\n",
    "        # The words in lower case\n",
    "        for j in range(2 * w_size + 1):\n",
    "            x.append(padded_sentence[i + j][0].lower())\n",
    "        # The POS\n",
    "        for j in range(2 * w_size + 1):\n",
    "            x.append(padded_sentence[i + j][1])\n",
    "        # The chunks (Up to the word)\n",
    "        for j in range(w_size):\n",
    "            x.append(padded_sentence[i + j][2])\n",
    "        # We represent the feature vector as a dictionary\n",
    "        X.append(dict(zip(feature_names, x)))\n",
    "        # The classes are stored in a list\n",
    "        y.append(padded_sentence[i + w_size][2])\n",
    "    return X, y\n",
    "\n",
    "def extract_features_im(sentences, w_size, feature_names):\n",
    "    \"\"\"\n",
    "    Builds X matrix and y vector\n",
    "    X is a list of dictionaries and y is a list\n",
    "    :param sentences:\n",
    "    :param w_size:\n",
    "    :return:\n",
    "    \"\"\"\n",
    "    X_l = []\n",
    "    y_l = []\n",
    "    for sentence in sentences:\n",
    "        X, y = extract_features_sent_im(sentence, w_size, feature_names)\n",
    "        X_l.extend(X)\n",
    "        y_l.extend(y)\n",
    "    return X_l, y_l\n",
    "\n",
    "def predict_ml_im(test_sentences, feature_names, f_out):\n",
    "    for test_sentence in test_sentences:\n",
    "        X_test_dict, y_test = extract_features_sent(test_sentence, w_size, feature_names)\n",
    "        # Vectorize the test sentence and one hot encoding\n",
    "        X_test = vec.transform(X_test_dict)\n",
    "        # Predicts the chunks and returns numbers\n",
    "        y_test_predicted = classifier.predict(X_test)\n",
    "        # Appends the predicted chunks as a last column and saves the rows\n",
    "        rows = test_sentence.splitlines()\n",
    "        rows = [rows[i] + ' ' + y_test_predicted[i] for i in range(len(rows))]\n",
    "        for row in rows:\n",
    "            f_out.write(row + '\\n')\n",
    "        f_out.write('\\n')\n",
    "    f_out.close()\n",
    "    \n",
    "    "
   ]
  },
  {
   "cell_type": "code",
   "execution_count": null,
   "metadata": {},
   "outputs": [],
   "source": [
    "\n",
    "feature_names = ['word_n2', 'word_n1', 'word', 'word_p1', 'word_p2',\n",
    "                 'pos_n2', 'pos_n1', 'pos', 'pos_p1', 'pos_p2',\n",
    "                 'c_n2', 'c_n1']\n",
    "\n",
    "print(\"Extracting the features...\")\n",
    "\n",
    "X_dict, y = extract_features_im(train_sentences, w_size, feature_names)\n",
    "\n",
    "print(\"Encoding the features...\")\n",
    "# Vectorize the feature matrix and carry out a one-hot encoding\n",
    "vec = DictVectorizer(sparse=True)\n",
    "X = vec.fit_transform(X_dict)\n",
    "# The statement below will swallow a considerable memory\n",
    "#X = vec.fit_transform(X_dict).toarray()\n",
    "#print(vec.get_feature_names())\n",
    "\n",
    "print(\"Training the model...\")\n",
    "classifier = linear_model.LogisticRegression(penalty='l2', dual=True, solver='liblinear')\n",
    "model = classifier.fit(X, y)\n",
    "print(model)\n",
    "\n",
    "print(\"Predicting the test set...\")\n",
    "f_out = open('outml_improved', 'w')\n",
    "predict_ml_im(test_sentences, feature_names, f_out)\n",
    "\n",
    "cmd_2 = \"perl conlleval.txt <outml_improved\"\n",
    "print(cmd_2)\n",
    "\n",
    "p = subprocess.Popen(cmd_2, stdout=subprocess.PIPE, shell=True)\n",
    "out_1, err = p.communicate() \n",
    "print(str(out_1,'utf-8'))"
   ]
  },
  {
   "cell_type": "markdown",
   "metadata": {},
   "source": [
    "#### If you know what beam search is, apply it using the probability output of logistic regression or the score if you use support vector machines.\n",
    "With the same classifier and a beam diameter of 5, your teacher obtained 92.87."
   ]
  },
  {
   "cell_type": "code",
   "execution_count": null,
   "metadata": {},
   "outputs": [],
   "source": []
  },
  {
   "cell_type": "markdown",
   "metadata": {},
   "source": [
    "## Reading "
   ]
  },
  {
   "cell_type": "markdown",
   "metadata": {},
   "source": [
    "#### You will read the article, Contextual String Embeddings for Sequence Labeling by Akbik et al. (2018) and you will outline the main differences between their system and yours. A LSTM is a type of recurrent neural network, while CRF is a sort of beam search. https://www.aclweb.org/anthology/C18-1139"
   ]
  },
  {
   "cell_type": "markdown",
   "metadata": {},
   "source": [
    "First off they used a recurrent neural network instead of logistic regression. Also they already in abstract they mension that \"Our proposed embeddings have the distinct properties that they (a) are trained without any explicit notion of words and thus fundamentally model words as sequences of characters, and (b) are contextualized by their surrounding text, meaning that the same word will have different embeddings depending on its contextual use.\". We train our model with explicit notion of words / sequence of words not charaters.  "
   ]
  },
  {
   "cell_type": "markdown",
   "metadata": {},
   "source": [
    "#### You will tell the performance they reach on the corpus you used in this laboratory."
   ]
  },
  {
   "cell_type": "markdown",
   "metadata": {},
   "source": [
    "They scored 96.72±0.05"
   ]
  },
  {
   "cell_type": "code",
   "execution_count": null,
   "metadata": {},
   "outputs": [],
   "source": []
  }
 ],
 "metadata": {
  "kernelspec": {
   "display_name": "Python 3",
   "language": "python",
   "name": "python3"
  },
  "language_info": {
   "codemirror_mode": {
    "name": "ipython",
    "version": 3
   },
   "file_extension": ".py",
   "mimetype": "text/x-python",
   "name": "python",
   "nbconvert_exporter": "python",
   "pygments_lexer": "ipython3",
   "version": "3.6.8"
  }
 },
 "nbformat": 4,
 "nbformat_minor": 2
}
