{
 "cells": [
  {
   "cell_type": "markdown",
   "metadata": {},
   "source": [
    "# Lab 5 - Dependency parsing\n",
    "Laboration 5 in EDAN20 @ LTH - http://cs.lth.se/edan20/coursework/assignment-5/\n",
    "\n",
    "Author: Jonatan Kronander"
   ]
  },
  {
   "cell_type": "markdown",
   "metadata": {},
   "source": [
    "## Objectives\n",
    "The objectives of this assignment are to:\n",
    "* Know what a dependency graph is\n",
    "* Understand the principles of Nivre's parsing mechanisms\n",
    "* Extend Nivre's parser with a guiding predicate that parses an annotated dependency graph\n",
    "* Extract features to learn parsing actions from an annotated corpus\n",
    "* Write a short report on your results\n",
    "* In this assignment, you will only generate the machine-learning models from the extracted features. You will complete the parser and apply it in the next assignment.\n",
    "\n",
    "This assignment is inspired by the shared task of the Tenth conference on computational natural language learning,CONLL-X, and uses a subset of their data. The conference site contains a description of multilingual dependency parsing, reference papers, training and test sets for a variety of languages, as well as evaluation programs. See also CONLL 2007, on the same topic.\n",
    "\n",
    "Please note that the original CoNLL-X site is down. To access the pages, use the Archive.org site: https://web.archive.org/web/20161105025307/http://ilk.uvt.nl/conll/ and to download the data sets, use the local copies.\n",
    "\n",
    "In this session, you will implement a dependency parser for Swedish. Should you want to use another corpus, please tell me in advance."
   ]
  },
  {
   "cell_type": "markdown",
   "metadata": {},
   "source": [
    "## Choosing a training and a test sets"
   ]
  },
  {
   "cell_type": "markdown",
   "metadata": {},
   "source": [
    "Use the CONLL-X Swedish corpus. Download the tar archives containing the training and test sets for Swedish and uncompress them: \n",
    "http://fileadmin.cs.lth.se/cs/Education/EDAN20/corpus/conllx/sv/swedish_talbanken05_train.conll http://fileadmin.cs.lth.se/cs/Education/EDAN20/corpus/conllx/sv/swedish_talbanken05_test_blind.conll http://fileadmin.cs.lth.se/cs/Education/EDAN20/corpus/conllx/sv/swedish_talbanken05_test.conll"
   ]
  },
  {
   "cell_type": "code",
   "execution_count": 2,
   "metadata": {},
   "outputs": [],
   "source": [
    "from urllib.request import urlopen\n",
    "\n",
    "b_train_text = urlopen(\"http://fileadmin.cs.lth.se/cs/Education/EDAN20/corpus/conllx/sv/swedish_talbanken05_train.conll\").read() # Open file and read\n",
    "train_text = str(b_train_text,'utf-8')\n",
    "\n",
    "b_test_text = urlopen(\"http://fileadmin.cs.lth.se/cs/Education/EDAN20/corpus/conllx/sv/swedish_talbanken05_test.conll\").read() # Open file and read\n",
    "test_text = str(b_test_text,'utf-8')\n",
    "\n",
    "b_blind_test_text = urlopen(\"http://fileadmin.cs.lth.se/cs/Education/EDAN20/corpus/conllx/sv/swedish_talbanken05_test_blind.conll\").read() # Open file and read\n",
    "blind_test_text = str(b_blind_test_text,'utf-8')"
   ]
  },
  {
   "cell_type": "code",
   "execution_count": 9,
   "metadata": {},
   "outputs": [],
   "source": [
    "f_out = open('train.conll', 'w')\n",
    "\n",
    "for sentence in train_text:   \n",
    "    f_out.write(sentence)\n",
    "f_out.close()\n",
    "\n",
    "f_out = open('test.conll', 'w')\n",
    "\n",
    "for sentence in test_text:   \n",
    "    f_out.write(sentence)\n",
    "f_out.close()\n",
    "\n",
    "f_out = open('test_blind.conll', 'w')\n",
    "\n",
    "for sentence in blind_test_text:   \n",
    "    f_out.write(sentence)\n",
    "f_out.close()"
   ]
  },
  {
   "cell_type": "markdown",
   "metadata": {},
   "source": [
    "## Nivre's parser"
   ]
  },
  {
   "cell_type": "markdown",
   "metadata": {},
   "source": [
    "For each sentence with a projective dependency graph, there is an action sequence that enables Nivre's parser to generate this graph. Gold standard parsing corresponds to the sequence of parsing actions, left-arc (la), right-arc (ra), shift (sh), and reduce (re) that produces the manually-obtained, gold standard, graph.\n",
    "\n",
    "Using an annotated corpus, we can derive all the action sequences producing the manually-parsed sentences (provided that they are projective). We can then train a classifier to predict an action from a current parsing context. To be able to predict the next action from a given parsing state, gold standard parsing must also extract feature vectors at each step of the parsing procedure. The simplest parsing context corresponds to words' part of speech on the top of the stack and head of the input list (the queue).\n",
    "\n",
    "Once the data collected, the training procedure will produce a 4-class classifier that you will embed in Nivre's parser to choose the next action. During parsing, Nivre's parser will call the classifier to choose the next action in the set {la, ra, sh, re} using the current context."
   ]
  },
  {
   "cell_type": "markdown",
   "metadata": {},
   "source": [
    "#### 1.Run the dparser.py program."
   ]
  },
  {
   "cell_type": "code",
   "execution_count": 10,
   "metadata": {},
   "outputs": [
    {
     "name": "stdout",
     "output_type": "stream",
     "text": [
      "python dparser.py\n"
     ]
    },
    {
     "name": "stderr",
     "output_type": "stream",
     "text": [
      "IOPub data rate exceeded.\n",
      "The notebook server will temporarily stop sending output\n",
      "to the client in order to avoid crashing it.\n",
      "To change this limit, set the config variable\n",
      "`--NotebookApp.iopub_data_rate_limit`.\n",
      "\n",
      "Current values:\n",
      "NotebookApp.iopub_data_rate_limit=1000000.0 (bytes/sec)\n",
      "NotebookApp.rate_limit_window=3.0 (secs)\n",
      "\n"
     ]
    }
   ],
   "source": [
    "import subprocess\n",
    "\n",
    "cmd_1 = \"python dparser.py\"\n",
    "print(cmd_1)\n",
    "\n",
    "p = subprocess.Popen(cmd_1, stdout=subprocess.PIPE, shell=True)\n",
    "out_1, err = p.communicate() \n",
    "print(str(out_1,'utf-8'))"
   ]
  },
  {
   "cell_type": "code",
   "execution_count": 11,
   "metadata": {},
   "outputs": [],
   "source": [
    "out = str(out_1,'utf-8')"
   ]
  },
  {
   "cell_type": "code",
   "execution_count": 13,
   "metadata": {},
   "outputs": [
    {
     "name": "stdout",
     "output_type": "stream",
     "text": [
      "Equal graphs: True\n",
      "['sh', 'sh', 'sh', 'la.++', 'ra.CC', 're', 'la.SS', 'ra.ROOT', 'sh', 'sh', 'la.AT', 'la.DT', 'ra.SP', 'ra.IK', 'sh', 'la.SS', 're', 'ra.ET', 'ra.TA', 'ra.PA', 're', 're', 're', 're', 'ra.IP']\n",
      "{'heads': {'0': '0', '2': '3', '3': '1', '1': '4', '4': '0', '6': '7', '5': '7', '7': '4', '8': '7', '9': '10', '10': '7', '11': '10', '12': '11', '13': '4'}, 'deprels': {'0': 'ROOT', '2': '++', '3': 'CC', '1': 'SS', '4': 'ROOT', '6': 'AT', '5': 'DT', '7': 'SP', '8': 'IK', '9': 'SS', '10'\n"
     ]
    }
   ],
   "source": [
    "print(out[:500])"
   ]
  },
  {
   "cell_type": "markdown",
   "metadata": {},
   "source": [
    "#### 2. Understand from the slides and the program how Nivre's parser is extended to carry out a gold standard parsing. Given a manually-annotated dependency graph, what are the conditions on the stack and the current input list -- the queue -- to execute left-arc, right-arc, shift, or reduce? Start with left-arc and right-arc, which are the simplest ones. https://github.com/pnugues/ilppp/blob/master/slides/EDAN20_ch13.pdf"
   ]
  },
  {
   "cell_type": "code",
   "execution_count": null,
   "metadata": {},
   "outputs": [],
   "source": []
  }
 ],
 "metadata": {
  "kernelspec": {
   "display_name": "Python 3",
   "language": "python",
   "name": "python3"
  },
  "language_info": {
   "codemirror_mode": {
    "name": "ipython",
    "version": 3
   },
   "file_extension": ".py",
   "mimetype": "text/x-python",
   "name": "python",
   "nbconvert_exporter": "python",
   "pygments_lexer": "ipython3",
   "version": "3.6.8"
  }
 },
 "nbformat": 4,
 "nbformat_minor": 2
}
