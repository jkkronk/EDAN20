{
 "cells": [
  {
   "cell_type": "markdown",
   "metadata": {},
   "source": [
    "# lab 3 - Extracting noun groups using machine learning techniques"
   ]
  },
  {
   "cell_type": "markdown",
   "metadata": {},
   "source": [
    "## Objectives\n",
    "The objectives of this assignment are to:\n",
    "\n",
    "- Write a program to detect partial syntactic structures\n",
    "- Understand the principles of supervised machine learning techniques applied to language processing\n",
    "- Use a popular machine learning toolkit: scikit-learn\n",
    "- Write a short report of 1 to 2 pages on the assignment"
   ]
  },
  {
   "cell_type": "markdown",
   "metadata": {},
   "source": [
    "## Choosing a training and a test sets"
   ]
  },
  {
   "cell_type": "code",
   "execution_count": 14,
   "metadata": {},
   "outputs": [],
   "source": [
    "from urllib.request import urlopen\n",
    "\n",
    "b_train_text = urlopen(\"http://fileadmin.cs.lth.se/cs/Education/EDAN20/corpus/conll2000/train.txt\").read() # Open file and read\n",
    "train_text = str(b_train_text,'utf-8')\n",
    "b_test_text = urlopen(\"http://fileadmin.cs.lth.se/cs/Education/EDAN20/corpus/conll2000/test.txt\").read() # Open file and read\n",
    "test_text = str(b_test_text,'utf-8')"
   ]
  },
  {
   "cell_type": "code",
   "execution_count": 20,
   "metadata": {},
   "outputs": [
    {
     "name": "stdout",
     "output_type": "stream",
     "text": [
      "---TEXT EXAMPLE TRAIN---\n",
      " Confidence NN B-NP\n",
      "in IN B-PP\n",
      "the DT B-NP\n",
      "pound NN I-NP\n",
      "is VBZ B-VP\n",
      "widely RB I-VP\n",
      "expected VBN I-VP\n",
      "to TO I-VP\n",
      "take VB I-VP\n",
      "another DT B-NP\n",
      "sharp JJ I-NP\n",
      "dive NN I-NP\n",
      "if IN B-SBAR\n",
      "trade NN B-NP\n",
      "figur \n",
      " ---TEXT EXAMPLE TEST--- \n",
      " Rockwell NNP B-NP\n",
      "International NNP I-NP\n",
      "Corp. NNP I-NP\n",
      "'s POS B-NP\n",
      "Tulsa NNP I-NP\n",
      "unit NN I-NP\n",
      "said VBD B-VP\n",
      "it PRP B-NP\n",
      "signed VBD B-VP\n",
      "a DT B-NP\n",
      "tentative JJ I-NP\n",
      "agreement NN I-NP\n",
      "extending VBG B-\n"
     ]
    }
   ],
   "source": [
    "print(\"---TEXT EXAMPLE TRAIN---\\n\",train_text[:200], \"\\n ---TEXT EXAMPLE TEST--- \\n\",test_text[:200])"
   ]
  },
  {
   "cell_type": "code",
   "execution_count": 21,
   "metadata": {},
   "outputs": [],
   "source": [
    "import sklearn"
   ]
  },
  {
   "cell_type": "markdown",
   "metadata": {},
   "source": [
    "## Baseline"
   ]
  },
  {
   "cell_type": "markdown",
   "metadata": {},
   "source": [
    "Most statistical algorithms for language processing start with a so-called baseline. The baseline figure corresponds to the application of a minimal technique that is used to assess the difficulty of a task and for comparison with further programs."
   ]
  },
  {
   "cell_type": "markdown",
   "metadata": {},
   "source": [
    "#### 1. Read the baseline proposed by the organizers of the CoNLL 2000 shared task (In the Results Sect.). What do you think of it?\n"
   ]
  },
  {
   "cell_type": "markdown",
   "metadata": {},
   "source": [
    "They get pretty high score overall but no method applying advanced ml methods with deep neural networks. (Which is understandable since the conference was held at year 2000.) "
   ]
  },
  {
   "cell_type": "markdown",
   "metadata": {},
   "source": [
    "#### 2. Implement this baseline program. You may either create a completely new program or start from an existing program that you will modify. https://github.com/pnugues/ilppp/tree/master/programs/labs/chunking/chunker_python/\n"
   ]
  },
  {
   "cell_type": "markdown",
   "metadata": {},
   "source": [
    "Complete the train function so that it computes the chunk distribution for each part of speech. You will use the train file to derive your distribution and you will store the results in a dictionary. Below, you have an excerpt of the expected results:\n"
   ]
  },
  {
   "cell_type": "code",
   "execution_count": 42,
   "metadata": {},
   "outputs": [],
   "source": [
    "column_names = ['form', 'pos', 'chunk']"
   ]
  },
  {
   "cell_type": "code",
   "execution_count": 43,
   "metadata": {},
   "outputs": [],
   "source": [
    "# train_corpus = conll_reader.read_sentences(train_text)\n",
    "sentences_train = train_text.split('\\n\\n') "
   ]
  },
  {
   "cell_type": "code",
   "execution_count": 44,
   "metadata": {},
   "outputs": [],
   "source": [
    "# train_corpus = conll_reader.split_rows(train_corpus, column_names)\n",
    "train_corpus = []\n",
    "for sentence in sentences_train:\n",
    "    rows = sentence.split('\\n')\n",
    "    sentence = [dict(zip(column_names, row.split())) for row in rows]\n",
    "    train_corpus.append(sentence)"
   ]
  },
  {
   "cell_type": "code",
   "execution_count": 45,
   "metadata": {},
   "outputs": [],
   "source": [
    "# train_corpus = conll_reader.read_sentences(train_text)\n",
    "sentences_test = test_text.split('\\n\\n') "
   ]
  },
  {
   "cell_type": "code",
   "execution_count": 46,
   "metadata": {},
   "outputs": [],
   "source": [
    "# train_corpus = conll_reader.split_rows(train_corpus, column_names)\n",
    "test_corpus = []\n",
    "for sentence in sentences_test:\n",
    "    rows = sentence.split('\\n')\n",
    "    sentence = [dict(zip(column_names, row.split())) for row in rows]\n",
    "    test_corpus.append(sentence)"
   ]
  },
  {
   "cell_type": "code",
   "execution_count": 76,
   "metadata": {},
   "outputs": [
    {
     "data": {
      "text/plain": [
       "[{'form': 'Chancellor', 'pos': 'NNP', 'chunk': 'O'},\n",
       " {'form': 'of', 'pos': 'IN', 'chunk': 'B-PP'},\n",
       " {'form': 'the', 'pos': 'DT', 'chunk': 'B-NP'},\n",
       " {'form': 'Exchequer', 'pos': 'NNP', 'chunk': 'I-NP'},\n",
       " {'form': 'Nigel', 'pos': 'NNP', 'chunk': 'B-NP'},\n",
       " {'form': 'Lawson', 'pos': 'NNP', 'chunk': 'I-NP'},\n",
       " {'form': \"'s\", 'pos': 'POS', 'chunk': 'B-NP'},\n",
       " {'form': 'restated', 'pos': 'VBN', 'chunk': 'I-NP'},\n",
       " {'form': 'commitment', 'pos': 'NN', 'chunk': 'I-NP'},\n",
       " {'form': 'to', 'pos': 'TO', 'chunk': 'B-PP'},\n",
       " {'form': 'a', 'pos': 'DT', 'chunk': 'B-NP'},\n",
       " {'form': 'firm', 'pos': 'NN', 'chunk': 'I-NP'},\n",
       " {'form': 'monetary', 'pos': 'JJ', 'chunk': 'I-NP'},\n",
       " {'form': 'policy', 'pos': 'NN', 'chunk': 'I-NP'},\n",
       " {'form': 'has', 'pos': 'VBZ', 'chunk': 'B-VP'},\n",
       " {'form': 'helped', 'pos': 'VBN', 'chunk': 'I-VP'},\n",
       " {'form': 'to', 'pos': 'TO', 'chunk': 'I-VP'},\n",
       " {'form': 'prevent', 'pos': 'VB', 'chunk': 'I-VP'},\n",
       " {'form': 'a', 'pos': 'DT', 'chunk': 'B-NP'},\n",
       " {'form': 'freefall', 'pos': 'NN', 'chunk': 'I-NP'},\n",
       " {'form': 'in', 'pos': 'IN', 'chunk': 'B-PP'},\n",
       " {'form': 'sterling', 'pos': 'NN', 'chunk': 'B-NP'},\n",
       " {'form': 'over', 'pos': 'IN', 'chunk': 'B-PP'},\n",
       " {'form': 'the', 'pos': 'DT', 'chunk': 'B-NP'},\n",
       " {'form': 'past', 'pos': 'JJ', 'chunk': 'I-NP'},\n",
       " {'form': 'week', 'pos': 'NN', 'chunk': 'I-NP'},\n",
       " {'form': '.', 'pos': '.', 'chunk': 'O'}]"
      ]
     },
     "execution_count": 76,
     "metadata": {},
     "output_type": "execute_result"
    }
   ],
   "source": [
    "train_corpus[1]"
   ]
  },
  {
   "cell_type": "code",
   "execution_count": 110,
   "metadata": {},
   "outputs": [],
   "source": [
    "def count_pos(corpus):\n",
    "    \"\"\"\n",
    "    Computes the part-of-speech distribution\n",
    "    in a CoNLL 2000 file\n",
    "    :param corpus:\n",
    "    :return:\n",
    "    \"\"\"\n",
    "    pos_cnt = {}\n",
    "    for sentence in corpus:\n",
    "        for row in sentence:\n",
    "            if row == {}:\n",
    "                continue\n",
    "            if row['pos'] in pos_cnt:\n",
    "                pos_cnt[row['pos']] += 1\n",
    "            else:\n",
    "                pos_cnt[row['pos']] = 1\n",
    "    return pos_cnt"
   ]
  },
  {
   "cell_type": "code",
   "execution_count": 114,
   "metadata": {},
   "outputs": [],
   "source": [
    "def train(corpus):\n",
    "    \"\"\"\n",
    "    Computes the chunk distribution by pos\n",
    "    The result is stored in a dictionary\n",
    "    :param corpus:\n",
    "    :return:\n",
    "    \"\"\"\n",
    "    pos_cnt = count_pos(corpus)\n",
    "    # We compute the chunk distribution by POS\n",
    "    chunk_dist = {key: {} for key in pos_cnt.keys()}\n",
    "    \n",
    "    \n",
    "    \"\"\"\n",
    "    Fill in code to compute the chunk distribution for each part of speech\n",
    "    \"\"\"\n",
    "\n",
    "    # We determine the best association\n",
    "    pos_chunk = {}\n",
    "    \"\"\"\n",
    "    Fill in code so that for each part of speech, you select the most frequent chunk.\n",
    "    You will build a dictionary with key values:\n",
    "    pos_chunk[pos] = most frequent chunk for pos\n",
    "    \"\"\"\n",
    "    return pos_chunk"
   ]
  },
  {
   "cell_type": "code",
   "execution_count": 112,
   "metadata": {},
   "outputs": [],
   "source": [
    "model = train(new_sentences_train)"
   ]
  },
  {
   "cell_type": "code",
   "execution_count": 113,
   "metadata": {},
   "outputs": [
    {
     "name": "stdout",
     "output_type": "stream",
     "text": [
      "{}\n"
     ]
    }
   ],
   "source": [
    "print(model)"
   ]
  },
  {
   "cell_type": "code",
   "execution_count": 91,
   "metadata": {},
   "outputs": [],
   "source": [
    "def predict(model, corpus):\n",
    "    \"\"\"\n",
    "    Predicts the chunk from the part of speech\n",
    "    Adds a pchunk column\n",
    "    :param model:\n",
    "    :param corpus:\n",
    "    :return:\n",
    "    \"\"\"\n",
    "    \"\"\"\n",
    "    We add a predicted chunk column: pchunk\n",
    "    \"\"\"\n",
    "    for sentence in corpus:\n",
    "        for row in sentence:\n",
    "            print(model)\n",
    "            print(row['pos'])\n",
    "            row['pchunk'] = model[row['pos']]\n",
    "    return corpus"
   ]
  },
  {
   "cell_type": "code",
   "execution_count": 92,
   "metadata": {},
   "outputs": [
    {
     "name": "stdout",
     "output_type": "stream",
     "text": [
      "{}\n",
      "NNP\n"
     ]
    },
    {
     "ename": "KeyError",
     "evalue": "'NNP'",
     "output_type": "error",
     "traceback": [
      "\u001b[0;31m---------------------------------------------------------------------------\u001b[0m",
      "\u001b[0;31mKeyError\u001b[0m                                  Traceback (most recent call last)",
      "\u001b[0;32m<ipython-input-92-602094c48543>\u001b[0m in \u001b[0;36m<module>\u001b[0;34m()\u001b[0m\n\u001b[0;32m----> 1\u001b[0;31m \u001b[0mpredicted\u001b[0m \u001b[0;34m=\u001b[0m \u001b[0mpredict\u001b[0m\u001b[0;34m(\u001b[0m\u001b[0mmodel\u001b[0m\u001b[0;34m,\u001b[0m \u001b[0mtest_corpus\u001b[0m\u001b[0;34m)\u001b[0m\u001b[0;34m\u001b[0m\u001b[0;34m\u001b[0m\u001b[0m\n\u001b[0m",
      "\u001b[0;32m<ipython-input-91-80515afd082d>\u001b[0m in \u001b[0;36mpredict\u001b[0;34m(model, corpus)\u001b[0m\n\u001b[1;32m     14\u001b[0m             \u001b[0mprint\u001b[0m\u001b[0;34m(\u001b[0m\u001b[0mmodel\u001b[0m\u001b[0;34m)\u001b[0m\u001b[0;34m\u001b[0m\u001b[0;34m\u001b[0m\u001b[0m\n\u001b[1;32m     15\u001b[0m             \u001b[0mprint\u001b[0m\u001b[0;34m(\u001b[0m\u001b[0mrow\u001b[0m\u001b[0;34m[\u001b[0m\u001b[0;34m'pos'\u001b[0m\u001b[0;34m]\u001b[0m\u001b[0;34m)\u001b[0m\u001b[0;34m\u001b[0m\u001b[0;34m\u001b[0m\u001b[0m\n\u001b[0;32m---> 16\u001b[0;31m             \u001b[0mrow\u001b[0m\u001b[0;34m[\u001b[0m\u001b[0;34m'pchunk'\u001b[0m\u001b[0;34m]\u001b[0m \u001b[0;34m=\u001b[0m \u001b[0mmodel\u001b[0m\u001b[0;34m[\u001b[0m\u001b[0mrow\u001b[0m\u001b[0;34m[\u001b[0m\u001b[0;34m'pos'\u001b[0m\u001b[0;34m]\u001b[0m\u001b[0;34m]\u001b[0m\u001b[0;34m\u001b[0m\u001b[0;34m\u001b[0m\u001b[0m\n\u001b[0m\u001b[1;32m     17\u001b[0m     \u001b[0;32mreturn\u001b[0m \u001b[0mcorpus\u001b[0m\u001b[0;34m\u001b[0m\u001b[0;34m\u001b[0m\u001b[0m\n",
      "\u001b[0;31mKeyError\u001b[0m: 'NNP'"
     ]
    }
   ],
   "source": [
    "predicted = predict(model, test_corpus)"
   ]
  },
  {
   "cell_type": "code",
   "execution_count": null,
   "metadata": {},
   "outputs": [],
   "source": []
  },
  {
   "cell_type": "code",
   "execution_count": null,
   "metadata": {},
   "outputs": [],
   "source": []
  }
 ],
 "metadata": {
  "kernelspec": {
   "display_name": "Python 3",
   "language": "python",
   "name": "python3"
  },
  "language_info": {
   "codemirror_mode": {
    "name": "ipython",
    "version": 3
   },
   "file_extension": ".py",
   "mimetype": "text/x-python",
   "name": "python",
   "nbconvert_exporter": "python",
   "pygments_lexer": "ipython3",
   "version": "3.6.8"
  }
 },
 "nbformat": 4,
 "nbformat_minor": 2
}
